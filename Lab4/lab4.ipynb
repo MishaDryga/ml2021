{
 "cells": [
  {
   "cell_type": "markdown",
   "metadata": {},
   "source": [
    "# Лабораторна робота 4\n",
    "### Студента групи МІТ-31 (підгрупа 1)\n",
    "### Дриги Михайла Сергійовича\n",
    "\n",
    "## Завдання\n",
    "1. Здійснити загальні операції з використанням TensorFlow (створити набір даних (розмір за власним рішенням) у вигляді тензорів, провести CRUD операції над даними (скаляр, вектор, матриця)).\n",
    "2. Згенерувати набір даних для регресії та класифікації з використанням TensorFlow\n",
    "3. Здійснити графічний аналіз наборів даних за допомогою Matplotlib\n",
    "4. Відповіді оформити .ipynb документом\n",
    "5. Викласти у зазначений репозіторій GitHub в окремій папці з назвою Lab4 де має бути .ipynb файл та необхідні файли з даними"
   ]
  },
  {
   "cell_type": "code",
   "execution_count": 1,
   "metadata": {},
   "outputs": [
    {
     "name": "stdout",
     "output_type": "stream",
     "text": [
      "Requirement already satisfied: tensorflow in c:\\users\\mkarlos\\anaconda3\\lib\\site-packages (2.6.0)\n",
      "Requirement already satisfied: numpy~=1.19.2 in c:\\users\\mkarlos\\anaconda3\\lib\\site-packages (from tensorflow) (1.19.5)\n",
      "Requirement already satisfied: clang~=5.0 in c:\\users\\mkarlos\\anaconda3\\lib\\site-packages (from tensorflow) (5.0)\n",
      "Requirement already satisfied: gast==0.4.0 in c:\\users\\mkarlos\\anaconda3\\lib\\site-packages (from tensorflow) (0.4.0)\n",
      "Requirement already satisfied: absl-py~=0.10 in c:\\users\\mkarlos\\anaconda3\\lib\\site-packages (from tensorflow) (0.15.0)\n",
      "Requirement already satisfied: wheel~=0.35 in c:\\users\\mkarlos\\anaconda3\\lib\\site-packages (from tensorflow) (0.36.2)\n",
      "Requirement already satisfied: six~=1.15.0 in c:\\users\\mkarlos\\anaconda3\\lib\\site-packages (from tensorflow) (1.15.0)\n",
      "Requirement already satisfied: grpcio<2.0,>=1.37.0 in c:\\users\\mkarlos\\anaconda3\\lib\\site-packages (from tensorflow) (1.41.0)\n",
      "Requirement already satisfied: opt-einsum~=3.3.0 in c:\\users\\mkarlos\\anaconda3\\lib\\site-packages (from tensorflow) (3.3.0)\n",
      "Requirement already satisfied: flatbuffers~=1.12.0 in c:\\users\\mkarlos\\anaconda3\\lib\\site-packages (from tensorflow) (1.12)\n",
      "Requirement already satisfied: keras~=2.6 in c:\\users\\mkarlos\\anaconda3\\lib\\site-packages (from tensorflow) (2.6.0)\n",
      "Requirement already satisfied: keras-preprocessing~=1.1.2 in c:\\users\\mkarlos\\anaconda3\\lib\\site-packages (from tensorflow) (1.1.2)\n",
      "Requirement already satisfied: wrapt~=1.12.1 in c:\\users\\mkarlos\\anaconda3\\lib\\site-packages (from tensorflow) (1.12.1)\n",
      "Requirement already satisfied: tensorboard~=2.6 in c:\\users\\mkarlos\\anaconda3\\lib\\site-packages (from tensorflow) (2.7.0)\n",
      "Requirement already satisfied: astunparse~=1.6.3 in c:\\users\\mkarlos\\anaconda3\\lib\\site-packages (from tensorflow) (1.6.3)\n",
      "Requirement already satisfied: tensorflow-estimator~=2.6 in c:\\users\\mkarlos\\anaconda3\\lib\\site-packages (from tensorflow) (2.6.0)\n",
      "Requirement already satisfied: google-pasta~=0.2 in c:\\users\\mkarlos\\anaconda3\\lib\\site-packages (from tensorflow) (0.2.0)\n",
      "Requirement already satisfied: protobuf>=3.9.2 in c:\\users\\mkarlos\\anaconda3\\lib\\site-packages (from tensorflow) (3.18.1)\n",
      "Requirement already satisfied: termcolor~=1.1.0 in c:\\users\\mkarlos\\anaconda3\\lib\\site-packages (from tensorflow) (1.1.0)\n",
      "Requirement already satisfied: h5py~=3.1.0 in c:\\users\\mkarlos\\anaconda3\\lib\\site-packages (from tensorflow) (3.1.0)\n",
      "Requirement already satisfied: typing-extensions~=3.7.4 in c:\\users\\mkarlos\\anaconda3\\lib\\site-packages (from tensorflow) (3.7.4.3)\n",
      "Requirement already satisfied: tensorboard-data-server<0.7.0,>=0.6.0 in c:\\users\\mkarlos\\anaconda3\\lib\\site-packages (from tensorboard~=2.6->tensorflow) (0.6.1)\n",
      "Requirement already satisfied: tensorboard-plugin-wit>=1.6.0 in c:\\users\\mkarlos\\anaconda3\\lib\\site-packages (from tensorboard~=2.6->tensorflow) (1.8.0)\n",
      "Requirement already satisfied: google-auth-oauthlib<0.5,>=0.4.1 in c:\\users\\mkarlos\\anaconda3\\lib\\site-packages (from tensorboard~=2.6->tensorflow) (0.4.6)\n",
      "Requirement already satisfied: setuptools>=41.0.0 in c:\\users\\mkarlos\\anaconda3\\lib\\site-packages (from tensorboard~=2.6->tensorflow) (52.0.0.post20210125)\n",
      "Requirement already satisfied: werkzeug>=0.11.15 in c:\\users\\mkarlos\\anaconda3\\lib\\site-packages (from tensorboard~=2.6->tensorflow) (1.0.1)\n",
      "Requirement already satisfied: google-auth<3,>=1.6.3 in c:\\users\\mkarlos\\anaconda3\\lib\\site-packages (from tensorboard~=2.6->tensorflow) (2.3.0)\n",
      "Requirement already satisfied: markdown>=2.6.8 in c:\\users\\mkarlos\\anaconda3\\lib\\site-packages (from tensorboard~=2.6->tensorflow) (3.3.4)\n",
      "Requirement already satisfied: requests<3,>=2.21.0 in c:\\users\\mkarlos\\anaconda3\\lib\\site-packages (from tensorboard~=2.6->tensorflow) (2.25.1)\n",
      "Requirement already satisfied: pyasn1-modules>=0.2.1 in c:\\users\\mkarlos\\anaconda3\\lib\\site-packages (from google-auth<3,>=1.6.3->tensorboard~=2.6->tensorflow) (0.2.8)\n",
      "Requirement already satisfied: rsa<5,>=3.1.4 in c:\\users\\mkarlos\\anaconda3\\lib\\site-packages (from google-auth<3,>=1.6.3->tensorboard~=2.6->tensorflow) (4.7.2)\n",
      "Requirement already satisfied: cachetools<5.0,>=2.0.0 in c:\\users\\mkarlos\\anaconda3\\lib\\site-packages (from google-auth<3,>=1.6.3->tensorboard~=2.6->tensorflow) (4.2.4)\n",
      "Requirement already satisfied: requests-oauthlib>=0.7.0 in c:\\users\\mkarlos\\anaconda3\\lib\\site-packages (from google-auth-oauthlib<0.5,>=0.4.1->tensorboard~=2.6->tensorflow) (1.3.0)\n",
      "Requirement already satisfied: pyasn1<0.5.0,>=0.4.6 in c:\\users\\mkarlos\\anaconda3\\lib\\site-packages (from pyasn1-modules>=0.2.1->google-auth<3,>=1.6.3->tensorboard~=2.6->tensorflow) (0.4.8)\n",
      "Requirement already satisfied: idna<3,>=2.5 in c:\\users\\mkarlos\\anaconda3\\lib\\site-packages (from requests<3,>=2.21.0->tensorboard~=2.6->tensorflow) (2.10)\n",
      "Requirement already satisfied: chardet<5,>=3.0.2 in c:\\users\\mkarlos\\anaconda3\\lib\\site-packages (from requests<3,>=2.21.0->tensorboard~=2.6->tensorflow) (4.0.0)\n",
      "Requirement already satisfied: urllib3<1.27,>=1.21.1 in c:\\users\\mkarlos\\anaconda3\\lib\\site-packages (from requests<3,>=2.21.0->tensorboard~=2.6->tensorflow) (1.26.4)\n",
      "Requirement already satisfied: certifi>=2017.4.17 in c:\\users\\mkarlos\\anaconda3\\lib\\site-packages (from requests<3,>=2.21.0->tensorboard~=2.6->tensorflow) (2020.12.5)\n",
      "Requirement already satisfied: oauthlib>=3.0.0 in c:\\users\\mkarlos\\anaconda3\\lib\\site-packages (from requests-oauthlib>=0.7.0->google-auth-oauthlib<0.5,>=0.4.1->tensorboard~=2.6->tensorflow) (3.1.1)\n",
      "Note: you may need to restart the kernel to use updated packages.\n"
     ]
    }
   ],
   "source": [
    "%pip install tensorflow"
   ]
  },
  {
   "cell_type": "code",
   "execution_count": 1,
   "metadata": {},
   "outputs": [],
   "source": [
    "import pandas as pd\n",
    "import numpy as np\n",
    "import matplotlib.pyplot as plt\n",
    "import seaborn as sns\n",
    "from sklearn.datasets import make_regression\n",
    "import tensorflow as tf"
   ]
  },
  {
   "cell_type": "markdown",
   "metadata": {},
   "source": [
    "## Завдання 1"
   ]
  },
  {
   "cell_type": "code",
   "execution_count": 2,
   "metadata": {},
   "outputs": [
    {
     "name": "stdout",
     "output_type": "stream",
     "text": [
      "tf.Tensor(\n",
      "[[1 2 3]\n",
      " [4 5 6]\n",
      " [7 8 9]], shape=(3, 3), dtype=int32)\n",
      "[[ 1  4  9]\n",
      " [16 25 36]\n",
      " [49 64 81]]\n",
      "tf.Tensor(\n",
      "[[101 102 103]\n",
      " [104 105 106]\n",
      " [107 108 109]], shape=(3, 3), dtype=int32)\n",
      "tf.Tensor([[104 105 106]], shape=(1, 3), dtype=int32)\n"
     ]
    }
   ],
   "source": [
    "tf1 = tf.constant([[1, 2, 3], [4, 5, 6], [7, 8, 9]])\n",
    "print(tf1)\n",
    "print(np.square(tf1))\n",
    "tf1 = tf1 + 100\n",
    "print(tf1)\n",
    "tf1_new = tf.gather(tf1, [1])\n",
    "print(tf1_new)"
   ]
  },
  {
   "cell_type": "code",
   "execution_count": 3,
   "metadata": {},
   "outputs": [
    {
     "data": {
      "text/plain": [
       "<tf.Tensor: shape=(), dtype=int32, numpy=9>"
      ]
     },
     "execution_count": 3,
     "metadata": {},
     "output_type": "execute_result"
    }
   ],
   "source": [
    "scalar = tf.constant(9)\n",
    "scalar"
   ]
  },
  {
   "cell_type": "code",
   "execution_count": 4,
   "metadata": {},
   "outputs": [
    {
     "data": {
      "text/plain": [
       "0"
      ]
     },
     "execution_count": 4,
     "metadata": {},
     "output_type": "execute_result"
    }
   ],
   "source": [
    "scalar.ndim"
   ]
  },
  {
   "cell_type": "code",
   "execution_count": 5,
   "metadata": {},
   "outputs": [
    {
     "data": {
      "text/plain": [
       "<tf.Tensor: shape=(3,), dtype=int32, numpy=array([18, 12, 15])>"
      ]
     },
     "execution_count": 5,
     "metadata": {},
     "output_type": "execute_result"
    }
   ],
   "source": [
    "vector = tf.constant([18, 12, 15])\n",
    "vector"
   ]
  },
  {
   "cell_type": "code",
   "execution_count": 6,
   "metadata": {},
   "outputs": [
    {
     "data": {
      "text/plain": [
       "1"
      ]
     },
     "execution_count": 6,
     "metadata": {},
     "output_type": "execute_result"
    }
   ],
   "source": [
    "vector.ndim"
   ]
  },
  {
   "cell_type": "code",
   "execution_count": 7,
   "metadata": {},
   "outputs": [
    {
     "data": {
      "text/plain": [
       "<tf.Tensor: shape=(3, 3), dtype=int32, numpy=\n",
       "array([[1, 2, 3],\n",
       "       [4, 5, 6],\n",
       "       [7, 8, 9]])>"
      ]
     },
     "execution_count": 7,
     "metadata": {},
     "output_type": "execute_result"
    }
   ],
   "source": [
    "mat1 = tf.constant([[1, 2, 3], [4, 5, 6], [7, 8, 9]])\n",
    "mat1"
   ]
  },
  {
   "cell_type": "code",
   "execution_count": 8,
   "metadata": {},
   "outputs": [
    {
     "data": {
      "text/plain": [
       "2"
      ]
     },
     "execution_count": 8,
     "metadata": {},
     "output_type": "execute_result"
    }
   ],
   "source": [
    "mat1.ndim"
   ]
  },
  {
   "cell_type": "code",
   "execution_count": 9,
   "metadata": {},
   "outputs": [
    {
     "data": {
      "text/plain": [
       "<tf.Tensor: shape=(3, 3), dtype=float16, numpy=\n",
       "array([[1., 2., 3.],\n",
       "       [4., 5., 6.],\n",
       "       [7., 8., 9.]], dtype=float16)>"
      ]
     },
     "execution_count": 9,
     "metadata": {},
     "output_type": "execute_result"
    }
   ],
   "source": [
    "mat2 = tf.constant([[1., 2., 3.],\n",
    "                    [4., 5., 6.],\n",
    "                    [7., 8., 9.]], dtype=tf.float16)\n",
    "\n",
    "mat2"
   ]
  },
  {
   "cell_type": "code",
   "execution_count": 10,
   "metadata": {},
   "outputs": [
    {
     "data": {
      "text/plain": [
       "2"
      ]
     },
     "execution_count": 10,
     "metadata": {},
     "output_type": "execute_result"
    }
   ],
   "source": [
    "mat2.ndim"
   ]
  },
  {
   "cell_type": "code",
   "execution_count": 11,
   "metadata": {},
   "outputs": [
    {
     "data": {
      "text/plain": [
       "<tf.Tensor: shape=(3, 2, 3), dtype=int32, numpy=\n",
       "array([[[ 1,  2,  3],\n",
       "        [ 4,  5,  6]],\n",
       "\n",
       "       [[ 7,  8,  9],\n",
       "        [10, 11, 12]],\n",
       "\n",
       "       [[13, 14, 15],\n",
       "        [16, 17, 18]]])>"
      ]
     },
     "execution_count": 11,
     "metadata": {},
     "output_type": "execute_result"
    }
   ],
   "source": [
    "tensor = tf.constant([[[1, 2, 3,],\n",
    "                       [4, 5, 6]],\n",
    "                      [[7, 8, 9],\n",
    "                       [10, 11, 12]],\n",
    "                      [[13, 14, 15],\n",
    "                       [16, 17, 18]]])\n",
    "tensor"
   ]
  },
  {
   "cell_type": "code",
   "execution_count": 12,
   "metadata": {},
   "outputs": [
    {
     "data": {
      "text/plain": [
       "3"
      ]
     },
     "execution_count": 12,
     "metadata": {},
     "output_type": "execute_result"
    }
   ],
   "source": [
    "tensor.ndim"
   ]
  },
  {
   "cell_type": "code",
   "execution_count": 13,
   "metadata": {},
   "outputs": [],
   "source": [
    "rnd1 = tf.random.Generator.from_seed(70)\n",
    "rnd1 = rnd1.normal(shape=(40, 20))\n",
    "rnd2 = tf.random.Generator.from_seed(10)\n",
    "rnd2 = rnd2.normal(shape=(50, 30))"
   ]
  },
  {
   "cell_type": "code",
   "execution_count": 14,
   "metadata": {},
   "outputs": [
    {
     "name": "stdout",
     "output_type": "stream",
     "text": [
      "   x1  x2  x3  x4  x5  x6  x7  x8\n",
      "0   7   8   0   2   9   8   4   6\n",
      "1   7   6   3   7   2   6   2   7\n",
      "2   3   1   3   8   0   8   0   3\n",
      "3   8   2   4   9   4   9   2   5\n",
      "4   3   3   8   3   2   7   2   5\n",
      "5   5   0   7   4   5   5   5   4\n",
      "6   6   5   0   3   6   3   1   1\n",
      "7   5   9   2   5   6   2   5   1\n",
      "            x1        x2        x3        x4        x5        x6        x7  \\\n",
      "count  8.00000  8.000000  8.000000  8.000000  8.000000  8.000000  8.000000   \n",
      "mean   5.50000  4.250000  3.375000  5.125000  4.250000  6.000000  2.625000   \n",
      "std    1.85164  3.284161  2.924649  2.587746  2.866058  2.507133  1.846812   \n",
      "min    3.00000  0.000000  0.000000  2.000000  0.000000  2.000000  0.000000   \n",
      "25%    4.50000  1.750000  1.500000  3.000000  2.000000  4.500000  1.750000   \n",
      "50%    5.50000  4.000000  3.000000  4.500000  4.500000  6.500000  2.000000   \n",
      "75%    7.00000  6.500000  4.750000  7.250000  6.000000  8.000000  4.250000   \n",
      "max    8.00000  9.000000  8.000000  9.000000  9.000000  9.000000  5.000000   \n",
      "\n",
      "             x8  \n",
      "count  8.000000  \n",
      "mean   4.000000  \n",
      "std    2.203893  \n",
      "min    1.000000  \n",
      "25%    2.500000  \n",
      "50%    4.500000  \n",
      "75%    5.250000  \n",
      "max    7.000000  \n"
     ]
    }
   ],
   "source": [
    "df2 = pd.DataFrame(np.random.randint(0, 10, (8, 8)), columns=[\"x1\", \"x2\", \"x3\", \"x4\", \"x5\", \"x6\", \"x7\", \"x8\"])\n",
    "print(df2)\n",
    "print(df2.describe(include='all'))"
   ]
  },
  {
   "cell_type": "code",
   "execution_count": 15,
   "metadata": {},
   "outputs": [
    {
     "name": "stdout",
     "output_type": "stream",
     "text": [
      "   feature1  feature2  feature3  target\n",
      "0  0.623089  0.102139  0.339962       4\n",
      "1  0.139001  0.688161  0.475922       4\n",
      "2  0.094177  0.768642  0.815292       3\n",
      "3  0.101140  0.300277  0.709210       4\n",
      "4  0.299023  0.759018  0.384561       2\n",
      "5  0.694766  0.039271  0.685381       4\n",
      "6  0.156015  0.864218  0.544143       4\n",
      "7  0.599717  0.158236  0.590926       3\n",
      "8  0.727299  0.129421  0.363813       0\n",
      "9  0.932317  0.719258  0.606815       1\n",
      "features:[0.62308913 0.10213922 0.33996198] target:4\n",
      "features:[0.13900125 0.6881614  0.47592226] target:4\n",
      "features:[0.09417676 0.76864165 0.8152916 ] target:3\n",
      "features:[0.1011395  0.30027735 0.70920974] target:4\n",
      "features:[0.29902333 0.7590178  0.3845608 ] target:2\n",
      "features:[0.6947663  0.03927094 0.6853805 ] target:4\n",
      "features:[0.15601538 0.8642182  0.5441435 ] target:4\n",
      "features:[0.5997166  0.15823646 0.59092647] target:3\n",
      "features:[0.7272991  0.1294212  0.36381328] target:0\n",
      "features:[0.932317  0.7192584 0.6068146] target:1\n"
     ]
    }
   ],
   "source": [
    "training_df: pd.DataFrame = pd.DataFrame(\n",
    "    data={\n",
    "        'feature1': np.random.rand(10),\n",
    "        'feature2': np.random.rand(10),\n",
    "        'feature3': np.random.rand(10),\n",
    "        'target': np.random.randint(0, 5, 10)\n",
    "    }\n",
    ")\n",
    "features = ['feature1', 'feature2', 'feature3']\n",
    "print(training_df)\n",
    "\n",
    "training_dataset = (\n",
    "    tf.data.Dataset.from_tensor_slices(\n",
    "        (\n",
    "            tf.cast(training_df[features].values, tf.float32),\n",
    "            tf.cast(training_df['target'].values, tf.int32)\n",
    "        )\n",
    "    )\n",
    ")\n",
    "\n",
    "for features_tensor, target_tensor in training_dataset:\n",
    "    print(f'features:{features_tensor} target:{target_tensor}')"
   ]
  },
  {
   "cell_type": "code",
   "execution_count": 16,
   "metadata": {},
   "outputs": [
    {
     "data": {
      "image/png": "[encoded data removed]",
      "text/plain": [
       "<Figure size 432x288 with 1 Axes>"
      ]
     },
     "metadata": {
      "needs_background": "light"
     },
     "output_type": "display_data"
    }
   ],
   "source": [
    "x = np.arange(0, 5, 0.5)\n",
    "y1 = x * 2\n",
    "\n",
    "adder = np.random.random(len(x)) * 1.5 - 0.7\n",
    "y2 = y1 + adder\n",
    "\n",
    "plt.figure()\n",
    "plt.grid()\n",
    "plt.xticks(x)\n",
    "plt.yticks(range(int(x[-1] * 1.5 + 1)))\n",
    "plt.xlabel('X')\n",
    "plt.ylabel('Y')\n",
    "\n",
    "plt.plot(x, y1, \"r--\", label=\"prediction\")\n",
    "plt.plot(x, y2, \"b\", label=\"result\")\n",
    "\n",
    "plt.legend()\n",
    "plt.show()"
   ]
  },
  {
   "cell_type": "code",
   "execution_count": 17,
   "metadata": {},
   "outputs": [
    {
     "name": "stdout",
     "output_type": "stream",
     "text": [
      "0.281226263532358\n",
      "0.11324882229235896\n"
     ]
    }
   ],
   "source": [
    "import sklearn.metrics as metrics\n",
    "mae = metrics.mean_absolute_error(y2, y1)\n",
    "mse = metrics.mean_squared_error(y2, y1)\n",
    "print(mae)\n",
    "print(mse)"
   ]
  },
  {
   "cell_type": "code",
   "execution_count": 18,
   "metadata": {},
   "outputs": [
    {
     "name": "stdout",
     "output_type": "stream",
     "text": [
      "     X         Y  Y_hat\n",
      "0  0.0  0.196992    0.0\n",
      "1  0.5  1.032074    1.0\n",
      "2  1.0  2.600798    2.0\n",
      "3  1.5  2.711902    3.0\n",
      "4  2.0  4.200925    4.0\n",
      "5  2.5  4.691550    5.0\n",
      "6  3.0  6.008916    6.0\n",
      "7  3.5  7.459924    7.0\n",
      "8  4.0  8.207736    8.0\n",
      "9  4.5  8.491651    9.0\n"
     ]
    }
   ],
   "source": [
    "df = pd.DataFrame(np.array([x, y2, y1]).swapaxes(0,1), columns=['X', 'Y', 'Y_hat'])\n",
    "print(df)\n",
    "with open('data.csv', 'w') as f:\n",
    "    f.write(df.to_csv(index=False))"
   ]
  },
  {
   "cell_type": "code",
   "execution_count": 19,
   "metadata": {},
   "outputs": [
    {
     "name": "stdout",
     "output_type": "stream",
     "text": [
      "Epoch 1/80\n",
      "1/1 [==============================] - 0s 330ms/step - loss: 3.2174 - mae: 3.2174\n",
      "Epoch 2/80\n",
      "1/1 [==============================] - 0s 2ms/step - loss: 3.1595 - mae: 3.1595\n",
      "Epoch 3/80\n",
      "1/1 [==============================] - 0s 2ms/step - loss: 3.1025 - mae: 3.1025\n",
      "Epoch 4/80\n",
      "1/1 [==============================] - 0s 3ms/step - loss: 3.0455 - mae: 3.0455\n",
      "Epoch 5/80\n",
      "1/1 [==============================] - 0s 2ms/step - loss: 2.9885 - mae: 2.9885\n",
      "Epoch 6/80\n",
      "1/1 [==============================] - 0s 3ms/step - loss: 2.9314 - mae: 2.9314\n",
      "Epoch 7/80\n",
      "1/1 [==============================] - 0s 2ms/step - loss: 2.8744 - mae: 2.8744\n",
      "Epoch 8/80\n",
      "1/1 [==============================] - 0s 3ms/step - loss: 2.8174 - mae: 2.8174\n",
      "Epoch 9/80\n",
      "1/1 [==============================] - 0s 2ms/step - loss: 2.7604 - mae: 2.7604\n",
      "Epoch 10/80\n",
      "1/1 [==============================] - 0s 3ms/step - loss: 2.7033 - mae: 2.7033\n",
      "Epoch 11/80\n",
      "1/1 [==============================] - 0s 5ms/step - loss: 2.6463 - mae: 2.6463\n",
      "Epoch 12/80\n",
      "1/1 [==============================] - 0s 4ms/step - loss: 2.5893 - mae: 2.5893\n",
      "Epoch 13/80\n",
      "1/1 [==============================] - 0s 3ms/step - loss: 2.5323 - mae: 2.5323\n",
      "Epoch 14/80\n",
      "1/1 [==============================] - 0s 2ms/step - loss: 2.4752 - mae: 2.4752\n",
      "Epoch 15/80\n",
      "1/1 [==============================] - 0s 3ms/step - loss: 2.4182 - mae: 2.4182\n",
      "Epoch 16/80\n",
      "1/1 [==============================] - 0s 6ms/step - loss: 2.3612 - mae: 2.3612\n",
      "Epoch 17/80\n",
      "1/1 [==============================] - 0s 2ms/step - loss: 2.3042 - mae: 2.3042\n",
      "Epoch 18/80\n",
      "1/1 [==============================] - 0s 5ms/step - loss: 2.2471 - mae: 2.2471\n",
      "Epoch 19/80\n",
      "1/1 [==============================] - 0s 2ms/step - loss: 2.1901 - mae: 2.1901\n",
      "Epoch 20/80\n",
      "1/1 [==============================] - 0s 2ms/step - loss: 2.1331 - mae: 2.1331\n",
      "Epoch 21/80\n",
      "1/1 [==============================] - 0s 5ms/step - loss: 2.0761 - mae: 2.0761\n",
      "Epoch 22/80\n",
      "1/1 [==============================] - 0s 2ms/step - loss: 2.0190 - mae: 2.0190\n",
      "Epoch 23/80\n",
      "1/1 [==============================] - 0s 3ms/step - loss: 1.9620 - mae: 1.9620\n",
      "Epoch 24/80\n",
      "1/1 [==============================] - 0s 3ms/step - loss: 1.9050 - mae: 1.9050\n",
      "Epoch 25/80\n",
      "1/1 [==============================] - 0s 3ms/step - loss: 1.8480 - mae: 1.8480\n",
      "Epoch 26/80\n",
      "1/1 [==============================] - 0s 3ms/step - loss: 1.7909 - mae: 1.7909\n",
      "Epoch 27/80\n",
      "1/1 [==============================] - 0s 5ms/step - loss: 1.7339 - mae: 1.7339\n",
      "Epoch 28/80\n",
      "1/1 [==============================] - 0s 3ms/step - loss: 1.6769 - mae: 1.6769\n",
      "Epoch 29/80\n",
      "1/1 [==============================] - 0s 3ms/step - loss: 1.6199 - mae: 1.6199\n",
      "Epoch 30/80\n",
      "1/1 [==============================] - 0s 7ms/step - loss: 1.5628 - mae: 1.5628\n",
      "Epoch 31/80\n",
      "1/1 [==============================] - 0s 2ms/step - loss: 1.5058 - mae: 1.5058\n",
      "Epoch 32/80\n",
      "1/1 [==============================] - 0s 3ms/step - loss: 1.4488 - mae: 1.4488\n",
      "Epoch 33/80\n",
      "1/1 [==============================] - 0s 3ms/step - loss: 1.3918 - mae: 1.3918\n",
      "Epoch 34/80\n",
      "1/1 [==============================] - 0s 2ms/step - loss: 1.3347 - mae: 1.3347\n",
      "Epoch 35/80\n",
      "1/1 [==============================] - 0s 2ms/step - loss: 1.2777 - mae: 1.2777\n",
      "Epoch 36/80\n",
      "1/1 [==============================] - 0s 6ms/step - loss: 1.2207 - mae: 1.2207\n",
      "Epoch 37/80\n",
      "1/1 [==============================] - 0s 2ms/step - loss: 1.1637 - mae: 1.1637\n",
      "Epoch 38/80\n",
      "1/1 [==============================] - 0s 2ms/step - loss: 1.1066 - mae: 1.1066\n",
      "Epoch 39/80\n",
      "1/1 [==============================] - 0s 2ms/step - loss: 1.0531 - mae: 1.0531\n",
      "Epoch 40/80\n",
      "1/1 [==============================] - 0s 2ms/step - loss: 1.0033 - mae: 1.0033\n",
      "Epoch 41/80\n",
      "1/1 [==============================] - 0s 3ms/step - loss: 0.9535 - mae: 0.9535\n",
      "Epoch 42/80\n",
      "1/1 [==============================] - 0s 2ms/step - loss: 0.9036 - mae: 0.9036\n",
      "Epoch 43/80\n",
      "1/1 [==============================] - 0s 3ms/step - loss: 0.8538 - mae: 0.8538\n",
      "Epoch 44/80\n",
      "1/1 [==============================] - 0s 2ms/step - loss: 0.8040 - mae: 0.8040\n",
      "Epoch 45/80\n",
      "1/1 [==============================] - 0s 4ms/step - loss: 0.7542 - mae: 0.7542\n",
      "Epoch 46/80\n",
      "1/1 [==============================] - 0s 2ms/step - loss: 0.7043 - mae: 0.7043\n",
      "Epoch 47/80\n",
      "1/1 [==============================] - 0s 999us/step - loss: 0.6545 - mae: 0.6545\n",
      "Epoch 48/80\n",
      "1/1 [==============================] - 0s 3ms/step - loss: 0.6047 - mae: 0.6047\n",
      "Epoch 49/80\n",
      "1/1 [==============================] - 0s 2ms/step - loss: 0.5559 - mae: 0.5559\n",
      "Epoch 50/80\n",
      "1/1 [==============================] - 0s 2ms/step - loss: 0.5163 - mae: 0.5163\n",
      "Epoch 51/80\n",
      "1/1 [==============================] - 0s 6ms/step - loss: 0.4766 - mae: 0.4766\n",
      "Epoch 52/80\n",
      "1/1 [==============================] - 0s 3ms/step - loss: 0.4370 - mae: 0.4370\n",
      "Epoch 53/80\n",
      "1/1 [==============================] - 0s 3ms/step - loss: 0.3974 - mae: 0.3974\n",
      "Epoch 54/80\n",
      "1/1 [==============================] - 0s 5ms/step - loss: 0.3578 - mae: 0.3578\n",
      "Epoch 55/80\n",
      "1/1 [==============================] - 0s 2ms/step - loss: 0.3231 - mae: 0.3231\n",
      "Epoch 56/80\n",
      "1/1 [==============================] - 0s 2ms/step - loss: 0.2954 - mae: 0.2954\n",
      "Epoch 57/80\n",
      "1/1 [==============================] - 0s 2ms/step - loss: 0.2678 - mae: 0.2678\n",
      "Epoch 58/80\n",
      "1/1 [==============================] - 0s 2ms/step - loss: 0.2418 - mae: 0.2418\n",
      "Epoch 59/80\n",
      "1/1 [==============================] - 0s 3ms/step - loss: 0.2262 - mae: 0.2262\n",
      "Epoch 60/80\n",
      "1/1 [==============================] - 0s 4ms/step - loss: 0.2105 - mae: 0.2105\n",
      "Epoch 61/80\n",
      "1/1 [==============================] - 0s 2ms/step - loss: 0.1960 - mae: 0.1960\n",
      "Epoch 62/80\n",
      "1/1 [==============================] - 0s 2ms/step - loss: 0.1899 - mae: 0.1899\n",
      "Epoch 63/80\n",
      "1/1 [==============================] - 0s 6ms/step - loss: 0.1839 - mae: 0.1839\n",
      "Epoch 64/80\n",
      "1/1 [==============================] - 0s 2ms/step - loss: 0.1779 - mae: 0.1779\n",
      "Epoch 65/80\n",
      "1/1 [==============================] - 0s 2ms/step - loss: 0.1737 - mae: 0.1737\n",
      "Epoch 66/80\n",
      "1/1 [==============================] - 0s 5ms/step - loss: 0.1719 - mae: 0.1719\n",
      "Epoch 67/80\n",
      "1/1 [==============================] - 0s 2ms/step - loss: 0.1700 - mae: 0.1700\n",
      "Epoch 68/80\n",
      "1/1 [==============================] - 0s 3ms/step - loss: 0.1682 - mae: 0.1682\n",
      "Epoch 69/80\n",
      "1/1 [==============================] - 0s 4ms/step - loss: 0.1664 - mae: 0.1664\n",
      "Epoch 70/80\n",
      "1/1 [==============================] - 0s 2ms/step - loss: 0.1646 - mae: 0.1646\n",
      "Epoch 71/80\n",
      "1/1 [==============================] - 0s 2ms/step - loss: 0.1627 - mae: 0.1627\n",
      "Epoch 72/80\n",
      "1/1 [==============================] - 0s 2ms/step - loss: 0.1609 - mae: 0.1609\n",
      "Epoch 73/80\n",
      "1/1 [==============================] - 0s 2ms/step - loss: 0.1591 - mae: 0.1591\n",
      "Epoch 74/80\n",
      "1/1 [==============================] - 0s 3ms/step - loss: 0.1573 - mae: 0.1573\n",
      "Epoch 75/80\n",
      "1/1 [==============================] - 0s 5ms/step - loss: 0.1554 - mae: 0.1554\n",
      "Epoch 76/80\n",
      "1/1 [==============================] - 0s 5ms/step - loss: 0.1536 - mae: 0.1536\n",
      "Epoch 77/80\n",
      "1/1 [==============================] - 0s 2ms/step - loss: 0.1518 - mae: 0.1518\n",
      "Epoch 78/80\n",
      "1/1 [==============================] - 0s 2ms/step - loss: 0.1500 - mae: 0.1500\n",
      "Epoch 79/80\n",
      "1/1 [==============================] - 0s 3ms/step - loss: 0.1481 - mae: 0.1481\n",
      "Epoch 80/80\n",
      "1/1 [==============================] - 0s 1000us/step - loss: 0.1463 - mae: 0.1463\n"
     ]
    },
    {
     "data": {
      "text/plain": [
       "<keras.callbacks.History at 0x2ae9ae5c7f0>"
      ]
     },
     "execution_count": 19,
     "metadata": {},
     "output_type": "execute_result"
    }
   ],
   "source": [
    "input_shape = x[0].shape \n",
    "output_shape = y1[0].shape\n",
    "input_shape, output_shape \n",
    "\n",
    "tf.random.set_seed(42)\n",
    "\n",
    "model = tf.keras.Sequential([\n",
    "  tf.keras.layers.Dense(1)\n",
    "])\n",
    "\n",
    "model.compile(loss=tf.keras.losses.mae,\n",
    "              optimizer=tf.keras.optimizers.SGD(),\n",
    "              metrics=[\"mae\"])\n",
    "\n",
    "model.fit(x, y1, epochs=80)"
   ]
  },
  {
   "cell_type": "code",
   "execution_count": 20,
   "metadata": {},
   "outputs": [
    {
     "data": {
      "text/plain": [
       "(10, 0)"
      ]
     },
     "execution_count": 20,
     "metadata": {},
     "output_type": "execute_result"
    }
   ],
   "source": [
    "X_train = x[:80]\n",
    "y_train = y1[:80]\n",
    "\n",
    "X_test = x[80:] \n",
    "y_test = y1[80:]\n",
    "\n",
    "len(X_train), len(X_test)"
   ]
  },
  {
   "cell_type": "code",
   "execution_count": 21,
   "metadata": {},
   "outputs": [
    {
     "data": {
      "text/plain": [
       "<matplotlib.legend.Legend at 0x2ae9c008370>"
      ]
     },
     "execution_count": 21,
     "metadata": {},
     "output_type": "execute_result"
    },
    {
     "data": {
      "image/png": "[encoded data removed]",
      "text/plain": [
       "<Figure size 720x432 with 1 Axes>"
      ]
     },
     "metadata": {
      "needs_background": "light"
     },
     "output_type": "display_data"
    }
   ],
   "source": [
    "plt.figure(figsize=(10, 6))\n",
    "plt.scatter(X_train, y_train, c='b', label='Training')\n",
    "plt.scatter(X_test, y_test, c='g', label='Testing')\n",
    "plt.legend()"
   ]
  },
  {
   "cell_type": "code",
   "execution_count": 22,
   "metadata": {},
   "outputs": [
    {
     "name": "stdout",
     "output_type": "stream",
     "text": [
      "Model: \"sequential\"\n",
      "_________________________________________________________________\n",
      "Layer (type)                 Output Shape              Param #   \n",
      "=================================================================\n",
      "dense (Dense)                (None, 1)                 2         \n",
      "=================================================================\n",
      "Total params: 2\n",
      "Trainable params: 2\n",
      "Non-trainable params: 0\n",
      "_________________________________________________________________\n"
     ]
    }
   ],
   "source": [
    "model.summary()"
   ]
  },
  {
   "cell_type": "code",
   "execution_count": 23,
   "metadata": {},
   "outputs": [
    {
     "data": {
      "text/plain": [
       "<keras.callbacks.History at 0x2ae9c39f400>"
      ]
     },
     "execution_count": 23,
     "metadata": {},
     "output_type": "execute_result"
    }
   ],
   "source": [
    "model.fit(X_train, y_train, epochs=80, verbose=0)"
   ]
  },
  {
   "cell_type": "code",
   "execution_count": 24,
   "metadata": {},
   "outputs": [
    {
     "data": {
      "text/plain": [
       "array([[39.942238]], dtype=float32)"
      ]
     },
     "execution_count": 24,
     "metadata": {},
     "output_type": "execute_result"
    }
   ],
   "source": [
    "model.predict([20.0])"
   ]
  },
  {
   "cell_type": "code",
   "execution_count": 25,
   "metadata": {},
   "outputs": [
    {
     "data": {
      "text/plain": [
       "<keras.callbacks.History at 0x2ae9c299700>"
      ]
     },
     "execution_count": 25,
     "metadata": {},
     "output_type": "execute_result"
    }
   ],
   "source": [
    "tf.random.set_seed(42)\n",
    "\n",
    "model_1 = tf.keras.Sequential([\n",
    "  tf.keras.layers.Dense(100), \n",
    "  tf.keras.layers.Dense(10),\n",
    "  tf.keras.layers.Dense(1)\n",
    "])\n",
    "\n",
    "model_1.compile(loss=tf.keras.losses.BinaryCrossentropy(),\n",
    "                optimizer=tf.keras.optimizers.Adam(), \n",
    "                metrics=['accuracy'])\n",
    "\n",
    "model_1.fit(x, y1, epochs=20, verbose=0)"
   ]
  },
  {
   "cell_type": "code",
   "execution_count": 27,
   "metadata": {},
   "outputs": [],
   "source": [
    "def plot_decision_boundary(model, X, y):\n",
    "    \n",
    "  x_min, x_max = X[:, 0].min() - 0.1, X[:, 0].max() + 0.1\n",
    "  y_min, y_max = X[:, 1].min() - 0.1, X[:, 1].max() + 0.1\n",
    "  xx, yy = np.meshgrid(np.linspace(x_min, x_max, 100),\n",
    "                       np.linspace(y_min, y_max, 100))\n",
    "  \n",
    "  x_in = np.c_[xx.ravel(), yy.ravel()]\n",
    " \n",
    "  y_pred = model.predict(x_in)\n",
    "\n",
    "  if len(y_pred[0]) > 1:\n",
    "    print(\"doing multiclass classification...\")\n",
    "    y_pred = np.argmax(y_pred, axis=1).reshape(xx.shape)\n",
    "  else:\n",
    "    print(\"doing binary classifcation...\")\n",
    "    y_pred = np.round(y_pred).reshape(xx.shape)\n",
    "\n",
    "  plt.contourf(xx, yy, y_pred, cmap=plt.cm.RdYlBu, alpha=0.7)\n",
    "  plt.scatter(X[:, 0], X[:, 1], c=y, s=40, cmap=plt.cm.RdYlBu)\n",
    "  plt.xlim(xx.min(), xx.max())\n",
    "  plt.ylim(yy.min(), yy.max())"
   ]
  },
  {
   "cell_type": "code",
   "execution_count": 28,
   "metadata": {},
   "outputs": [],
   "source": [
    "tf.random.set_seed(42)\n",
    "\n",
    "X_regression = np.arange(0, 100, 5)\n",
    "y_regression = np.arange(100, 110, 5)\n",
    "\n",
    "X_reg_train = X_regression[:150]\n",
    "X_reg_test = X_regression[150:]\n",
    "y_reg_train = y_regression[:150]\n",
    "y_reg_test = y_regression[150:]"
   ]
  },
  {
   "cell_type": "code",
   "execution_count": 29,
   "metadata": {},
   "outputs": [
    {
     "name": "stdout",
     "output_type": "stream",
     "text": [
      "1/1 [==============================] - 0s 129ms/step - loss: -53.5553 - accuracy: 0.2000\n"
     ]
    },
    {
     "data": {
      "text/plain": [
       "[-53.5552864074707, 0.20000000298023224]"
      ]
     },
     "execution_count": 29,
     "metadata": {},
     "output_type": "execute_result"
    }
   ],
   "source": [
    "model_1.evaluate(x, y1)"
   ]
  },
  {
   "cell_type": "code",
   "execution_count": 30,
   "metadata": {},
   "outputs": [
    {
     "data": {
      "text/plain": [
       "10"
      ]
     },
     "execution_count": 30,
     "metadata": {},
     "output_type": "execute_result"
    }
   ],
   "source": [
    "len(x)"
   ]
  },
  {
   "cell_type": "code",
   "execution_count": 31,
   "metadata": {},
   "outputs": [
    {
     "data": {
      "text/plain": [
       "((10,), (0,))"
      ]
     },
     "execution_count": 31,
     "metadata": {},
     "output_type": "execute_result"
    }
   ],
   "source": [
    "X_train, y_train = x[:800], y1[:800]\n",
    "X_test, y_test = x[800:], y1[800:]\n",
    "\n",
    "X_train.shape, X_test.shape"
   ]
  },
  {
   "cell_type": "code",
   "execution_count": 32,
   "metadata": {},
   "outputs": [
    {
     "name": "stderr",
     "output_type": "stream",
     "text": [
      "C:\\Users\\Mkarlos\\anaconda3\\lib\\site-packages\\keras\\optimizer_v2\\optimizer_v2.py:355: UserWarning: The `lr` argument is deprecated, use `learning_rate` instead.\n",
      "  warnings.warn(\n"
     ]
    },
    {
     "name": "stdout",
     "output_type": "stream",
     "text": [
      "Epoch 1/25\n",
      "1/1 [==============================] - 0s 376ms/step - loss: 3.6568 - accuracy: 0.1000\n",
      "Epoch 2/25\n",
      "1/1 [==============================] - 0s 3ms/step - loss: 3.3166 - accuracy: 0.0000e+00\n",
      "Epoch 3/25\n",
      "1/1 [==============================] - 0s 2ms/step - loss: 2.9870 - accuracy: 0.0000e+00\n",
      "Epoch 4/25\n",
      "1/1 [==============================] - 0s 3ms/step - loss: 2.6683 - accuracy: 0.1000\n",
      "Epoch 5/25\n",
      "1/1 [==============================] - 0s 2ms/step - loss: 2.3606 - accuracy: 0.1000\n",
      "Epoch 6/25\n",
      "1/1 [==============================] - 0s 4ms/step - loss: 2.0638 - accuracy: 0.1000\n",
      "Epoch 7/25\n",
      "1/1 [==============================] - 0s 2ms/step - loss: 1.7780 - accuracy: 0.1000\n",
      "Epoch 8/25\n",
      "1/1 [==============================] - 0s 3ms/step - loss: 1.5038 - accuracy: 0.1000\n",
      "Epoch 9/25\n",
      "1/1 [==============================] - 0s 2ms/step - loss: 1.2406 - accuracy: 0.1000\n",
      "Epoch 10/25\n",
      "1/1 [==============================] - 0s 2ms/step - loss: 0.9881 - accuracy: 0.1000\n",
      "Epoch 11/25\n",
      "1/1 [==============================] - 0s 2ms/step - loss: 0.7460 - accuracy: 0.1000\n",
      "Epoch 12/25\n",
      "1/1 [==============================] - 0s 2ms/step - loss: 0.5163 - accuracy: 0.1000\n",
      "Epoch 13/25\n",
      "1/1 [==============================] - 0s 2ms/step - loss: 0.2977 - accuracy: 0.1000\n",
      "Epoch 14/25\n",
      "1/1 [==============================] - 0s 2ms/step - loss: 0.0886 - accuracy: 0.1000\n",
      "Epoch 15/25\n",
      "1/1 [==============================] - 0s 2ms/step - loss: -0.1086 - accuracy: 0.1000\n",
      "Epoch 16/25\n",
      "1/1 [==============================] - 0s 4ms/step - loss: -0.2940 - accuracy: 0.1000\n",
      "Epoch 17/25\n",
      "1/1 [==============================] - 0s 4ms/step - loss: -0.4710 - accuracy: 0.1000\n",
      "Epoch 18/25\n",
      "1/1 [==============================] - 0s 2ms/step - loss: -0.6333 - accuracy: 0.1000\n",
      "Epoch 19/25\n",
      "1/1 [==============================] - 0s 3ms/step - loss: -0.7875 - accuracy: 0.1000\n",
      "Epoch 20/25\n",
      "1/1 [==============================] - 0s 7ms/step - loss: -0.9288 - accuracy: 0.1000\n",
      "Epoch 21/25\n",
      "1/1 [==============================] - 0s 2ms/step - loss: -1.0609 - accuracy: 0.1000\n",
      "Epoch 22/25\n",
      "1/1 [==============================] - 0s 7ms/step - loss: -1.1820 - accuracy: 0.1000\n",
      "Epoch 23/25\n",
      "1/1 [==============================] - 0s 2ms/step - loss: -1.2952 - accuracy: 0.1000\n",
      "Epoch 24/25\n",
      "1/1 [==============================] - 0s 3ms/step - loss: -1.3990 - accuracy: 0.1000\n",
      "Epoch 25/25\n",
      "1/1 [==============================] - 0s 4ms/step - loss: -1.4979 - accuracy: 0.1000\n"
     ]
    }
   ],
   "source": [
    "\n",
    "tf.random.set_seed(42)\n",
    "\n",
    "model_2 = tf.keras.Sequential([\n",
    "  tf.keras.layers.Dense(4, activation=\"relu\"), \n",
    "  tf.keras.layers.Dense(4, activation=\"relu\"),\n",
    "  tf.keras.layers.Dense(1, activation=\"sigmoid\")\n",
    "])\n",
    "\n",
    "model_2.compile(loss=tf.keras.losses.binary_crossentropy,\n",
    "                optimizer=tf.keras.optimizers.Adam(lr=0.01), \n",
    "                metrics=['accuracy'])\n",
    "\n",
    "history = model_2.fit(X_train, y_train, epochs=25)"
   ]
  },
  {
   "cell_type": "code",
   "execution_count": 33,
   "metadata": {},
   "outputs": [
    {
     "data": {
      "text/html": [
       "<div>\n",
       "<style scoped>\n",
       "    .dataframe tbody tr th:only-of-type {\n",
       "        vertical-align: middle;\n",
       "    }\n",
       "\n",
       "    .dataframe tbody tr th {\n",
       "        vertical-align: top;\n",
       "    }\n",
       "\n",
       "    .dataframe thead th {\n",
       "        text-align: right;\n",
       "    }\n",
       "</style>\n",
       "<table border=\"1\" class=\"dataframe\">\n",
       "  <thead>\n",
       "    <tr style=\"text-align: right;\">\n",
       "      <th></th>\n",
       "      <th>loss</th>\n",
       "      <th>accuracy</th>\n",
       "    </tr>\n",
       "  </thead>\n",
       "  <tbody>\n",
       "    <tr>\n",
       "      <th>0</th>\n",
       "      <td>3.656841</td>\n",
       "      <td>0.1</td>\n",
       "    </tr>\n",
       "    <tr>\n",
       "      <th>1</th>\n",
       "      <td>3.316552</td>\n",
       "      <td>0.0</td>\n",
       "    </tr>\n",
       "    <tr>\n",
       "      <th>2</th>\n",
       "      <td>2.987022</td>\n",
       "      <td>0.0</td>\n",
       "    </tr>\n",
       "    <tr>\n",
       "      <th>3</th>\n",
       "      <td>2.668347</td>\n",
       "      <td>0.1</td>\n",
       "    </tr>\n",
       "    <tr>\n",
       "      <th>4</th>\n",
       "      <td>2.360600</td>\n",
       "      <td>0.1</td>\n",
       "    </tr>\n",
       "    <tr>\n",
       "      <th>5</th>\n",
       "      <td>2.063806</td>\n",
       "      <td>0.1</td>\n",
       "    </tr>\n",
       "    <tr>\n",
       "      <th>6</th>\n",
       "      <td>1.777956</td>\n",
       "      <td>0.1</td>\n",
       "    </tr>\n",
       "    <tr>\n",
       "      <th>7</th>\n",
       "      <td>1.503834</td>\n",
       "      <td>0.1</td>\n",
       "    </tr>\n",
       "    <tr>\n",
       "      <th>8</th>\n",
       "      <td>1.240631</td>\n",
       "      <td>0.1</td>\n",
       "    </tr>\n",
       "    <tr>\n",
       "      <th>9</th>\n",
       "      <td>0.988077</td>\n",
       "      <td>0.1</td>\n",
       "    </tr>\n",
       "    <tr>\n",
       "      <th>10</th>\n",
       "      <td>0.745989</td>\n",
       "      <td>0.1</td>\n",
       "    </tr>\n",
       "    <tr>\n",
       "      <th>11</th>\n",
       "      <td>0.516312</td>\n",
       "      <td>0.1</td>\n",
       "    </tr>\n",
       "    <tr>\n",
       "      <th>12</th>\n",
       "      <td>0.297672</td>\n",
       "      <td>0.1</td>\n",
       "    </tr>\n",
       "    <tr>\n",
       "      <th>13</th>\n",
       "      <td>0.088590</td>\n",
       "      <td>0.1</td>\n",
       "    </tr>\n",
       "    <tr>\n",
       "      <th>14</th>\n",
       "      <td>-0.108579</td>\n",
       "      <td>0.1</td>\n",
       "    </tr>\n",
       "    <tr>\n",
       "      <th>15</th>\n",
       "      <td>-0.293966</td>\n",
       "      <td>0.1</td>\n",
       "    </tr>\n",
       "    <tr>\n",
       "      <th>16</th>\n",
       "      <td>-0.471001</td>\n",
       "      <td>0.1</td>\n",
       "    </tr>\n",
       "    <tr>\n",
       "      <th>17</th>\n",
       "      <td>-0.633313</td>\n",
       "      <td>0.1</td>\n",
       "    </tr>\n",
       "    <tr>\n",
       "      <th>18</th>\n",
       "      <td>-0.787490</td>\n",
       "      <td>0.1</td>\n",
       "    </tr>\n",
       "    <tr>\n",
       "      <th>19</th>\n",
       "      <td>-0.928831</td>\n",
       "      <td>0.1</td>\n",
       "    </tr>\n",
       "    <tr>\n",
       "      <th>20</th>\n",
       "      <td>-1.060899</td>\n",
       "      <td>0.1</td>\n",
       "    </tr>\n",
       "    <tr>\n",
       "      <th>21</th>\n",
       "      <td>-1.181999</td>\n",
       "      <td>0.1</td>\n",
       "    </tr>\n",
       "    <tr>\n",
       "      <th>22</th>\n",
       "      <td>-1.295164</td>\n",
       "      <td>0.1</td>\n",
       "    </tr>\n",
       "    <tr>\n",
       "      <th>23</th>\n",
       "      <td>-1.398983</td>\n",
       "      <td>0.1</td>\n",
       "    </tr>\n",
       "    <tr>\n",
       "      <th>24</th>\n",
       "      <td>-1.497884</td>\n",
       "      <td>0.1</td>\n",
       "    </tr>\n",
       "  </tbody>\n",
       "</table>\n",
       "</div>"
      ],
      "text/plain": [
       "        loss  accuracy\n",
       "0   3.656841       0.1\n",
       "1   3.316552       0.0\n",
       "2   2.987022       0.0\n",
       "3   2.668347       0.1\n",
       "4   2.360600       0.1\n",
       "5   2.063806       0.1\n",
       "6   1.777956       0.1\n",
       "7   1.503834       0.1\n",
       "8   1.240631       0.1\n",
       "9   0.988077       0.1\n",
       "10  0.745989       0.1\n",
       "11  0.516312       0.1\n",
       "12  0.297672       0.1\n",
       "13  0.088590       0.1\n",
       "14 -0.108579       0.1\n",
       "15 -0.293966       0.1\n",
       "16 -0.471001       0.1\n",
       "17 -0.633313       0.1\n",
       "18 -0.787490       0.1\n",
       "19 -0.928831       0.1\n",
       "20 -1.060899       0.1\n",
       "21 -1.181999       0.1\n",
       "22 -1.295164       0.1\n",
       "23 -1.398983       0.1\n",
       "24 -1.497884       0.1"
      ]
     },
     "execution_count": 33,
     "metadata": {},
     "output_type": "execute_result"
    }
   ],
   "source": [
    "pd.DataFrame(history.history)"
   ]
  },
  {
   "cell_type": "code",
   "execution_count": 34,
   "metadata": {},
   "outputs": [
    {
     "data": {
      "text/plain": [
       "Text(0.5, 1.0, 'training_2 ')"
      ]
     },
     "execution_count": 34,
     "metadata": {},
     "output_type": "execute_result"
    },
    {
     "data": {
      "image/png": "[encoded data removed]",
      "text/plain": [
       "<Figure size 432x288 with 1 Axes>"
      ]
     },
     "metadata": {
      "needs_background": "light"
     },
     "output_type": "display_data"
    }
   ],
   "source": [
    "pd.DataFrame(history.history).plot()\n",
    "plt.title(\"training_2 \")"
   ]
  },
  {
   "cell_type": "code",
   "execution_count": 35,
   "metadata": {},
   "outputs": [
    {
     "name": "stdout",
     "output_type": "stream",
     "text": [
      "Epoch 1/80\n",
      "1/1 [==============================] - 0s 195ms/step - loss: 3.2174 - mae: 3.2174\n",
      "Epoch 2/80\n",
      "1/1 [==============================] - 0s 2ms/step - loss: 3.1595 - mae: 3.1595\n",
      "Epoch 3/80\n",
      "1/1 [==============================] - 0s 1ms/step - loss: 3.1025 - mae: 3.1025\n",
      "Epoch 4/80\n",
      "1/1 [==============================] - 0s 2ms/step - loss: 3.0455 - mae: 3.0455\n",
      "Epoch 5/80\n",
      "1/1 [==============================] - 0s 3ms/step - loss: 2.9885 - mae: 2.9885\n",
      "Epoch 6/80\n",
      "1/1 [==============================] - 0s 2ms/step - loss: 2.9314 - mae: 2.9314\n",
      "Epoch 7/80\n",
      "1/1 [==============================] - 0s 1ms/step - loss: 2.8744 - mae: 2.8744\n",
      "Epoch 8/80\n",
      "1/1 [==============================] - 0s 3ms/step - loss: 2.8174 - mae: 2.8174\n",
      "Epoch 9/80\n",
      "1/1 [==============================] - 0s 2ms/step - loss: 2.7604 - mae: 2.7604\n",
      "Epoch 10/80\n",
      "1/1 [==============================] - 0s 6ms/step - loss: 2.7033 - mae: 2.7033\n",
      "Epoch 11/80\n",
      "1/1 [==============================] - 0s 5ms/step - loss: 2.6463 - mae: 2.6463\n",
      "Epoch 12/80\n",
      "1/1 [==============================] - 0s 2ms/step - loss: 2.5893 - mae: 2.5893\n",
      "Epoch 13/80\n",
      "1/1 [==============================] - 0s 5ms/step - loss: 2.5323 - mae: 2.5323\n",
      "Epoch 14/80\n",
      "1/1 [==============================] - 0s 2ms/step - loss: 2.4752 - mae: 2.4752\n",
      "Epoch 15/80\n",
      "1/1 [==============================] - 0s 2ms/step - loss: 2.4182 - mae: 2.4182\n",
      "Epoch 16/80\n",
      "1/1 [==============================] - 0s 4ms/step - loss: 2.3612 - mae: 2.3612\n",
      "Epoch 17/80\n",
      "1/1 [==============================] - 0s 2ms/step - loss: 2.3042 - mae: 2.3042\n",
      "Epoch 18/80\n",
      "1/1 [==============================] - 0s 998us/step - loss: 2.2471 - mae: 2.2471\n",
      "Epoch 19/80\n",
      "1/1 [==============================] - 0s 2ms/step - loss: 2.1901 - mae: 2.1901\n",
      "Epoch 20/80\n",
      "1/1 [==============================] - 0s 5ms/step - loss: 2.1331 - mae: 2.1331\n",
      "Epoch 21/80\n",
      "1/1 [==============================] - 0s 2ms/step - loss: 2.0761 - mae: 2.0761\n",
      "Epoch 22/80\n",
      "1/1 [==============================] - 0s 5ms/step - loss: 2.0190 - mae: 2.0190\n",
      "Epoch 23/80\n",
      "1/1 [==============================] - 0s 3ms/step - loss: 1.9620 - mae: 1.9620\n",
      "Epoch 24/80\n",
      "1/1 [==============================] - 0s 2ms/step - loss: 1.9050 - mae: 1.9050\n",
      "Epoch 25/80\n",
      "1/1 [==============================] - 0s 2ms/step - loss: 1.8480 - mae: 1.8480\n",
      "Epoch 26/80\n",
      "1/1 [==============================] - 0s 2ms/step - loss: 1.7909 - mae: 1.7909\n",
      "Epoch 27/80\n",
      "1/1 [==============================] - 0s 2ms/step - loss: 1.7339 - mae: 1.7339\n",
      "Epoch 28/80\n",
      "1/1 [==============================] - 0s 2ms/step - loss: 1.6769 - mae: 1.6769\n",
      "Epoch 29/80\n",
      "1/1 [==============================] - 0s 6ms/step - loss: 1.6199 - mae: 1.6199\n",
      "Epoch 30/80\n",
      "1/1 [==============================] - 0s 3ms/step - loss: 1.5628 - mae: 1.5628\n",
      "Epoch 31/80\n",
      "1/1 [==============================] - 0s 2ms/step - loss: 1.5058 - mae: 1.5058\n",
      "Epoch 32/80\n",
      "1/1 [==============================] - 0s 2ms/step - loss: 1.4488 - mae: 1.4488\n",
      "Epoch 33/80\n",
      "1/1 [==============================] - 0s 2ms/step - loss: 1.3918 - mae: 1.3918\n",
      "Epoch 34/80\n",
      "1/1 [==============================] - 0s 3ms/step - loss: 1.3347 - mae: 1.3347\n",
      "Epoch 35/80\n",
      "1/1 [==============================] - 0s 2ms/step - loss: 1.2777 - mae: 1.2777\n",
      "Epoch 36/80\n",
      "1/1 [==============================] - 0s 3ms/step - loss: 1.2207 - mae: 1.2207\n",
      "Epoch 37/80\n",
      "1/1 [==============================] - 0s 2ms/step - loss: 1.1637 - mae: 1.1637\n",
      "Epoch 38/80\n",
      "1/1 [==============================] - 0s 2ms/step - loss: 1.1066 - mae: 1.1066\n",
      "Epoch 39/80\n",
      "1/1 [==============================] - 0s 3ms/step - loss: 1.0531 - mae: 1.0531\n",
      "Epoch 40/80\n",
      "1/1 [==============================] - 0s 5ms/step - loss: 1.0033 - mae: 1.0033\n",
      "Epoch 41/80\n",
      "1/1 [==============================] - 0s 2ms/step - loss: 0.9535 - mae: 0.9535\n",
      "Epoch 42/80\n",
      "1/1 [==============================] - 0s 3ms/step - loss: 0.9036 - mae: 0.9036\n",
      "Epoch 43/80\n",
      "1/1 [==============================] - 0s 11ms/step - loss: 0.8538 - mae: 0.8538\n",
      "Epoch 44/80\n",
      "1/1 [==============================] - 0s 4ms/step - loss: 0.8040 - mae: 0.8040\n",
      "Epoch 45/80\n",
      "1/1 [==============================] - 0s 2ms/step - loss: 0.7542 - mae: 0.7542\n",
      "Epoch 46/80\n",
      "1/1 [==============================] - 0s 2ms/step - loss: 0.7043 - mae: 0.7043\n",
      "Epoch 47/80\n",
      "1/1 [==============================] - 0s 3ms/step - loss: 0.6545 - mae: 0.6545\n",
      "Epoch 48/80\n",
      "1/1 [==============================] - 0s 2ms/step - loss: 0.6047 - mae: 0.6047\n",
      "Epoch 49/80\n",
      "1/1 [==============================] - 0s 2ms/step - loss: 0.5559 - mae: 0.5559\n",
      "Epoch 50/80\n",
      "1/1 [==============================] - 0s 3ms/step - loss: 0.5163 - mae: 0.5163\n",
      "Epoch 51/80\n",
      "1/1 [==============================] - 0s 2ms/step - loss: 0.4766 - mae: 0.4766\n",
      "Epoch 52/80\n",
      "1/1 [==============================] - 0s 2ms/step - loss: 0.4370 - mae: 0.4370\n",
      "Epoch 53/80\n",
      "1/1 [==============================] - 0s 5ms/step - loss: 0.3974 - mae: 0.3974\n",
      "Epoch 54/80\n",
      "1/1 [==============================] - 0s 2ms/step - loss: 0.3578 - mae: 0.3578\n",
      "Epoch 55/80\n",
      "1/1 [==============================] - 0s 2ms/step - loss: 0.3231 - mae: 0.3231\n",
      "Epoch 56/80\n",
      "1/1 [==============================] - 0s 2ms/step - loss: 0.2954 - mae: 0.2954\n",
      "Epoch 57/80\n",
      "1/1 [==============================] - 0s 2ms/step - loss: 0.2678 - mae: 0.2678\n",
      "Epoch 58/80\n",
      "1/1 [==============================] - 0s 2ms/step - loss: 0.2418 - mae: 0.2418\n",
      "Epoch 59/80\n",
      "1/1 [==============================] - 0s 2ms/step - loss: 0.2262 - mae: 0.2262\n",
      "Epoch 60/80\n",
      "1/1 [==============================] - 0s 3ms/step - loss: 0.2105 - mae: 0.2105\n",
      "Epoch 61/80\n",
      "1/1 [==============================] - 0s 2ms/step - loss: 0.1960 - mae: 0.1960\n",
      "Epoch 62/80\n",
      "1/1 [==============================] - 0s 4ms/step - loss: 0.1899 - mae: 0.1899\n",
      "Epoch 63/80\n",
      "1/1 [==============================] - 0s 2ms/step - loss: 0.1839 - mae: 0.1839\n",
      "Epoch 64/80\n",
      "1/1 [==============================] - 0s 2ms/step - loss: 0.1779 - mae: 0.1779\n",
      "Epoch 65/80\n",
      "1/1 [==============================] - 0s 2ms/step - loss: 0.1737 - mae: 0.1737\n",
      "Epoch 66/80\n",
      "1/1 [==============================] - 0s 3ms/step - loss: 0.1719 - mae: 0.1719\n",
      "Epoch 67/80\n",
      "1/1 [==============================] - 0s 2ms/step - loss: 0.1700 - mae: 0.1700\n",
      "Epoch 68/80\n",
      "1/1 [==============================] - 0s 991us/step - loss: 0.1682 - mae: 0.1682\n",
      "Epoch 69/80\n",
      "1/1 [==============================] - 0s 997us/step - loss: 0.1664 - mae: 0.1664\n",
      "Epoch 70/80\n",
      "1/1 [==============================] - 0s 2ms/step - loss: 0.1646 - mae: 0.1646\n",
      "Epoch 71/80\n",
      "1/1 [==============================] - 0s 2ms/step - loss: 0.1627 - mae: 0.1627\n",
      "Epoch 72/80\n",
      "1/1 [==============================] - 0s 2ms/step - loss: 0.1609 - mae: 0.1609\n",
      "Epoch 73/80\n",
      "1/1 [==============================] - 0s 8ms/step - loss: 0.1591 - mae: 0.1591\n",
      "Epoch 74/80\n",
      "1/1 [==============================] - 0s 2ms/step - loss: 0.1573 - mae: 0.1573\n",
      "Epoch 75/80\n",
      "1/1 [==============================] - 0s 4ms/step - loss: 0.1554 - mae: 0.1554\n",
      "Epoch 76/80\n",
      "1/1 [==============================] - 0s 2ms/step - loss: 0.1536 - mae: 0.1536\n",
      "Epoch 77/80\n",
      "1/1 [==============================] - 0s 2ms/step - loss: 0.1518 - mae: 0.1518\n",
      "Epoch 78/80\n",
      "1/1 [==============================] - 0s 2ms/step - loss: 0.1500 - mae: 0.1500\n",
      "Epoch 79/80\n",
      "1/1 [==============================] - 0s 2ms/step - loss: 0.1481 - mae: 0.1481\n",
      "Epoch 80/80\n",
      "1/1 [==============================] - 0s 3ms/step - loss: 0.1463 - mae: 0.1463\n"
     ]
    },
    {
     "data": {
      "text/plain": [
       "<keras.callbacks.History at 0x2ae9e5c58b0>"
      ]
     },
     "execution_count": 35,
     "metadata": {},
     "output_type": "execute_result"
    }
   ],
   "source": [
    "input_shape = x[0].shape \n",
    "output_shape = y1[0].shape\n",
    "input_shape, output_shape \n",
    "\n",
    "tf.random.set_seed(42)\n",
    "\n",
    "model = tf.keras.Sequential([\n",
    "  tf.keras.layers.Dense(1)\n",
    "])\n",
    "\n",
    "model.compile(loss=tf.keras.losses.mae,\n",
    "              optimizer=tf.keras.optimizers.SGD(),\n",
    "              metrics=[\"mae\"])\n",
    "\n",
    "model.fit(x, y1, epochs=80)"
   ]
  },
  {
   "cell_type": "code",
   "execution_count": 36,
   "metadata": {},
   "outputs": [
    {
     "data": {
      "text/plain": [
       "(10, 0)"
      ]
     },
     "execution_count": 36,
     "metadata": {},
     "output_type": "execute_result"
    }
   ],
   "source": [
    "X_train = x[:80]\n",
    "y_train = y1[:80]\n",
    "\n",
    "X_test = x[80:] \n",
    "y_test = y1[80:]\n",
    "\n",
    "len(X_train), len(X_test)"
   ]
  },
  {
   "cell_type": "code",
   "execution_count": 37,
   "metadata": {},
   "outputs": [
    {
     "data": {
      "text/plain": [
       "<matplotlib.legend.Legend at 0x2ae9e67b8b0>"
      ]
     },
     "execution_count": 37,
     "metadata": {},
     "output_type": "execute_result"
    },
    {
     "data": {
      "image/png": "[encoded data removed]",
      "text/plain": [
       "<Figure size 720x432 with 1 Axes>"
      ]
     },
     "metadata": {
      "needs_background": "light"
     },
     "output_type": "display_data"
    }
   ],
   "source": [
    "plt.figure(figsize=(10, 6))\n",
    "plt.scatter(X_train, y_train, c='b', label='Training')\n",
    "plt.scatter(X_test, y_test, c='g', label='Testing')\n",
    "plt.legend()"
   ]
  },
  {
   "cell_type": "code",
   "execution_count": 38,
   "metadata": {},
   "outputs": [
    {
     "name": "stdout",
     "output_type": "stream",
     "text": [
      "Model: \"sequential_3\"\n",
      "_________________________________________________________________\n",
      "Layer (type)                 Output Shape              Param #   \n",
      "=================================================================\n",
      "dense_7 (Dense)              (None, 1)                 2         \n",
      "=================================================================\n",
      "Total params: 2\n",
      "Trainable params: 2\n",
      "Non-trainable params: 0\n",
      "_________________________________________________________________\n"
     ]
    }
   ],
   "source": [
    "model.summary()"
   ]
  },
  {
   "cell_type": "code",
   "execution_count": 39,
   "metadata": {},
   "outputs": [
    {
     "data": {
      "text/plain": [
       "<keras.callbacks.History at 0x2ae9e6a9850>"
      ]
     },
     "execution_count": 39,
     "metadata": {},
     "output_type": "execute_result"
    }
   ],
   "source": [
    "model.fit(X_train, y_train, epochs=80, verbose=0)"
   ]
  },
  {
   "cell_type": "code",
   "execution_count": 40,
   "metadata": {},
   "outputs": [
    {
     "data": {
      "text/plain": [
       "array([[39.942238]], dtype=float32)"
      ]
     },
     "execution_count": 40,
     "metadata": {},
     "output_type": "execute_result"
    }
   ],
   "source": [
    "model.predict([20.0])"
   ]
  }
 ],
 "metadata": {
  "interpreter": {
   "hash": "057fd5ff141c71cf3cd473b23444558c36ccf589c0a561d6383bef9cc6bbac53"
  },
  "kernelspec": {
   "display_name": "Python 3.8.8 64-bit ('base': conda)",
   "name": "python3"
  },
  "language_info": {
   "codemirror_mode": {
    "name": "ipython",
    "version": 3
   },
   "file_extension": ".py",
   "mimetype": "text/x-python",
   "name": "python",
   "nbconvert_exporter": "python",
   "pygments_lexer": "ipython3",
   "version": "3.8.8"
  },
  "orig_nbformat": 4
 },
 "nbformat": 4,
 "nbformat_minor": 2
}
