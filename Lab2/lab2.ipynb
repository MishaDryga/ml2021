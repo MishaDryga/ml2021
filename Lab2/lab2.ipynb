{
 "cells": [
  {
   "cell_type": "markdown",
   "metadata": {},
   "source": [
    "# Лабораторна робота 2\n",
    "### Студента групи МІТ-31 (підгрупа 1)\n",
    "### Дриги Михайла Сергійовича\n",
    "\n",
    "## Завдання\n",
    "1. Створити набір даних за допомогою DatasetGenerator\n",
    "2. Завантажити набір даних для регресії на сайті (у кожного студента має бути інший - прошу організуватись відповідним чином)\n",
    "3. (опціонально для отримання відмінної оцінки) Згенерувати набір даних для регресії на основі звичайних можливостей Python.\n",
    "4. Для отриманих наборів даних провести встановленні кроки моделювання.\n",
    "5. Отримані результати викласти на github у репозиторій ml2021 в основну (default) гілку в папці Lab2."
   ]
  },
  {
   "cell_type": "code",
   "execution_count": 46,
   "metadata": {},
   "outputs": [],
   "source": [
    "\n",
    "import pandas as pd\n",
    "import numpy as np\n",
    "import matplotlib.pyplot as plt\n",
    "import seaborn as sns\n",
    "from sklearn.datasets import make_regression"
   ]
  },
  {
   "cell_type": "markdown",
   "metadata": {},
   "source": [
    "## Завдання 1"
   ]
  },
  {
   "cell_type": "code",
   "execution_count": 47,
   "metadata": {},
   "outputs": [
    {
     "name": "stdout",
     "output_type": "stream",
     "text": [
      "[[-0.2444708  -0.23751898 -1.36826933 ... -1.8004192  -0.15764997\n",
      "  -0.02179707]\n",
      " [ 0.02023319  1.85454372 -0.33855812 ... -1.62226292  0.01801108\n",
      "   0.56523693]\n",
      " [ 1.95250767  0.31494901  1.23949232 ...  0.38244683 -0.63090257\n",
      "  -1.12234649]\n",
      " ...\n",
      " [-1.13218443 -0.06748607  0.52162522 ... -2.01201424  1.20582476\n",
      "  -1.2313676 ]\n",
      " [-1.05052407  1.71573762 -0.04663999 ... -1.44012587 -1.09708301\n",
      "   0.2096521 ]\n",
      " [-0.88549544  0.92035043 -0.89796526 ...  0.32070594  1.2325605\n",
      "   2.85488952]] [-328.48682388 -148.8224543  -134.8943711  -164.10094669  246.51885318\n",
      "   68.13237894 -152.17142343 -487.65907759 -265.13998255  164.03796853\n",
      "  -56.87758162  277.65965752   56.01256394 -220.33500202 -187.93779083\n",
      "  323.38684836 -169.02072906   22.54466382 -280.05281058 -141.84321974\n",
      "   32.97375866 -169.24988049   78.64672286 -312.46163063  -15.50221134\n",
      " -107.12536317  156.96369085  387.59340016  384.90987046  122.88207623\n",
      "   73.18288522  -23.31141399  219.81200888   76.01176753 -112.47448519\n",
      " -164.58713106   -1.45160629 -165.02241579  212.22233223 -389.48366704\n",
      "  598.67894279   -5.7659416   214.8750215   255.81955783 -440.10195319\n",
      " -193.16792116 -284.26847898 -223.92705801 -303.67432206 -274.00326154\n",
      "  -89.85672266 -127.73176686  -34.75724181   57.67427104 -114.4009249\n",
      "   45.04992757 -162.11503104 -200.06057831  290.12204402  222.61720796\n",
      " -151.70356868  118.63977695  104.86512279  265.09933823 -254.79321036\n",
      "  154.94497588  -94.75822509   63.96586569   22.6928944   -41.49012638\n",
      " -216.9105516     6.71184258  261.58084599 -140.94247164   -8.4245916\n",
      "  270.38558198  125.83377757   38.81191745 -275.97910866  -11.44751559\n",
      "  185.616839    -62.52171177   32.56038488  -85.06552498 -126.93865124\n",
      " -196.0295893  -147.58340472  583.38802851  155.6618386   371.2584667\n",
      "  128.50522242 -215.97984756  282.16427899  -31.80744821  101.14402876\n",
      "  -92.66371481 -149.74185437  350.02390026   97.86177102  163.49597571\n",
      "  209.58052062   69.02095433  123.52133853  160.8739916   415.79414229\n",
      "  189.73567738  116.49328733   90.15311411  144.32093059  -91.51736803\n",
      " -315.34535017  391.67076076 -221.76883968   67.45114363   94.00761849\n",
      " -239.60007825  -76.23178095 -124.91859566  304.19685499  -45.97028682\n",
      " -135.46252585  299.95264938  267.19596384 -122.2172783   131.77558943\n",
      " -176.28156722  102.24460113   10.19122142 -293.55778894   51.54928065\n",
      "  -21.90938273  133.88798303  192.72702807  172.6262694   142.66302361\n",
      "   77.91749935  170.14848283   71.40957476 -200.92979064 -104.31255843\n",
      "  117.72771914  -47.25628039   21.45933886  -47.73703613 -195.4123103\n",
      " -261.36765596  421.85305183 -224.04479469 -378.77552306  -48.04341312\n",
      "  321.2840149  -175.79345876 -349.53329966 -150.4841697   206.50946571\n",
      " -325.65272624  -98.46890411   20.6986626    22.22509592   19.76268979\n",
      "   23.87635096  -91.83273332  294.22896077 -174.19533683 -121.35388533\n",
      " -254.36889999  -93.50320492  476.4166027    33.43842719 -290.86128013\n",
      "   57.44177742   34.05741893    4.99066894  -70.41946426   48.92024783\n",
      "  309.08542659  287.3086092  -312.3608613   -30.80686857 -212.92945638\n",
      " -268.19708751 -224.42559629 -233.88560483  190.26516858  -91.07007266\n",
      "  171.25144267  183.25564441    8.28254553  183.95932634  178.33849031\n",
      " -263.91346269  320.31178096 -201.81813513    9.7709033   109.14022937\n",
      "   98.96037684 -133.92883797 -505.9991135    99.7330647    65.87269636\n",
      "   -8.72065367 -217.97193913  232.42602315 -230.33839332  -36.82169109\n",
      "  111.11292042  141.33858852  -35.95595843  453.78028452 -237.3698039\n",
      " -226.0121632  -295.00914849  371.20309439  -45.65992301  -86.37842132\n",
      "   61.95311964  149.24631859  -14.78857949   73.96621503 -423.86552615\n",
      " -612.37866902  235.9722816  -111.22296326 -508.85451909   29.98736671\n",
      "  -61.47079047  -43.86060331  -54.6217096   137.08209701  122.04621586\n",
      " -132.83049649  -45.82208566   62.03294748  -96.8080043   187.39544727\n",
      "  115.10044991 -162.34728273 -400.82368443  -82.61660861 -128.6807225\n",
      "  331.98908359   70.47571317  201.72357648 -217.03204836   57.26663738\n",
      " -210.56913635 -135.04036878  213.47996231  400.73448469  242.09003113\n",
      " -200.37987808  -19.9897356  -180.46360494  191.27383464  -11.27819254\n",
      "  -50.00220375  237.80459431  -37.21321315 -188.62415742   69.32249114\n",
      "  214.61753049   49.82885286 -182.87230119 -147.34176868 -142.79459109\n",
      " -206.87456233  -24.40745206  130.52495159   47.23613264  225.18932686\n",
      "  283.97898163   13.25334169   27.30739004 -144.21817038  253.7961294\n",
      " -110.274709    250.42285957  217.9333881  -253.72776543  -30.11738577\n",
      "   38.9595756  -194.84121387 -347.03921352   61.82437595    7.37830838\n",
      "   28.55194872 -333.12227468 -121.22689274  281.48172448 -229.8574488\n",
      " -245.57767373   20.72863018  -76.8681577   -33.58057368 -208.49085131\n",
      "   91.11045033 -112.16479765  202.10502802  -66.58916097  103.80769525\n",
      " -105.68505732  149.53625505 -272.1962868   121.9558335  -159.8867483\n",
      "   86.85313598 -340.54143672  236.96205215  116.46410869 -105.62622233\n",
      "   41.31767254  159.3728111   -70.41594744   77.17131247  413.67964573\n",
      "  337.04574864 -397.46104297  -36.68846528 -298.57036932 -303.81036275\n",
      " -216.98746191  -16.03860961 -182.80041735  197.14946732  190.59201352\n",
      "   47.71663688  -36.87457615  153.28803563   35.27261282  127.14173325\n",
      " -252.59357387  -26.37915237 -229.06163934  233.19699479 -400.70796909\n",
      "  163.24904425  -37.24056922   90.50899729  444.1837097   269.8806077\n",
      "   80.49495265 -216.45766489  108.10853703  -16.9354797  -126.44313587\n",
      "   99.35209945  -92.40215512 -172.41286501  104.48521472  618.84451474\n",
      " -292.38650057   50.31592444 -422.84664865  298.6947936  -175.56199373\n",
      "  106.98206384  -22.93707375 -200.65623636  501.16573968  138.55058959\n",
      "    2.78632328 -286.15346677  -98.37341999   62.12087229   24.77966028\n",
      "   63.8675885   -76.06083359  284.95098681   96.88663909  359.86174517\n",
      "  258.2149108    45.87200864  -54.1459366    96.67995798  552.61043608\n",
      "    8.33746984 -216.04363539   74.60462922  340.00067992  100.93471291\n",
      "  329.23485668 -316.6816134    38.88977034 -272.48159808 -243.32193429\n",
      "  286.03075113 -479.69690447 -277.29964812  187.91680042   34.19272195\n",
      "  -29.00900015 -123.5790764   267.3264295  -198.69941837  -92.68916591\n",
      "  241.45564664  126.07441568 -203.21840559  199.47573197  -17.14252748\n",
      "  238.55896697 -114.05836777 -104.09553558  186.44772394 -171.4531952\n",
      "  395.09567447  396.98553105 -270.94350096  156.64900747   85.74868974\n",
      "  212.04173492  -58.6401427   -25.53101135  -43.45636672  109.40049934\n",
      "  135.32691263 -132.33255762  -51.8125617   110.62538533    4.15896261\n",
      "   58.45326327 -356.54060581 -144.10777997 -355.8119813   353.21721909\n",
      "  -94.94219405  151.68998522 -247.14943716  273.1712018   477.35223666\n",
      "   95.5786097  -152.68748723  172.94880074 -313.13296642 -165.81989759\n",
      "  -14.40532054   34.09699616  -49.82854602   96.521707    131.37652222\n",
      "  400.8596006    56.49580519 -132.75600212 -137.00177573 -128.21478171\n",
      "  -56.27171891  159.76834865 -193.62031821 -235.4711      215.61543753\n",
      " -334.21698104 -401.87506285    7.81633334  250.78345598  175.47246646\n",
      "  311.29128088   49.63563311  -54.43306377   32.14830692  448.19411744\n",
      "  488.30180298  257.72176529  200.57304518  572.23664848  -39.33803865\n",
      "  413.75928096 -349.97004508  122.21443036 -377.14259582   19.45410694\n",
      "  154.34082158 -184.56772648  486.61077385  238.67573264  144.77109777\n",
      " -283.76545955  -87.79406229  119.26570692   50.64572704  -57.90757749\n",
      "   15.10164928    9.23193326 -117.52822646  182.85684825 -204.88374398\n",
      "  240.03728718   -1.81713218 -151.58746584  -61.01201949 -101.45346807\n",
      " -200.63367698 -110.53779505   21.51377988 -419.99230448  200.78522467\n",
      " -156.57593846 -398.29309564   40.70568416 -143.95331528 -147.99804661\n",
      "  -50.70052767  110.82665393  -54.72468239  103.39121515  349.3642458\n",
      " -199.70459859 -193.86576305 -442.46810748  394.54088507   19.02186975\n",
      "  -89.6785533   206.17571664]\n"
     ]
    }
   ],
   "source": [
    "X, y = make_regression(n_samples=512, n_features=10, n_informative=512, n_targets=1,  noise=0.0, shuffle=True, coef=False, random_state=None)\n",
    "\n",
    "print(X,y)"
   ]
  },
  {
   "cell_type": "code",
   "execution_count": 48,
   "metadata": {},
   "outputs": [
    {
     "data": {
      "text/html": [
       "<div>\n",
       "<style scoped>\n",
       "    .dataframe tbody tr th:only-of-type {\n",
       "        vertical-align: middle;\n",
       "    }\n",
       "\n",
       "    .dataframe tbody tr th {\n",
       "        vertical-align: top;\n",
       "    }\n",
       "\n",
       "    .dataframe thead th {\n",
       "        text-align: right;\n",
       "    }\n",
       "</style>\n",
       "<table border=\"1\" class=\"dataframe\">\n",
       "  <thead>\n",
       "    <tr style=\"text-align: right;\">\n",
       "      <th></th>\n",
       "      <th>0</th>\n",
       "      <th>1</th>\n",
       "      <th>2</th>\n",
       "      <th>3</th>\n",
       "      <th>4</th>\n",
       "      <th>5</th>\n",
       "      <th>6</th>\n",
       "      <th>7</th>\n",
       "      <th>8</th>\n",
       "      <th>9</th>\n",
       "    </tr>\n",
       "  </thead>\n",
       "  <tbody>\n",
       "    <tr>\n",
       "      <th>-328.486824</th>\n",
       "      <td>-0.244471</td>\n",
       "      <td>-0.237519</td>\n",
       "      <td>-1.368269</td>\n",
       "      <td>-0.558049</td>\n",
       "      <td>0.299877</td>\n",
       "      <td>-1.038529</td>\n",
       "      <td>0.216357</td>\n",
       "      <td>-1.800419</td>\n",
       "      <td>-0.157650</td>\n",
       "      <td>-0.021797</td>\n",
       "    </tr>\n",
       "    <tr>\n",
       "      <th>-148.822454</th>\n",
       "      <td>0.020233</td>\n",
       "      <td>1.854544</td>\n",
       "      <td>-0.338558</td>\n",
       "      <td>-0.531852</td>\n",
       "      <td>-0.837964</td>\n",
       "      <td>1.563195</td>\n",
       "      <td>-2.491018</td>\n",
       "      <td>-1.622263</td>\n",
       "      <td>0.018011</td>\n",
       "      <td>0.565237</td>\n",
       "    </tr>\n",
       "    <tr>\n",
       "      <th>-134.894371</th>\n",
       "      <td>1.952508</td>\n",
       "      <td>0.314949</td>\n",
       "      <td>1.239492</td>\n",
       "      <td>-1.666761</td>\n",
       "      <td>-1.301619</td>\n",
       "      <td>0.178151</td>\n",
       "      <td>-0.281175</td>\n",
       "      <td>0.382447</td>\n",
       "      <td>-0.630903</td>\n",
       "      <td>-1.122346</td>\n",
       "    </tr>\n",
       "    <tr>\n",
       "      <th>-164.100947</th>\n",
       "      <td>0.762915</td>\n",
       "      <td>0.689880</td>\n",
       "      <td>0.859095</td>\n",
       "      <td>0.851592</td>\n",
       "      <td>-1.913104</td>\n",
       "      <td>-1.862779</td>\n",
       "      <td>-0.542072</td>\n",
       "      <td>-1.610363</td>\n",
       "      <td>-0.360909</td>\n",
       "      <td>-0.396752</td>\n",
       "    </tr>\n",
       "    <tr>\n",
       "      <th>246.518853</th>\n",
       "      <td>-0.917831</td>\n",
       "      <td>-0.565720</td>\n",
       "      <td>1.146981</td>\n",
       "      <td>-0.502455</td>\n",
       "      <td>0.095975</td>\n",
       "      <td>0.388434</td>\n",
       "      <td>1.254249</td>\n",
       "      <td>1.441313</td>\n",
       "      <td>1.113454</td>\n",
       "      <td>-0.585420</td>\n",
       "    </tr>\n",
       "  </tbody>\n",
       "</table>\n",
       "</div>"
      ],
      "text/plain": [
       "                    0         1         2         3         4         5  \\\n",
       "-328.486824 -0.244471 -0.237519 -1.368269 -0.558049  0.299877 -1.038529   \n",
       "-148.822454  0.020233  1.854544 -0.338558 -0.531852 -0.837964  1.563195   \n",
       "-134.894371  1.952508  0.314949  1.239492 -1.666761 -1.301619  0.178151   \n",
       "-164.100947  0.762915  0.689880  0.859095  0.851592 -1.913104 -1.862779   \n",
       " 246.518853 -0.917831 -0.565720  1.146981 -0.502455  0.095975  0.388434   \n",
       "\n",
       "                    6         7         8         9  \n",
       "-328.486824  0.216357 -1.800419 -0.157650 -0.021797  \n",
       "-148.822454 -2.491018 -1.622263  0.018011  0.565237  \n",
       "-134.894371 -0.281175  0.382447 -0.630903 -1.122346  \n",
       "-164.100947 -0.542072 -1.610363 -0.360909 -0.396752  \n",
       " 246.518853  1.254249  1.441313  1.113454 -0.585420  "
      ]
     },
     "execution_count": 48,
     "metadata": {},
     "output_type": "execute_result"
    }
   ],
   "source": [
    "df = pd.DataFrame(X, y)\n",
    "df.to_csv('sklearn_data_set.csv')\n",
    "df.head()"
   ]
  },
  {
   "cell_type": "code",
   "execution_count": 49,
   "metadata": {},
   "outputs": [
    {
     "name": "stdout",
     "output_type": "stream",
     "text": [
      "<class 'pandas.core.frame.DataFrame'>\n",
      "Float64Index: 512 entries, -328.48682387639275 to 206.17571664471944\n",
      "Data columns (total 10 columns):\n",
      " #   Column  Non-Null Count  Dtype  \n",
      "---  ------  --------------  -----  \n",
      " 0   0       512 non-null    float64\n",
      " 1   1       512 non-null    float64\n",
      " 2   2       512 non-null    float64\n",
      " 3   3       512 non-null    float64\n",
      " 4   4       512 non-null    float64\n",
      " 5   5       512 non-null    float64\n",
      " 6   6       512 non-null    float64\n",
      " 7   7       512 non-null    float64\n",
      " 8   8       512 non-null    float64\n",
      " 9   9       512 non-null    float64\n",
      "dtypes: float64(10)\n",
      "memory usage: 44.0 KB\n"
     ]
    }
   ],
   "source": [
    "df.info()"
   ]
  },
  {
   "cell_type": "code",
   "execution_count": 50,
   "metadata": {},
   "outputs": [
    {
     "data": {
      "text/html": [
       "<div>\n",
       "<style scoped>\n",
       "    .dataframe tbody tr th:only-of-type {\n",
       "        vertical-align: middle;\n",
       "    }\n",
       "\n",
       "    .dataframe tbody tr th {\n",
       "        vertical-align: top;\n",
       "    }\n",
       "\n",
       "    .dataframe thead th {\n",
       "        text-align: right;\n",
       "    }\n",
       "</style>\n",
       "<table border=\"1\" class=\"dataframe\">\n",
       "  <thead>\n",
       "    <tr style=\"text-align: right;\">\n",
       "      <th></th>\n",
       "      <th>0</th>\n",
       "      <th>1</th>\n",
       "      <th>2</th>\n",
       "      <th>3</th>\n",
       "      <th>4</th>\n",
       "      <th>5</th>\n",
       "      <th>6</th>\n",
       "      <th>7</th>\n",
       "      <th>8</th>\n",
       "      <th>9</th>\n",
       "    </tr>\n",
       "  </thead>\n",
       "  <tbody>\n",
       "    <tr>\n",
       "      <th>count</th>\n",
       "      <td>512.000000</td>\n",
       "      <td>512.000000</td>\n",
       "      <td>512.000000</td>\n",
       "      <td>512.000000</td>\n",
       "      <td>512.000000</td>\n",
       "      <td>512.000000</td>\n",
       "      <td>512.000000</td>\n",
       "      <td>512.000000</td>\n",
       "      <td>512.000000</td>\n",
       "      <td>512.000000</td>\n",
       "    </tr>\n",
       "    <tr>\n",
       "      <th>mean</th>\n",
       "      <td>-0.018926</td>\n",
       "      <td>0.052911</td>\n",
       "      <td>-0.014556</td>\n",
       "      <td>-0.047077</td>\n",
       "      <td>-0.033303</td>\n",
       "      <td>0.083252</td>\n",
       "      <td>-0.025566</td>\n",
       "      <td>-0.026583</td>\n",
       "      <td>0.103649</td>\n",
       "      <td>-0.001436</td>\n",
       "    </tr>\n",
       "    <tr>\n",
       "      <th>std</th>\n",
       "      <td>1.033512</td>\n",
       "      <td>0.992398</td>\n",
       "      <td>1.008899</td>\n",
       "      <td>0.998439</td>\n",
       "      <td>1.058717</td>\n",
       "      <td>0.972918</td>\n",
       "      <td>1.027188</td>\n",
       "      <td>1.010052</td>\n",
       "      <td>0.973222</td>\n",
       "      <td>1.034564</td>\n",
       "    </tr>\n",
       "    <tr>\n",
       "      <th>min</th>\n",
       "      <td>-3.340303</td>\n",
       "      <td>-2.784497</td>\n",
       "      <td>-2.888839</td>\n",
       "      <td>-3.055453</td>\n",
       "      <td>-3.185944</td>\n",
       "      <td>-2.327121</td>\n",
       "      <td>-2.736172</td>\n",
       "      <td>-3.256652</td>\n",
       "      <td>-2.390593</td>\n",
       "      <td>-3.151746</td>\n",
       "    </tr>\n",
       "    <tr>\n",
       "      <th>25%</th>\n",
       "      <td>-0.697906</td>\n",
       "      <td>-0.573010</td>\n",
       "      <td>-0.690231</td>\n",
       "      <td>-0.661855</td>\n",
       "      <td>-0.771193</td>\n",
       "      <td>-0.549648</td>\n",
       "      <td>-0.678725</td>\n",
       "      <td>-0.674504</td>\n",
       "      <td>-0.600249</td>\n",
       "      <td>-0.716914</td>\n",
       "    </tr>\n",
       "    <tr>\n",
       "      <th>50%</th>\n",
       "      <td>0.023643</td>\n",
       "      <td>0.013351</td>\n",
       "      <td>0.006633</td>\n",
       "      <td>-0.010375</td>\n",
       "      <td>0.007605</td>\n",
       "      <td>0.055777</td>\n",
       "      <td>-0.055163</td>\n",
       "      <td>0.000987</td>\n",
       "      <td>0.171279</td>\n",
       "      <td>-0.044727</td>\n",
       "    </tr>\n",
       "    <tr>\n",
       "      <th>75%</th>\n",
       "      <td>0.690165</td>\n",
       "      <td>0.702923</td>\n",
       "      <td>0.703931</td>\n",
       "      <td>0.670407</td>\n",
       "      <td>0.684442</td>\n",
       "      <td>0.695737</td>\n",
       "      <td>0.693872</td>\n",
       "      <td>0.673929</td>\n",
       "      <td>0.762673</td>\n",
       "      <td>0.607775</td>\n",
       "    </tr>\n",
       "    <tr>\n",
       "      <th>max</th>\n",
       "      <td>2.546422</td>\n",
       "      <td>2.555624</td>\n",
       "      <td>3.355387</td>\n",
       "      <td>3.225322</td>\n",
       "      <td>3.388393</td>\n",
       "      <td>3.593938</td>\n",
       "      <td>3.081134</td>\n",
       "      <td>3.039850</td>\n",
       "      <td>3.196192</td>\n",
       "      <td>3.685823</td>\n",
       "    </tr>\n",
       "  </tbody>\n",
       "</table>\n",
       "</div>"
      ],
      "text/plain": [
       "                0           1           2           3           4           5  \\\n",
       "count  512.000000  512.000000  512.000000  512.000000  512.000000  512.000000   \n",
       "mean    -0.018926    0.052911   -0.014556   -0.047077   -0.033303    0.083252   \n",
       "std      1.033512    0.992398    1.008899    0.998439    1.058717    0.972918   \n",
       "min     -3.340303   -2.784497   -2.888839   -3.055453   -3.185944   -2.327121   \n",
       "25%     -0.697906   -0.573010   -0.690231   -0.661855   -0.771193   -0.549648   \n",
       "50%      0.023643    0.013351    0.006633   -0.010375    0.007605    0.055777   \n",
       "75%      0.690165    0.702923    0.703931    0.670407    0.684442    0.695737   \n",
       "max      2.546422    2.555624    3.355387    3.225322    3.388393    3.593938   \n",
       "\n",
       "                6           7           8           9  \n",
       "count  512.000000  512.000000  512.000000  512.000000  \n",
       "mean    -0.025566   -0.026583    0.103649   -0.001436  \n",
       "std      1.027188    1.010052    0.973222    1.034564  \n",
       "min     -2.736172   -3.256652   -2.390593   -3.151746  \n",
       "25%     -0.678725   -0.674504   -0.600249   -0.716914  \n",
       "50%     -0.055163    0.000987    0.171279   -0.044727  \n",
       "75%      0.693872    0.673929    0.762673    0.607775  \n",
       "max      3.081134    3.039850    3.196192    3.685823  "
      ]
     },
     "execution_count": 50,
     "metadata": {},
     "output_type": "execute_result"
    }
   ],
   "source": [
    "df.describe()"
   ]
  },
  {
   "cell_type": "code",
   "execution_count": 51,
   "metadata": {},
   "outputs": [
    {
     "data": {
      "text/plain": [
       "<AxesSubplot:>"
      ]
     },
     "execution_count": 51,
     "metadata": {},
     "output_type": "execute_result"
    },
    {
     "data": {
      "image/png": "[encoded data removed]",
      "text/plain": [
       "<Figure size 432x288 with 2 Axes>"
      ]
     },
     "metadata": {
      "needs_background": "light"
     },
     "output_type": "display_data"
    }
   ],
   "source": [
    "corr = df.corr()\n",
    "sns.heatmap(corr, cmap=\"rainbow\")"
   ]
  },
  {
   "cell_type": "markdown",
   "metadata": {},
   "source": [
    "## Завдання 2"
   ]
  },
  {
   "cell_type": "code",
   "execution_count": 52,
   "metadata": {},
   "outputs": [
    {
     "ename": "FileNotFoundError",
     "evalue": "[Errno 2] No such file or directory: 'voice.csv'",
     "output_type": "error",
     "traceback": [
      "\u001b[1;31m---------------------------------------------------------------------------\u001b[0m",
      "\u001b[1;31mFileNotFoundError\u001b[0m                         Traceback (most recent call last)",
      "\u001b[1;32m<ipython-input-52-0072e300fa53>\u001b[0m in \u001b[0;36m<module>\u001b[1;34m\u001b[0m\n\u001b[1;32m----> 1\u001b[1;33m \u001b[0mdf\u001b[0m \u001b[1;33m=\u001b[0m \u001b[0mpd\u001b[0m\u001b[1;33m.\u001b[0m\u001b[0mread_csv\u001b[0m\u001b[1;33m(\u001b[0m\u001b[1;34m'voice.csv'\u001b[0m\u001b[1;33m)\u001b[0m\u001b[1;33m\u001b[0m\u001b[1;33m\u001b[0m\u001b[0m\n\u001b[0m\u001b[0;32m      2\u001b[0m \u001b[0mdf\u001b[0m\u001b[1;33m.\u001b[0m\u001b[0mhead\u001b[0m\u001b[1;33m(\u001b[0m\u001b[1;33m)\u001b[0m\u001b[1;33m\u001b[0m\u001b[1;33m\u001b[0m\u001b[0m\n",
      "\u001b[1;32m~\\anaconda3\\lib\\site-packages\\pandas\\io\\parsers.py\u001b[0m in \u001b[0;36mread_csv\u001b[1;34m(filepath_or_buffer, sep, delimiter, header, names, index_col, usecols, squeeze, prefix, mangle_dupe_cols, dtype, engine, converters, true_values, false_values, skipinitialspace, skiprows, skipfooter, nrows, na_values, keep_default_na, na_filter, verbose, skip_blank_lines, parse_dates, infer_datetime_format, keep_date_col, date_parser, dayfirst, cache_dates, iterator, chunksize, compression, thousands, decimal, lineterminator, quotechar, quoting, doublequote, escapechar, comment, encoding, dialect, error_bad_lines, warn_bad_lines, delim_whitespace, low_memory, memory_map, float_precision, storage_options)\u001b[0m\n\u001b[0;32m    608\u001b[0m     \u001b[0mkwds\u001b[0m\u001b[1;33m.\u001b[0m\u001b[0mupdate\u001b[0m\u001b[1;33m(\u001b[0m\u001b[0mkwds_defaults\u001b[0m\u001b[1;33m)\u001b[0m\u001b[1;33m\u001b[0m\u001b[1;33m\u001b[0m\u001b[0m\n\u001b[0;32m    609\u001b[0m \u001b[1;33m\u001b[0m\u001b[0m\n\u001b[1;32m--> 610\u001b[1;33m     \u001b[1;32mreturn\u001b[0m \u001b[0m_read\u001b[0m\u001b[1;33m(\u001b[0m\u001b[0mfilepath_or_buffer\u001b[0m\u001b[1;33m,\u001b[0m \u001b[0mkwds\u001b[0m\u001b[1;33m)\u001b[0m\u001b[1;33m\u001b[0m\u001b[1;33m\u001b[0m\u001b[0m\n\u001b[0m\u001b[0;32m    611\u001b[0m \u001b[1;33m\u001b[0m\u001b[0m\n\u001b[0;32m    612\u001b[0m \u001b[1;33m\u001b[0m\u001b[0m\n",
      "\u001b[1;32m~\\anaconda3\\lib\\site-packages\\pandas\\io\\parsers.py\u001b[0m in \u001b[0;36m_read\u001b[1;34m(filepath_or_buffer, kwds)\u001b[0m\n\u001b[0;32m    460\u001b[0m \u001b[1;33m\u001b[0m\u001b[0m\n\u001b[0;32m    461\u001b[0m     \u001b[1;31m# Create the parser.\u001b[0m\u001b[1;33m\u001b[0m\u001b[1;33m\u001b[0m\u001b[1;33m\u001b[0m\u001b[0m\n\u001b[1;32m--> 462\u001b[1;33m     \u001b[0mparser\u001b[0m \u001b[1;33m=\u001b[0m \u001b[0mTextFileReader\u001b[0m\u001b[1;33m(\u001b[0m\u001b[0mfilepath_or_buffer\u001b[0m\u001b[1;33m,\u001b[0m \u001b[1;33m**\u001b[0m\u001b[0mkwds\u001b[0m\u001b[1;33m)\u001b[0m\u001b[1;33m\u001b[0m\u001b[1;33m\u001b[0m\u001b[0m\n\u001b[0m\u001b[0;32m    463\u001b[0m \u001b[1;33m\u001b[0m\u001b[0m\n\u001b[0;32m    464\u001b[0m     \u001b[1;32mif\u001b[0m \u001b[0mchunksize\u001b[0m \u001b[1;32mor\u001b[0m \u001b[0miterator\u001b[0m\u001b[1;33m:\u001b[0m\u001b[1;33m\u001b[0m\u001b[1;33m\u001b[0m\u001b[0m\n",
      "\u001b[1;32m~\\anaconda3\\lib\\site-packages\\pandas\\io\\parsers.py\u001b[0m in \u001b[0;36m__init__\u001b[1;34m(self, f, engine, **kwds)\u001b[0m\n\u001b[0;32m    817\u001b[0m             \u001b[0mself\u001b[0m\u001b[1;33m.\u001b[0m\u001b[0moptions\u001b[0m\u001b[1;33m[\u001b[0m\u001b[1;34m\"has_index_names\"\u001b[0m\u001b[1;33m]\u001b[0m \u001b[1;33m=\u001b[0m \u001b[0mkwds\u001b[0m\u001b[1;33m[\u001b[0m\u001b[1;34m\"has_index_names\"\u001b[0m\u001b[1;33m]\u001b[0m\u001b[1;33m\u001b[0m\u001b[1;33m\u001b[0m\u001b[0m\n\u001b[0;32m    818\u001b[0m \u001b[1;33m\u001b[0m\u001b[0m\n\u001b[1;32m--> 819\u001b[1;33m         \u001b[0mself\u001b[0m\u001b[1;33m.\u001b[0m\u001b[0m_engine\u001b[0m \u001b[1;33m=\u001b[0m \u001b[0mself\u001b[0m\u001b[1;33m.\u001b[0m\u001b[0m_make_engine\u001b[0m\u001b[1;33m(\u001b[0m\u001b[0mself\u001b[0m\u001b[1;33m.\u001b[0m\u001b[0mengine\u001b[0m\u001b[1;33m)\u001b[0m\u001b[1;33m\u001b[0m\u001b[1;33m\u001b[0m\u001b[0m\n\u001b[0m\u001b[0;32m    820\u001b[0m \u001b[1;33m\u001b[0m\u001b[0m\n\u001b[0;32m    821\u001b[0m     \u001b[1;32mdef\u001b[0m \u001b[0mclose\u001b[0m\u001b[1;33m(\u001b[0m\u001b[0mself\u001b[0m\u001b[1;33m)\u001b[0m\u001b[1;33m:\u001b[0m\u001b[1;33m\u001b[0m\u001b[1;33m\u001b[0m\u001b[0m\n",
      "\u001b[1;32m~\\anaconda3\\lib\\site-packages\\pandas\\io\\parsers.py\u001b[0m in \u001b[0;36m_make_engine\u001b[1;34m(self, engine)\u001b[0m\n\u001b[0;32m   1048\u001b[0m             )\n\u001b[0;32m   1049\u001b[0m         \u001b[1;31m# error: Too many arguments for \"ParserBase\"\u001b[0m\u001b[1;33m\u001b[0m\u001b[1;33m\u001b[0m\u001b[1;33m\u001b[0m\u001b[0m\n\u001b[1;32m-> 1050\u001b[1;33m         \u001b[1;32mreturn\u001b[0m \u001b[0mmapping\u001b[0m\u001b[1;33m[\u001b[0m\u001b[0mengine\u001b[0m\u001b[1;33m]\u001b[0m\u001b[1;33m(\u001b[0m\u001b[0mself\u001b[0m\u001b[1;33m.\u001b[0m\u001b[0mf\u001b[0m\u001b[1;33m,\u001b[0m \u001b[1;33m**\u001b[0m\u001b[0mself\u001b[0m\u001b[1;33m.\u001b[0m\u001b[0moptions\u001b[0m\u001b[1;33m)\u001b[0m  \u001b[1;31m# type: ignore[call-arg]\u001b[0m\u001b[1;33m\u001b[0m\u001b[1;33m\u001b[0m\u001b[0m\n\u001b[0m\u001b[0;32m   1051\u001b[0m \u001b[1;33m\u001b[0m\u001b[0m\n\u001b[0;32m   1052\u001b[0m     \u001b[1;32mdef\u001b[0m \u001b[0m_failover_to_python\u001b[0m\u001b[1;33m(\u001b[0m\u001b[0mself\u001b[0m\u001b[1;33m)\u001b[0m\u001b[1;33m:\u001b[0m\u001b[1;33m\u001b[0m\u001b[1;33m\u001b[0m\u001b[0m\n",
      "\u001b[1;32m~\\anaconda3\\lib\\site-packages\\pandas\\io\\parsers.py\u001b[0m in \u001b[0;36m__init__\u001b[1;34m(self, src, **kwds)\u001b[0m\n\u001b[0;32m   1865\u001b[0m \u001b[1;33m\u001b[0m\u001b[0m\n\u001b[0;32m   1866\u001b[0m         \u001b[1;31m# open handles\u001b[0m\u001b[1;33m\u001b[0m\u001b[1;33m\u001b[0m\u001b[1;33m\u001b[0m\u001b[0m\n\u001b[1;32m-> 1867\u001b[1;33m         \u001b[0mself\u001b[0m\u001b[1;33m.\u001b[0m\u001b[0m_open_handles\u001b[0m\u001b[1;33m(\u001b[0m\u001b[0msrc\u001b[0m\u001b[1;33m,\u001b[0m \u001b[0mkwds\u001b[0m\u001b[1;33m)\u001b[0m\u001b[1;33m\u001b[0m\u001b[1;33m\u001b[0m\u001b[0m\n\u001b[0m\u001b[0;32m   1868\u001b[0m         \u001b[1;32massert\u001b[0m \u001b[0mself\u001b[0m\u001b[1;33m.\u001b[0m\u001b[0mhandles\u001b[0m \u001b[1;32mis\u001b[0m \u001b[1;32mnot\u001b[0m \u001b[1;32mNone\u001b[0m\u001b[1;33m\u001b[0m\u001b[1;33m\u001b[0m\u001b[0m\n\u001b[0;32m   1869\u001b[0m         \u001b[1;32mfor\u001b[0m \u001b[0mkey\u001b[0m \u001b[1;32min\u001b[0m \u001b[1;33m(\u001b[0m\u001b[1;34m\"storage_options\"\u001b[0m\u001b[1;33m,\u001b[0m \u001b[1;34m\"encoding\"\u001b[0m\u001b[1;33m,\u001b[0m \u001b[1;34m\"memory_map\"\u001b[0m\u001b[1;33m,\u001b[0m \u001b[1;34m\"compression\"\u001b[0m\u001b[1;33m)\u001b[0m\u001b[1;33m:\u001b[0m\u001b[1;33m\u001b[0m\u001b[1;33m\u001b[0m\u001b[0m\n",
      "\u001b[1;32m~\\anaconda3\\lib\\site-packages\\pandas\\io\\parsers.py\u001b[0m in \u001b[0;36m_open_handles\u001b[1;34m(self, src, kwds)\u001b[0m\n\u001b[0;32m   1360\u001b[0m         \u001b[0mLet\u001b[0m \u001b[0mthe\u001b[0m \u001b[0mreaders\u001b[0m \u001b[0mopen\u001b[0m \u001b[0mIOHanldes\u001b[0m \u001b[0mafter\u001b[0m \u001b[0mthey\u001b[0m \u001b[0mare\u001b[0m \u001b[0mdone\u001b[0m \u001b[1;32mwith\u001b[0m \u001b[0mtheir\u001b[0m \u001b[0mpotential\u001b[0m \u001b[0mraises\u001b[0m\u001b[1;33m.\u001b[0m\u001b[1;33m\u001b[0m\u001b[1;33m\u001b[0m\u001b[0m\n\u001b[0;32m   1361\u001b[0m         \"\"\"\n\u001b[1;32m-> 1362\u001b[1;33m         self.handles = get_handle(\n\u001b[0m\u001b[0;32m   1363\u001b[0m             \u001b[0msrc\u001b[0m\u001b[1;33m,\u001b[0m\u001b[1;33m\u001b[0m\u001b[1;33m\u001b[0m\u001b[0m\n\u001b[0;32m   1364\u001b[0m             \u001b[1;34m\"r\"\u001b[0m\u001b[1;33m,\u001b[0m\u001b[1;33m\u001b[0m\u001b[1;33m\u001b[0m\u001b[0m\n",
      "\u001b[1;32m~\\anaconda3\\lib\\site-packages\\pandas\\io\\common.py\u001b[0m in \u001b[0;36mget_handle\u001b[1;34m(path_or_buf, mode, encoding, compression, memory_map, is_text, errors, storage_options)\u001b[0m\n\u001b[0;32m    640\u001b[0m                 \u001b[0merrors\u001b[0m \u001b[1;33m=\u001b[0m \u001b[1;34m\"replace\"\u001b[0m\u001b[1;33m\u001b[0m\u001b[1;33m\u001b[0m\u001b[0m\n\u001b[0;32m    641\u001b[0m             \u001b[1;31m# Encoding\u001b[0m\u001b[1;33m\u001b[0m\u001b[1;33m\u001b[0m\u001b[1;33m\u001b[0m\u001b[0m\n\u001b[1;32m--> 642\u001b[1;33m             handle = open(\n\u001b[0m\u001b[0;32m    643\u001b[0m                 \u001b[0mhandle\u001b[0m\u001b[1;33m,\u001b[0m\u001b[1;33m\u001b[0m\u001b[1;33m\u001b[0m\u001b[0m\n\u001b[0;32m    644\u001b[0m                 \u001b[0mioargs\u001b[0m\u001b[1;33m.\u001b[0m\u001b[0mmode\u001b[0m\u001b[1;33m,\u001b[0m\u001b[1;33m\u001b[0m\u001b[1;33m\u001b[0m\u001b[0m\n",
      "\u001b[1;31mFileNotFoundError\u001b[0m: [Errno 2] No such file or directory: 'voice.csv'"
     ]
    }
   ],
   "source": [
    "df = pd.read_csv('')\n",
    "df.head()"
   ]
  },
  {
   "cell_type": "code",
   "execution_count": 53,
   "metadata": {},
   "outputs": [
    {
     "name": "stdout",
     "output_type": "stream",
     "text": [
      "<class 'pandas.core.frame.DataFrame'>\n",
      "Float64Index: 512 entries, -328.48682387639275 to 206.17571664471944\n",
      "Data columns (total 10 columns):\n",
      " #   Column  Non-Null Count  Dtype  \n",
      "---  ------  --------------  -----  \n",
      " 0   0       512 non-null    float64\n",
      " 1   1       512 non-null    float64\n",
      " 2   2       512 non-null    float64\n",
      " 3   3       512 non-null    float64\n",
      " 4   4       512 non-null    float64\n",
      " 5   5       512 non-null    float64\n",
      " 6   6       512 non-null    float64\n",
      " 7   7       512 non-null    float64\n",
      " 8   8       512 non-null    float64\n",
      " 9   9       512 non-null    float64\n",
      "dtypes: float64(10)\n",
      "memory usage: 44.0 KB\n"
     ]
    }
   ],
   "source": [
    "df.info()"
   ]
  },
  {
   "cell_type": "code",
   "execution_count": 54,
   "metadata": {},
   "outputs": [
    {
     "data": {
      "text/html": [
       "<div>\n",
       "<style scoped>\n",
       "    .dataframe tbody tr th:only-of-type {\n",
       "        vertical-align: middle;\n",
       "    }\n",
       "\n",
       "    .dataframe tbody tr th {\n",
       "        vertical-align: top;\n",
       "    }\n",
       "\n",
       "    .dataframe thead th {\n",
       "        text-align: right;\n",
       "    }\n",
       "</style>\n",
       "<table border=\"1\" class=\"dataframe\">\n",
       "  <thead>\n",
       "    <tr style=\"text-align: right;\">\n",
       "      <th></th>\n",
       "      <th>0</th>\n",
       "      <th>1</th>\n",
       "      <th>2</th>\n",
       "      <th>3</th>\n",
       "      <th>4</th>\n",
       "      <th>5</th>\n",
       "      <th>6</th>\n",
       "      <th>7</th>\n",
       "      <th>8</th>\n",
       "      <th>9</th>\n",
       "    </tr>\n",
       "  </thead>\n",
       "  <tbody>\n",
       "    <tr>\n",
       "      <th>count</th>\n",
       "      <td>512.000000</td>\n",
       "      <td>512.000000</td>\n",
       "      <td>512.000000</td>\n",
       "      <td>512.000000</td>\n",
       "      <td>512.000000</td>\n",
       "      <td>512.000000</td>\n",
       "      <td>512.000000</td>\n",
       "      <td>512.000000</td>\n",
       "      <td>512.000000</td>\n",
       "      <td>512.000000</td>\n",
       "    </tr>\n",
       "    <tr>\n",
       "      <th>mean</th>\n",
       "      <td>-0.018926</td>\n",
       "      <td>0.052911</td>\n",
       "      <td>-0.014556</td>\n",
       "      <td>-0.047077</td>\n",
       "      <td>-0.033303</td>\n",
       "      <td>0.083252</td>\n",
       "      <td>-0.025566</td>\n",
       "      <td>-0.026583</td>\n",
       "      <td>0.103649</td>\n",
       "      <td>-0.001436</td>\n",
       "    </tr>\n",
       "    <tr>\n",
       "      <th>std</th>\n",
       "      <td>1.033512</td>\n",
       "      <td>0.992398</td>\n",
       "      <td>1.008899</td>\n",
       "      <td>0.998439</td>\n",
       "      <td>1.058717</td>\n",
       "      <td>0.972918</td>\n",
       "      <td>1.027188</td>\n",
       "      <td>1.010052</td>\n",
       "      <td>0.973222</td>\n",
       "      <td>1.034564</td>\n",
       "    </tr>\n",
       "    <tr>\n",
       "      <th>min</th>\n",
       "      <td>-3.340303</td>\n",
       "      <td>-2.784497</td>\n",
       "      <td>-2.888839</td>\n",
       "      <td>-3.055453</td>\n",
       "      <td>-3.185944</td>\n",
       "      <td>-2.327121</td>\n",
       "      <td>-2.736172</td>\n",
       "      <td>-3.256652</td>\n",
       "      <td>-2.390593</td>\n",
       "      <td>-3.151746</td>\n",
       "    </tr>\n",
       "    <tr>\n",
       "      <th>25%</th>\n",
       "      <td>-0.697906</td>\n",
       "      <td>-0.573010</td>\n",
       "      <td>-0.690231</td>\n",
       "      <td>-0.661855</td>\n",
       "      <td>-0.771193</td>\n",
       "      <td>-0.549648</td>\n",
       "      <td>-0.678725</td>\n",
       "      <td>-0.674504</td>\n",
       "      <td>-0.600249</td>\n",
       "      <td>-0.716914</td>\n",
       "    </tr>\n",
       "    <tr>\n",
       "      <th>50%</th>\n",
       "      <td>0.023643</td>\n",
       "      <td>0.013351</td>\n",
       "      <td>0.006633</td>\n",
       "      <td>-0.010375</td>\n",
       "      <td>0.007605</td>\n",
       "      <td>0.055777</td>\n",
       "      <td>-0.055163</td>\n",
       "      <td>0.000987</td>\n",
       "      <td>0.171279</td>\n",
       "      <td>-0.044727</td>\n",
       "    </tr>\n",
       "    <tr>\n",
       "      <th>75%</th>\n",
       "      <td>0.690165</td>\n",
       "      <td>0.702923</td>\n",
       "      <td>0.703931</td>\n",
       "      <td>0.670407</td>\n",
       "      <td>0.684442</td>\n",
       "      <td>0.695737</td>\n",
       "      <td>0.693872</td>\n",
       "      <td>0.673929</td>\n",
       "      <td>0.762673</td>\n",
       "      <td>0.607775</td>\n",
       "    </tr>\n",
       "    <tr>\n",
       "      <th>max</th>\n",
       "      <td>2.546422</td>\n",
       "      <td>2.555624</td>\n",
       "      <td>3.355387</td>\n",
       "      <td>3.225322</td>\n",
       "      <td>3.388393</td>\n",
       "      <td>3.593938</td>\n",
       "      <td>3.081134</td>\n",
       "      <td>3.039850</td>\n",
       "      <td>3.196192</td>\n",
       "      <td>3.685823</td>\n",
       "    </tr>\n",
       "  </tbody>\n",
       "</table>\n",
       "</div>"
      ],
      "text/plain": [
       "                0           1           2           3           4           5  \\\n",
       "count  512.000000  512.000000  512.000000  512.000000  512.000000  512.000000   \n",
       "mean    -0.018926    0.052911   -0.014556   -0.047077   -0.033303    0.083252   \n",
       "std      1.033512    0.992398    1.008899    0.998439    1.058717    0.972918   \n",
       "min     -3.340303   -2.784497   -2.888839   -3.055453   -3.185944   -2.327121   \n",
       "25%     -0.697906   -0.573010   -0.690231   -0.661855   -0.771193   -0.549648   \n",
       "50%      0.023643    0.013351    0.006633   -0.010375    0.007605    0.055777   \n",
       "75%      0.690165    0.702923    0.703931    0.670407    0.684442    0.695737   \n",
       "max      2.546422    2.555624    3.355387    3.225322    3.388393    3.593938   \n",
       "\n",
       "                6           7           8           9  \n",
       "count  512.000000  512.000000  512.000000  512.000000  \n",
       "mean    -0.025566   -0.026583    0.103649   -0.001436  \n",
       "std      1.027188    1.010052    0.973222    1.034564  \n",
       "min     -2.736172   -3.256652   -2.390593   -3.151746  \n",
       "25%     -0.678725   -0.674504   -0.600249   -0.716914  \n",
       "50%     -0.055163    0.000987    0.171279   -0.044727  \n",
       "75%      0.693872    0.673929    0.762673    0.607775  \n",
       "max      3.081134    3.039850    3.196192    3.685823  "
      ]
     },
     "execution_count": 54,
     "metadata": {},
     "output_type": "execute_result"
    }
   ],
   "source": [
    "df.describe()"
   ]
  },
  {
   "cell_type": "code",
   "execution_count": 55,
   "metadata": {},
   "outputs": [
    {
     "data": {
      "text/plain": [
       "<AxesSubplot:>"
      ]
     },
     "execution_count": 55,
     "metadata": {},
     "output_type": "execute_result"
    },
    {
     "data": {
      "image/png": "[encoded data removed]",
      "text/plain": [
       "<Figure size 432x288 with 2 Axes>"
      ]
     },
     "metadata": {
      "needs_background": "light"
     },
     "output_type": "display_data"
    }
   ],
   "source": [
    "corr = df.corr()\n",
    "sns.heatmap(corr, cmap=\"YlGnBu\")"
   ]
  },
  {
   "cell_type": "code",
   "execution_count": 56,
   "metadata": {},
   "outputs": [],
   "source": [
    "import sklearn\n",
    "from sklearn.model_selection import train_test_split"
   ]
  },
  {
   "cell_type": "code",
   "execution_count": 57,
   "metadata": {},
   "outputs": [
    {
     "ename": "KeyError",
     "evalue": "\"None of [Index(['meanfreq', 'sd', 'median', 'Q25', 'Q75', 'IQR', 'skew', 'kurt',\\n       'sp.ent', 'sfm', 'mode', 'centroid', 'meanfun', 'minfun', 'maxfun',\\n       'meandom', 'mindom', 'maxdom', 'dfrange'],\\n      dtype='object')] are in the [columns]\"",
     "output_type": "error",
     "traceback": [
      "\u001b[1;31m---------------------------------------------------------------------------\u001b[0m",
      "\u001b[1;31mKeyError\u001b[0m                                  Traceback (most recent call last)",
      "\u001b[1;32m<ipython-input-57-6d0f17836c40>\u001b[0m in \u001b[0;36m<module>\u001b[1;34m\u001b[0m\n\u001b[0;32m      1\u001b[0m \u001b[0mcolumns\u001b[0m\u001b[1;33m=\u001b[0m\u001b[0mdf\u001b[0m\u001b[1;33m.\u001b[0m\u001b[0mcolumns\u001b[0m \u001b[1;31m#label не використовую, він не типу int або float\u001b[0m\u001b[1;33m\u001b[0m\u001b[1;33m\u001b[0m\u001b[0m\n\u001b[0;32m      2\u001b[0m \u001b[0mcolumns\u001b[0m\u001b[1;33m=\u001b[0m\u001b[0mcolumns\u001b[0m\u001b[1;33m[\u001b[0m\u001b[1;33m:\u001b[0m\u001b[1;36m19\u001b[0m\u001b[1;33m]\u001b[0m\u001b[1;33m\u001b[0m\u001b[1;33m\u001b[0m\u001b[0m\n\u001b[1;32m----> 3\u001b[1;33m \u001b[0mX\u001b[0m\u001b[1;33m=\u001b[0m\u001b[0mdf\u001b[0m\u001b[1;33m[\u001b[0m\u001b[1;33m[\u001b[0m\u001b[1;34m'meanfreq'\u001b[0m\u001b[1;33m,\u001b[0m \u001b[1;34m'sd'\u001b[0m\u001b[1;33m,\u001b[0m \u001b[1;34m'median'\u001b[0m\u001b[1;33m,\u001b[0m \u001b[1;34m'Q25'\u001b[0m\u001b[1;33m,\u001b[0m \u001b[1;34m'Q75'\u001b[0m\u001b[1;33m,\u001b[0m \u001b[1;34m'IQR'\u001b[0m\u001b[1;33m,\u001b[0m \u001b[1;34m'skew'\u001b[0m\u001b[1;33m,\u001b[0m \u001b[1;34m'kurt'\u001b[0m\u001b[1;33m,\u001b[0m \u001b[1;34m'sp.ent'\u001b[0m\u001b[1;33m,\u001b[0m \u001b[1;34m'sfm'\u001b[0m\u001b[1;33m,\u001b[0m \u001b[1;34m'mode'\u001b[0m\u001b[1;33m,\u001b[0m \u001b[1;34m'centroid'\u001b[0m\u001b[1;33m,\u001b[0m \u001b[1;34m'meanfun'\u001b[0m\u001b[1;33m,\u001b[0m \u001b[1;34m'minfun'\u001b[0m\u001b[1;33m,\u001b[0m \u001b[1;34m'maxfun'\u001b[0m\u001b[1;33m,\u001b[0m \u001b[1;34m'meandom'\u001b[0m\u001b[1;33m,\u001b[0m \u001b[1;34m'mindom'\u001b[0m\u001b[1;33m,\u001b[0m \u001b[1;34m'maxdom'\u001b[0m\u001b[1;33m,\u001b[0m \u001b[1;34m'dfrange'\u001b[0m\u001b[1;33m]\u001b[0m\u001b[1;33m]\u001b[0m\u001b[1;33m\u001b[0m\u001b[1;33m\u001b[0m\u001b[0m\n\u001b[0m\u001b[0;32m      4\u001b[0m \u001b[1;33m\u001b[0m\u001b[0m\n\u001b[0;32m      5\u001b[0m \u001b[0my\u001b[0m\u001b[1;33m=\u001b[0m\u001b[0mdf\u001b[0m\u001b[1;33m[\u001b[0m\u001b[1;33m[\u001b[0m\u001b[1;34m'modindx'\u001b[0m\u001b[1;33m]\u001b[0m\u001b[1;33m]\u001b[0m\u001b[1;33m\u001b[0m\u001b[1;33m\u001b[0m\u001b[0m\n",
      "\u001b[1;32m~\\anaconda3\\lib\\site-packages\\pandas\\core\\frame.py\u001b[0m in \u001b[0;36m__getitem__\u001b[1;34m(self, key)\u001b[0m\n\u001b[0;32m   3028\u001b[0m             \u001b[1;32mif\u001b[0m \u001b[0mis_iterator\u001b[0m\u001b[1;33m(\u001b[0m\u001b[0mkey\u001b[0m\u001b[1;33m)\u001b[0m\u001b[1;33m:\u001b[0m\u001b[1;33m\u001b[0m\u001b[1;33m\u001b[0m\u001b[0m\n\u001b[0;32m   3029\u001b[0m                 \u001b[0mkey\u001b[0m \u001b[1;33m=\u001b[0m \u001b[0mlist\u001b[0m\u001b[1;33m(\u001b[0m\u001b[0mkey\u001b[0m\u001b[1;33m)\u001b[0m\u001b[1;33m\u001b[0m\u001b[1;33m\u001b[0m\u001b[0m\n\u001b[1;32m-> 3030\u001b[1;33m             \u001b[0mindexer\u001b[0m \u001b[1;33m=\u001b[0m \u001b[0mself\u001b[0m\u001b[1;33m.\u001b[0m\u001b[0mloc\u001b[0m\u001b[1;33m.\u001b[0m\u001b[0m_get_listlike_indexer\u001b[0m\u001b[1;33m(\u001b[0m\u001b[0mkey\u001b[0m\u001b[1;33m,\u001b[0m \u001b[0maxis\u001b[0m\u001b[1;33m=\u001b[0m\u001b[1;36m1\u001b[0m\u001b[1;33m,\u001b[0m \u001b[0mraise_missing\u001b[0m\u001b[1;33m=\u001b[0m\u001b[1;32mTrue\u001b[0m\u001b[1;33m)\u001b[0m\u001b[1;33m[\u001b[0m\u001b[1;36m1\u001b[0m\u001b[1;33m]\u001b[0m\u001b[1;33m\u001b[0m\u001b[1;33m\u001b[0m\u001b[0m\n\u001b[0m\u001b[0;32m   3031\u001b[0m \u001b[1;33m\u001b[0m\u001b[0m\n\u001b[0;32m   3032\u001b[0m         \u001b[1;31m# take() does not accept boolean indexers\u001b[0m\u001b[1;33m\u001b[0m\u001b[1;33m\u001b[0m\u001b[1;33m\u001b[0m\u001b[0m\n",
      "\u001b[1;32m~\\anaconda3\\lib\\site-packages\\pandas\\core\\indexing.py\u001b[0m in \u001b[0;36m_get_listlike_indexer\u001b[1;34m(self, key, axis, raise_missing)\u001b[0m\n\u001b[0;32m   1264\u001b[0m             \u001b[0mkeyarr\u001b[0m\u001b[1;33m,\u001b[0m \u001b[0mindexer\u001b[0m\u001b[1;33m,\u001b[0m \u001b[0mnew_indexer\u001b[0m \u001b[1;33m=\u001b[0m \u001b[0max\u001b[0m\u001b[1;33m.\u001b[0m\u001b[0m_reindex_non_unique\u001b[0m\u001b[1;33m(\u001b[0m\u001b[0mkeyarr\u001b[0m\u001b[1;33m)\u001b[0m\u001b[1;33m\u001b[0m\u001b[1;33m\u001b[0m\u001b[0m\n\u001b[0;32m   1265\u001b[0m \u001b[1;33m\u001b[0m\u001b[0m\n\u001b[1;32m-> 1266\u001b[1;33m         \u001b[0mself\u001b[0m\u001b[1;33m.\u001b[0m\u001b[0m_validate_read_indexer\u001b[0m\u001b[1;33m(\u001b[0m\u001b[0mkeyarr\u001b[0m\u001b[1;33m,\u001b[0m \u001b[0mindexer\u001b[0m\u001b[1;33m,\u001b[0m \u001b[0maxis\u001b[0m\u001b[1;33m,\u001b[0m \u001b[0mraise_missing\u001b[0m\u001b[1;33m=\u001b[0m\u001b[0mraise_missing\u001b[0m\u001b[1;33m)\u001b[0m\u001b[1;33m\u001b[0m\u001b[1;33m\u001b[0m\u001b[0m\n\u001b[0m\u001b[0;32m   1267\u001b[0m         \u001b[1;32mreturn\u001b[0m \u001b[0mkeyarr\u001b[0m\u001b[1;33m,\u001b[0m \u001b[0mindexer\u001b[0m\u001b[1;33m\u001b[0m\u001b[1;33m\u001b[0m\u001b[0m\n\u001b[0;32m   1268\u001b[0m \u001b[1;33m\u001b[0m\u001b[0m\n",
      "\u001b[1;32m~\\anaconda3\\lib\\site-packages\\pandas\\core\\indexing.py\u001b[0m in \u001b[0;36m_validate_read_indexer\u001b[1;34m(self, key, indexer, axis, raise_missing)\u001b[0m\n\u001b[0;32m   1306\u001b[0m             \u001b[1;32mif\u001b[0m \u001b[0mmissing\u001b[0m \u001b[1;33m==\u001b[0m \u001b[0mlen\u001b[0m\u001b[1;33m(\u001b[0m\u001b[0mindexer\u001b[0m\u001b[1;33m)\u001b[0m\u001b[1;33m:\u001b[0m\u001b[1;33m\u001b[0m\u001b[1;33m\u001b[0m\u001b[0m\n\u001b[0;32m   1307\u001b[0m                 \u001b[0maxis_name\u001b[0m \u001b[1;33m=\u001b[0m \u001b[0mself\u001b[0m\u001b[1;33m.\u001b[0m\u001b[0mobj\u001b[0m\u001b[1;33m.\u001b[0m\u001b[0m_get_axis_name\u001b[0m\u001b[1;33m(\u001b[0m\u001b[0maxis\u001b[0m\u001b[1;33m)\u001b[0m\u001b[1;33m\u001b[0m\u001b[1;33m\u001b[0m\u001b[0m\n\u001b[1;32m-> 1308\u001b[1;33m                 \u001b[1;32mraise\u001b[0m \u001b[0mKeyError\u001b[0m\u001b[1;33m(\u001b[0m\u001b[1;34mf\"None of [{key}] are in the [{axis_name}]\"\u001b[0m\u001b[1;33m)\u001b[0m\u001b[1;33m\u001b[0m\u001b[1;33m\u001b[0m\u001b[0m\n\u001b[0m\u001b[0;32m   1309\u001b[0m \u001b[1;33m\u001b[0m\u001b[0m\n\u001b[0;32m   1310\u001b[0m             \u001b[0max\u001b[0m \u001b[1;33m=\u001b[0m \u001b[0mself\u001b[0m\u001b[1;33m.\u001b[0m\u001b[0mobj\u001b[0m\u001b[1;33m.\u001b[0m\u001b[0m_get_axis\u001b[0m\u001b[1;33m(\u001b[0m\u001b[0maxis\u001b[0m\u001b[1;33m)\u001b[0m\u001b[1;33m\u001b[0m\u001b[1;33m\u001b[0m\u001b[0m\n",
      "\u001b[1;31mKeyError\u001b[0m: \"None of [Index(['meanfreq', 'sd', 'median', 'Q25', 'Q75', 'IQR', 'skew', 'kurt',\\n       'sp.ent', 'sfm', 'mode', 'centroid', 'meanfun', 'minfun', 'maxfun',\\n       'meandom', 'mindom', 'maxdom', 'dfrange'],\\n      dtype='object')] are in the [columns]\""
     ]
    }
   ],
   "source": [
    "columns=df.columns \n",
    "columns=columns[:19]\n",
    "X=df[['meanfreq', 'sd', 'median', 'Q25', 'Q75', 'IQR', 'skew', 'kurt', 'sp.ent', 'sfm', 'mode', 'centroid', 'meanfun', 'minfun', 'maxfun', 'meandom', 'mindom', 'maxdom', 'dfrange']]\n",
    "\n",
    "y=df[['modindx']]"
   ]
  },
  {
   "cell_type": "code",
   "execution_count": 13,
   "metadata": {},
   "outputs": [],
   "source": [
    "X_train,X_test,y_train,y_test = train_test_split(X,y,test_size=0.3)"
   ]
  },
  {
   "cell_type": "code",
   "execution_count": 14,
   "metadata": {},
   "outputs": [],
   "source": [
    "from sklearn.linear_model import LinearRegression"
   ]
  },
  {
   "cell_type": "code",
   "execution_count": 15,
   "metadata": {},
   "outputs": [],
   "source": [
    "lr = LinearRegression()"
   ]
  },
  {
   "cell_type": "code",
   "execution_count": 16,
   "metadata": {},
   "outputs": [
    {
     "data": {
      "text/plain": [
       "LinearRegression()"
      ]
     },
     "execution_count": 16,
     "metadata": {},
     "output_type": "execute_result"
    }
   ],
   "source": [
    "lr.fit(X_train,y_train)"
   ]
  },
  {
   "cell_type": "code",
   "execution_count": 17,
   "metadata": {},
   "outputs": [],
   "source": [
    "y_Hat = lr.predict(X_test)"
   ]
  },
  {
   "cell_type": "code",
   "execution_count": 18,
   "metadata": {},
   "outputs": [
    {
     "data": {
      "text/plain": [
       "1.8514482876112612e-13"
      ]
     },
     "execution_count": 18,
     "metadata": {},
     "output_type": "execute_result"
    }
   ],
   "source": [
    "from sklearn.metrics import mean_absolute_error\n",
    "\n",
    "mean_absolute_error(y_test, y_Hat)"
   ]
  },
  {
   "cell_type": "code",
   "execution_count": 19,
   "metadata": {},
   "outputs": [
    {
     "data": {
      "text/plain": [
       "5.597545937543786e-26"
      ]
     },
     "execution_count": 19,
     "metadata": {},
     "output_type": "execute_result"
    }
   ],
   "source": [
    "from sklearn.metrics import mean_squared_error \n",
    "mean_squared_error(y_test, y_Hat)"
   ]
  },
  {
   "cell_type": "code",
   "execution_count": 20,
   "metadata": {},
   "outputs": [
    {
     "data": {
      "text/html": [
       "<div>\n",
       "<style scoped>\n",
       "    .dataframe tbody tr th:only-of-type {\n",
       "        vertical-align: middle;\n",
       "    }\n",
       "\n",
       "    .dataframe tbody tr th {\n",
       "        vertical-align: top;\n",
       "    }\n",
       "\n",
       "    .dataframe thead th {\n",
       "        text-align: right;\n",
       "    }\n",
       "</style>\n",
       "<table border=\"1\" class=\"dataframe\">\n",
       "  <thead>\n",
       "    <tr style=\"text-align: right;\">\n",
       "      <th></th>\n",
       "      <th>0</th>\n",
       "      <th>modindx_predicted</th>\n",
       "    </tr>\n",
       "  </thead>\n",
       "  <tbody>\n",
       "    <tr>\n",
       "      <th>0</th>\n",
       "      <td>209.106189</td>\n",
       "      <td>209.106189</td>\n",
       "    </tr>\n",
       "    <tr>\n",
       "      <th>1</th>\n",
       "      <td>218.470524</td>\n",
       "      <td>218.470524</td>\n",
       "    </tr>\n",
       "    <tr>\n",
       "      <th>2</th>\n",
       "      <td>12.494558</td>\n",
       "      <td>12.494558</td>\n",
       "    </tr>\n",
       "    <tr>\n",
       "      <th>3</th>\n",
       "      <td>-108.605014</td>\n",
       "      <td>-108.605014</td>\n",
       "    </tr>\n",
       "    <tr>\n",
       "      <th>4</th>\n",
       "      <td>-88.165734</td>\n",
       "      <td>-88.165734</td>\n",
       "    </tr>\n",
       "  </tbody>\n",
       "</table>\n",
       "</div>"
      ],
      "text/plain": [
       "            0  modindx_predicted\n",
       "0  209.106189         209.106189\n",
       "1  218.470524         218.470524\n",
       "2   12.494558          12.494558\n",
       "3 -108.605014        -108.605014\n",
       "4  -88.165734         -88.165734"
      ]
     },
     "execution_count": 20,
     "metadata": {},
     "output_type": "execute_result"
    }
   ],
   "source": [
    "res = pd.DataFrame(y_test)\n",
    "res['modindx_predicted'] = y_Hat\n",
    "\n",
    "res.head()"
   ]
  },
  {
   "cell_type": "code",
   "execution_count": 21,
   "metadata": {},
   "outputs": [
    {
     "ename": "KeyError",
     "evalue": "'modindx'",
     "output_type": "error",
     "traceback": [
      "\u001b[1;31m---------------------------------------------------------------------------\u001b[0m",
      "\u001b[1;31mKeyError\u001b[0m                                  Traceback (most recent call last)",
      "\u001b[1;32m~\\anaconda3\\lib\\site-packages\\pandas\\core\\indexes\\base.py\u001b[0m in \u001b[0;36mget_loc\u001b[1;34m(self, key, method, tolerance)\u001b[0m\n\u001b[0;32m   3079\u001b[0m             \u001b[1;32mtry\u001b[0m\u001b[1;33m:\u001b[0m\u001b[1;33m\u001b[0m\u001b[1;33m\u001b[0m\u001b[0m\n\u001b[1;32m-> 3080\u001b[1;33m                 \u001b[1;32mreturn\u001b[0m \u001b[0mself\u001b[0m\u001b[1;33m.\u001b[0m\u001b[0m_engine\u001b[0m\u001b[1;33m.\u001b[0m\u001b[0mget_loc\u001b[0m\u001b[1;33m(\u001b[0m\u001b[0mcasted_key\u001b[0m\u001b[1;33m)\u001b[0m\u001b[1;33m\u001b[0m\u001b[1;33m\u001b[0m\u001b[0m\n\u001b[0m\u001b[0;32m   3081\u001b[0m             \u001b[1;32mexcept\u001b[0m \u001b[0mKeyError\u001b[0m \u001b[1;32mas\u001b[0m \u001b[0merr\u001b[0m\u001b[1;33m:\u001b[0m\u001b[1;33m\u001b[0m\u001b[1;33m\u001b[0m\u001b[0m\n",
      "\u001b[1;32mpandas\\_libs\\index.pyx\u001b[0m in \u001b[0;36mpandas._libs.index.IndexEngine.get_loc\u001b[1;34m()\u001b[0m\n",
      "\u001b[1;32mpandas\\_libs\\index.pyx\u001b[0m in \u001b[0;36mpandas._libs.index.IndexEngine.get_loc\u001b[1;34m()\u001b[0m\n",
      "\u001b[1;32mpandas\\_libs\\hashtable_class_helper.pxi\u001b[0m in \u001b[0;36mpandas._libs.hashtable.PyObjectHashTable.get_item\u001b[1;34m()\u001b[0m\n",
      "\u001b[1;32mpandas\\_libs\\hashtable_class_helper.pxi\u001b[0m in \u001b[0;36mpandas._libs.hashtable.PyObjectHashTable.get_item\u001b[1;34m()\u001b[0m\n",
      "\u001b[1;31mKeyError\u001b[0m: 'modindx'",
      "\nThe above exception was the direct cause of the following exception:\n",
      "\u001b[1;31mKeyError\u001b[0m                                  Traceback (most recent call last)",
      "\u001b[1;32m<ipython-input-21-7f7df7e0d667>\u001b[0m in \u001b[0;36m<module>\u001b[1;34m\u001b[0m\n\u001b[1;32m----> 1\u001b[1;33m \u001b[0mplt\u001b[0m\u001b[1;33m.\u001b[0m\u001b[0mscatter\u001b[0m\u001b[1;33m(\u001b[0m\u001b[0mres\u001b[0m\u001b[1;33m[\u001b[0m\u001b[1;34m'modindx'\u001b[0m\u001b[1;33m]\u001b[0m\u001b[1;33m,\u001b[0m\u001b[0mres\u001b[0m\u001b[1;33m[\u001b[0m\u001b[1;34m'modindx_predicted'\u001b[0m\u001b[1;33m]\u001b[0m\u001b[1;33m)\u001b[0m\u001b[1;33m\u001b[0m\u001b[1;33m\u001b[0m\u001b[0m\n\u001b[0m",
      "\u001b[1;32m~\\anaconda3\\lib\\site-packages\\pandas\\core\\frame.py\u001b[0m in \u001b[0;36m__getitem__\u001b[1;34m(self, key)\u001b[0m\n\u001b[0;32m   3022\u001b[0m             \u001b[1;32mif\u001b[0m \u001b[0mself\u001b[0m\u001b[1;33m.\u001b[0m\u001b[0mcolumns\u001b[0m\u001b[1;33m.\u001b[0m\u001b[0mnlevels\u001b[0m \u001b[1;33m>\u001b[0m \u001b[1;36m1\u001b[0m\u001b[1;33m:\u001b[0m\u001b[1;33m\u001b[0m\u001b[1;33m\u001b[0m\u001b[0m\n\u001b[0;32m   3023\u001b[0m                 \u001b[1;32mreturn\u001b[0m \u001b[0mself\u001b[0m\u001b[1;33m.\u001b[0m\u001b[0m_getitem_multilevel\u001b[0m\u001b[1;33m(\u001b[0m\u001b[0mkey\u001b[0m\u001b[1;33m)\u001b[0m\u001b[1;33m\u001b[0m\u001b[1;33m\u001b[0m\u001b[0m\n\u001b[1;32m-> 3024\u001b[1;33m             \u001b[0mindexer\u001b[0m \u001b[1;33m=\u001b[0m \u001b[0mself\u001b[0m\u001b[1;33m.\u001b[0m\u001b[0mcolumns\u001b[0m\u001b[1;33m.\u001b[0m\u001b[0mget_loc\u001b[0m\u001b[1;33m(\u001b[0m\u001b[0mkey\u001b[0m\u001b[1;33m)\u001b[0m\u001b[1;33m\u001b[0m\u001b[1;33m\u001b[0m\u001b[0m\n\u001b[0m\u001b[0;32m   3025\u001b[0m             \u001b[1;32mif\u001b[0m \u001b[0mis_integer\u001b[0m\u001b[1;33m(\u001b[0m\u001b[0mindexer\u001b[0m\u001b[1;33m)\u001b[0m\u001b[1;33m:\u001b[0m\u001b[1;33m\u001b[0m\u001b[1;33m\u001b[0m\u001b[0m\n\u001b[0;32m   3026\u001b[0m                 \u001b[0mindexer\u001b[0m \u001b[1;33m=\u001b[0m \u001b[1;33m[\u001b[0m\u001b[0mindexer\u001b[0m\u001b[1;33m]\u001b[0m\u001b[1;33m\u001b[0m\u001b[1;33m\u001b[0m\u001b[0m\n",
      "\u001b[1;32m~\\anaconda3\\lib\\site-packages\\pandas\\core\\indexes\\base.py\u001b[0m in \u001b[0;36mget_loc\u001b[1;34m(self, key, method, tolerance)\u001b[0m\n\u001b[0;32m   3080\u001b[0m                 \u001b[1;32mreturn\u001b[0m \u001b[0mself\u001b[0m\u001b[1;33m.\u001b[0m\u001b[0m_engine\u001b[0m\u001b[1;33m.\u001b[0m\u001b[0mget_loc\u001b[0m\u001b[1;33m(\u001b[0m\u001b[0mcasted_key\u001b[0m\u001b[1;33m)\u001b[0m\u001b[1;33m\u001b[0m\u001b[1;33m\u001b[0m\u001b[0m\n\u001b[0;32m   3081\u001b[0m             \u001b[1;32mexcept\u001b[0m \u001b[0mKeyError\u001b[0m \u001b[1;32mas\u001b[0m \u001b[0merr\u001b[0m\u001b[1;33m:\u001b[0m\u001b[1;33m\u001b[0m\u001b[1;33m\u001b[0m\u001b[0m\n\u001b[1;32m-> 3082\u001b[1;33m                 \u001b[1;32mraise\u001b[0m \u001b[0mKeyError\u001b[0m\u001b[1;33m(\u001b[0m\u001b[0mkey\u001b[0m\u001b[1;33m)\u001b[0m \u001b[1;32mfrom\u001b[0m \u001b[0merr\u001b[0m\u001b[1;33m\u001b[0m\u001b[1;33m\u001b[0m\u001b[0m\n\u001b[0m\u001b[0;32m   3083\u001b[0m \u001b[1;33m\u001b[0m\u001b[0m\n\u001b[0;32m   3084\u001b[0m         \u001b[1;32mif\u001b[0m \u001b[0mtolerance\u001b[0m \u001b[1;32mis\u001b[0m \u001b[1;32mnot\u001b[0m \u001b[1;32mNone\u001b[0m\u001b[1;33m:\u001b[0m\u001b[1;33m\u001b[0m\u001b[1;33m\u001b[0m\u001b[0m\n",
      "\u001b[1;31mKeyError\u001b[0m: 'modindx'"
     ]
    }
   ],
   "source": [
    "plt.scatter(res['modindx'],res['modindx_predicted'])"
   ]
  },
  {
   "cell_type": "markdown",
   "metadata": {},
   "source": [
    "## Завдання 3"
   ]
  },
  {
   "cell_type": "code",
   "execution_count": 23,
   "metadata": {},
   "outputs": [],
   "source": [
    "import random as rnd\n",
    "\n",
    "sex = {0:'Man', 1:'Woman'}\n",
    "age = {0:'<20', 1:'>20'}\n",
    "certificate = {0:'have', 1:'dont have'}\n",
    "student = {0:'YES', 1:'NO'}\n",
    "numb_of_certif = {0:'0', 1:'1', 2:'2', 3:'more than 3'}\n",
    "language = {0:'Ukrainian', 1:'Russian', 2:'English', 3:'Another'}\n",
    "data = []\n",
    "for i in range(0, 512):\n",
    "    row = []\n",
    "    row.append(round(rnd.uniform(1, 50), 2))\n",
    "    row.append(round(rnd.uniform(1, 10), 2))\n",
    "    row.append(sex[rnd.randint(0, 1)])\n",
    "    row.append(age[rnd.randint(0, 1)])\n",
    "    row.append(certificate[rnd.randint(0, 1)])\n",
    "    row.append(student[rnd.randint(0, 1)])\n",
    "    row.append(numb_of_certif[rnd.randint(0, 3)])\n",
    "    row.append(language[rnd.randint(0, 3)])\n",
    "    data.append(row)\n",
    "df = pd.DataFrame(data, columns=['main_points', 'extra_points', 'sex', 'age', 'certificate', 'student', 'numb_of_certif', 'language'])"
   ]
  },
  {
   "cell_type": "code",
   "execution_count": 24,
   "metadata": {},
   "outputs": [],
   "source": [
    "df.replace({'Man': 0, 'Woman':1, '<20': 0, '>20':1, 'have':0, 'dont have':1, 'YES':0, 'NO':1, '0':0, '1':1, '2':2, 'more than 3':3, 'Ukrainian': 0\n",
    ", 'Russian':1, 'English':2, 'Another':3}, None, True)\n",
    "\n",
    "df.to_csv('my_data_set.csv')"
   ]
  },
  {
   "cell_type": "code",
   "execution_count": 25,
   "metadata": {},
   "outputs": [
    {
     "data": {
      "text/html": [
       "<div>\n",
       "<style scoped>\n",
       "    .dataframe tbody tr th:only-of-type {\n",
       "        vertical-align: middle;\n",
       "    }\n",
       "\n",
       "    .dataframe tbody tr th {\n",
       "        vertical-align: top;\n",
       "    }\n",
       "\n",
       "    .dataframe thead th {\n",
       "        text-align: right;\n",
       "    }\n",
       "</style>\n",
       "<table border=\"1\" class=\"dataframe\">\n",
       "  <thead>\n",
       "    <tr style=\"text-align: right;\">\n",
       "      <th></th>\n",
       "      <th>total_utility_bill</th>\n",
       "      <th>commission</th>\n",
       "      <th>sex</th>\n",
       "      <th>age</th>\n",
       "      <th>car</th>\n",
       "      <th>marital_status</th>\n",
       "      <th>child</th>\n",
       "      <th>citizenthip</th>\n",
       "    </tr>\n",
       "  </thead>\n",
       "  <tbody>\n",
       "    <tr>\n",
       "      <th>0</th>\n",
       "      <td>16.39</td>\n",
       "      <td>2.09</td>\n",
       "      <td>0</td>\n",
       "      <td>0</td>\n",
       "      <td>1</td>\n",
       "      <td>0</td>\n",
       "      <td>2</td>\n",
       "      <td>2</td>\n",
       "    </tr>\n",
       "    <tr>\n",
       "      <th>1</th>\n",
       "      <td>11.38</td>\n",
       "      <td>7.53</td>\n",
       "      <td>0</td>\n",
       "      <td>1</td>\n",
       "      <td>0</td>\n",
       "      <td>0</td>\n",
       "      <td>0</td>\n",
       "      <td>2</td>\n",
       "    </tr>\n",
       "    <tr>\n",
       "      <th>2</th>\n",
       "      <td>17.96</td>\n",
       "      <td>2.63</td>\n",
       "      <td>1</td>\n",
       "      <td>1</td>\n",
       "      <td>1</td>\n",
       "      <td>0</td>\n",
       "      <td>3</td>\n",
       "      <td>0</td>\n",
       "    </tr>\n",
       "    <tr>\n",
       "      <th>3</th>\n",
       "      <td>3.23</td>\n",
       "      <td>8.55</td>\n",
       "      <td>0</td>\n",
       "      <td>0</td>\n",
       "      <td>1</td>\n",
       "      <td>1</td>\n",
       "      <td>2</td>\n",
       "      <td>0</td>\n",
       "    </tr>\n",
       "    <tr>\n",
       "      <th>4</th>\n",
       "      <td>23.62</td>\n",
       "      <td>4.93</td>\n",
       "      <td>1</td>\n",
       "      <td>1</td>\n",
       "      <td>1</td>\n",
       "      <td>0</td>\n",
       "      <td>3</td>\n",
       "      <td>2</td>\n",
       "    </tr>\n",
       "  </tbody>\n",
       "</table>\n",
       "</div>"
      ],
      "text/plain": [
       "   total_utility_bill  commission  sex  age  car  marital_status  child  \\\n",
       "0               16.39        2.09    0    0    1               0      2   \n",
       "1               11.38        7.53    0    1    0               0      0   \n",
       "2               17.96        2.63    1    1    1               0      3   \n",
       "3                3.23        8.55    0    0    1               1      2   \n",
       "4               23.62        4.93    1    1    1               0      3   \n",
       "\n",
       "   citizenthip  \n",
       "0            2  \n",
       "1            2  \n",
       "2            0  \n",
       "3            0  \n",
       "4            2  "
      ]
     },
     "execution_count": 25,
     "metadata": {},
     "output_type": "execute_result"
    }
   ],
   "source": [
    "df.head()"
   ]
  },
  {
   "cell_type": "code",
   "execution_count": 26,
   "metadata": {},
   "outputs": [
    {
     "name": "stdout",
     "output_type": "stream",
     "text": [
      "<class 'pandas.core.frame.DataFrame'>\n",
      "RangeIndex: 512 entries, 0 to 511\n",
      "Data columns (total 8 columns):\n",
      " #   Column              Non-Null Count  Dtype  \n",
      "---  ------              --------------  -----  \n",
      " 0   total_utility_bill  512 non-null    float64\n",
      " 1   commission          512 non-null    float64\n",
      " 2   sex                 512 non-null    int64  \n",
      " 3   age                 512 non-null    int64  \n",
      " 4   car                 512 non-null    int64  \n",
      " 5   marital_status      512 non-null    int64  \n",
      " 6   child               512 non-null    int64  \n",
      " 7   citizenthip         512 non-null    int64  \n",
      "dtypes: float64(2), int64(6)\n",
      "memory usage: 32.1 KB\n"
     ]
    }
   ],
   "source": [
    "df.info()"
   ]
  },
  {
   "cell_type": "code",
   "execution_count": 27,
   "metadata": {},
   "outputs": [
    {
     "data": {
      "text/html": [
       "<div>\n",
       "<style scoped>\n",
       "    .dataframe tbody tr th:only-of-type {\n",
       "        vertical-align: middle;\n",
       "    }\n",
       "\n",
       "    .dataframe tbody tr th {\n",
       "        vertical-align: top;\n",
       "    }\n",
       "\n",
       "    .dataframe thead th {\n",
       "        text-align: right;\n",
       "    }\n",
       "</style>\n",
       "<table border=\"1\" class=\"dataframe\">\n",
       "  <thead>\n",
       "    <tr style=\"text-align: right;\">\n",
       "      <th></th>\n",
       "      <th>total_utility_bill</th>\n",
       "      <th>commission</th>\n",
       "      <th>sex</th>\n",
       "      <th>age</th>\n",
       "      <th>car</th>\n",
       "      <th>marital_status</th>\n",
       "      <th>child</th>\n",
       "      <th>citizenthip</th>\n",
       "    </tr>\n",
       "  </thead>\n",
       "  <tbody>\n",
       "    <tr>\n",
       "      <th>count</th>\n",
       "      <td>512.000000</td>\n",
       "      <td>512.000000</td>\n",
       "      <td>512.000000</td>\n",
       "      <td>512.000000</td>\n",
       "      <td>512.000000</td>\n",
       "      <td>512.000000</td>\n",
       "      <td>512.000000</td>\n",
       "      <td>512.000000</td>\n",
       "    </tr>\n",
       "    <tr>\n",
       "      <th>mean</th>\n",
       "      <td>25.433848</td>\n",
       "      <td>5.240332</td>\n",
       "      <td>0.494141</td>\n",
       "      <td>0.470703</td>\n",
       "      <td>0.525391</td>\n",
       "      <td>0.550781</td>\n",
       "      <td>1.498047</td>\n",
       "      <td>1.525391</td>\n",
       "    </tr>\n",
       "    <tr>\n",
       "      <th>std</th>\n",
       "      <td>13.864399</td>\n",
       "      <td>2.617658</td>\n",
       "      <td>0.500455</td>\n",
       "      <td>0.499629</td>\n",
       "      <td>0.499843</td>\n",
       "      <td>0.497901</td>\n",
       "      <td>1.097942</td>\n",
       "      <td>1.143064</td>\n",
       "    </tr>\n",
       "    <tr>\n",
       "      <th>min</th>\n",
       "      <td>1.170000</td>\n",
       "      <td>1.000000</td>\n",
       "      <td>0.000000</td>\n",
       "      <td>0.000000</td>\n",
       "      <td>0.000000</td>\n",
       "      <td>0.000000</td>\n",
       "      <td>0.000000</td>\n",
       "      <td>0.000000</td>\n",
       "    </tr>\n",
       "    <tr>\n",
       "      <th>25%</th>\n",
       "      <td>12.710000</td>\n",
       "      <td>2.780000</td>\n",
       "      <td>0.000000</td>\n",
       "      <td>0.000000</td>\n",
       "      <td>0.000000</td>\n",
       "      <td>0.000000</td>\n",
       "      <td>1.000000</td>\n",
       "      <td>0.000000</td>\n",
       "    </tr>\n",
       "    <tr>\n",
       "      <th>50%</th>\n",
       "      <td>25.320000</td>\n",
       "      <td>5.140000</td>\n",
       "      <td>0.000000</td>\n",
       "      <td>0.000000</td>\n",
       "      <td>1.000000</td>\n",
       "      <td>1.000000</td>\n",
       "      <td>1.000000</td>\n",
       "      <td>2.000000</td>\n",
       "    </tr>\n",
       "    <tr>\n",
       "      <th>75%</th>\n",
       "      <td>37.100000</td>\n",
       "      <td>7.472500</td>\n",
       "      <td>1.000000</td>\n",
       "      <td>1.000000</td>\n",
       "      <td>1.000000</td>\n",
       "      <td>1.000000</td>\n",
       "      <td>2.000000</td>\n",
       "      <td>3.000000</td>\n",
       "    </tr>\n",
       "    <tr>\n",
       "      <th>max</th>\n",
       "      <td>49.990000</td>\n",
       "      <td>9.920000</td>\n",
       "      <td>1.000000</td>\n",
       "      <td>1.000000</td>\n",
       "      <td>1.000000</td>\n",
       "      <td>1.000000</td>\n",
       "      <td>3.000000</td>\n",
       "      <td>3.000000</td>\n",
       "    </tr>\n",
       "  </tbody>\n",
       "</table>\n",
       "</div>"
      ],
      "text/plain": [
       "       total_utility_bill  commission         sex         age         car  \\\n",
       "count          512.000000  512.000000  512.000000  512.000000  512.000000   \n",
       "mean            25.433848    5.240332    0.494141    0.470703    0.525391   \n",
       "std             13.864399    2.617658    0.500455    0.499629    0.499843   \n",
       "min              1.170000    1.000000    0.000000    0.000000    0.000000   \n",
       "25%             12.710000    2.780000    0.000000    0.000000    0.000000   \n",
       "50%             25.320000    5.140000    0.000000    0.000000    1.000000   \n",
       "75%             37.100000    7.472500    1.000000    1.000000    1.000000   \n",
       "max             49.990000    9.920000    1.000000    1.000000    1.000000   \n",
       "\n",
       "       marital_status       child  citizenthip  \n",
       "count      512.000000  512.000000   512.000000  \n",
       "mean         0.550781    1.498047     1.525391  \n",
       "std          0.497901    1.097942     1.143064  \n",
       "min          0.000000    0.000000     0.000000  \n",
       "25%          0.000000    1.000000     0.000000  \n",
       "50%          1.000000    1.000000     2.000000  \n",
       "75%          1.000000    2.000000     3.000000  \n",
       "max          1.000000    3.000000     3.000000  "
      ]
     },
     "execution_count": 27,
     "metadata": {},
     "output_type": "execute_result"
    }
   ],
   "source": [
    "df.describe()"
   ]
  },
  {
   "cell_type": "code",
   "execution_count": 28,
   "metadata": {},
   "outputs": [
    {
     "data": {
      "text/plain": [
       "<AxesSubplot:>"
      ]
     },
     "execution_count": 28,
     "metadata": {},
     "output_type": "execute_result"
    },
    {
     "data": {
      "image/png": "[encoded data removed]",
      "text/plain": [
       "<Figure size 432x288 with 2 Axes>"
      ]
     },
     "metadata": {
      "needs_background": "light"
     },
     "output_type": "display_data"
    }
   ],
   "source": [
    "\n",
    "corr = df.corr()\n",
    "sns.heatmap(corr, cmap=\"YlGnBu\")"
   ]
  },
  {
   "cell_type": "code",
   "execution_count": 29,
   "metadata": {},
   "outputs": [],
   "source": [
    "columns=df.columns\n",
    "columns=columns[:7]\n",
    "X=df[['main_points', 'extra_points', 'sex', 'age', 'certificate', 'student', 'numb_of_certif']]\n",
    "\n",
    "y=df[['language']]"
   ]
  },
  {
   "cell_type": "code",
   "execution_count": 30,
   "metadata": {},
   "outputs": [],
   "source": [
    "X_train,X_test,y_train,y_test = train_test_split(X,y,test_size=0.3)"
   ]
  },
  {
   "cell_type": "code",
   "execution_count": 31,
   "metadata": {},
   "outputs": [],
   "source": [
    "lr = LinearRegression()"
   ]
  },
  {
   "cell_type": "code",
   "execution_count": 32,
   "metadata": {},
   "outputs": [
    {
     "data": {
      "text/plain": [
       "LinearRegression()"
      ]
     },
     "execution_count": 32,
     "metadata": {},
     "output_type": "execute_result"
    }
   ],
   "source": [
    "\n",
    "lr.fit(X_train,y_train)"
   ]
  },
  {
   "cell_type": "code",
   "execution_count": 33,
   "metadata": {},
   "outputs": [],
   "source": [
    "y_Hat = lr.predict(X_test)"
   ]
  },
  {
   "cell_type": "code",
   "execution_count": 34,
   "metadata": {},
   "outputs": [
    {
     "data": {
      "text/plain": [
       "1.0083720775048999"
      ]
     },
     "execution_count": 34,
     "metadata": {},
     "output_type": "execute_result"
    }
   ],
   "source": [
    "mean_absolute_error(y_test, y_Hat)"
   ]
  },
  {
   "cell_type": "code",
   "execution_count": 35,
   "metadata": {},
   "outputs": [
    {
     "data": {
      "text/plain": [
       "1.333326074398618"
      ]
     },
     "execution_count": 35,
     "metadata": {},
     "output_type": "execute_result"
    }
   ],
   "source": [
    "mean_squared_error(y_test, y_Hat)"
   ]
  },
  {
   "cell_type": "code",
   "execution_count": 36,
   "metadata": {},
   "outputs": [
    {
     "data": {
      "text/html": [
       "<div>\n",
       "<style scoped>\n",
       "    .dataframe tbody tr th:only-of-type {\n",
       "        vertical-align: middle;\n",
       "    }\n",
       "\n",
       "    .dataframe tbody tr th {\n",
       "        vertical-align: top;\n",
       "    }\n",
       "\n",
       "    .dataframe thead th {\n",
       "        text-align: right;\n",
       "    }\n",
       "</style>\n",
       "<table border=\"1\" class=\"dataframe\">\n",
       "  <thead>\n",
       "    <tr style=\"text-align: right;\">\n",
       "      <th></th>\n",
       "      <th>citizenthip</th>\n",
       "      <th>citizenthip_predicted</th>\n",
       "    </tr>\n",
       "  </thead>\n",
       "  <tbody>\n",
       "    <tr>\n",
       "      <th>101</th>\n",
       "      <td>0</td>\n",
       "      <td>1.327696</td>\n",
       "    </tr>\n",
       "    <tr>\n",
       "      <th>207</th>\n",
       "      <td>1</td>\n",
       "      <td>1.419837</td>\n",
       "    </tr>\n",
       "    <tr>\n",
       "      <th>427</th>\n",
       "      <td>0</td>\n",
       "      <td>1.356550</td>\n",
       "    </tr>\n",
       "    <tr>\n",
       "      <th>314</th>\n",
       "      <td>1</td>\n",
       "      <td>1.463259</td>\n",
       "    </tr>\n",
       "    <tr>\n",
       "      <th>382</th>\n",
       "      <td>3</td>\n",
       "      <td>1.913348</td>\n",
       "    </tr>\n",
       "  </tbody>\n",
       "</table>\n",
       "</div>"
      ],
      "text/plain": [
       "     citizenthip  citizenthip_predicted\n",
       "101            0               1.327696\n",
       "207            1               1.419837\n",
       "427            0               1.356550\n",
       "314            1               1.463259\n",
       "382            3               1.913348"
      ]
     },
     "execution_count": 36,
     "metadata": {},
     "output_type": "execute_result"
    }
   ],
   "source": [
    "res = pd.DataFrame(y_test)\n",
    "res['language_predicted'] = y_Hat\n",
    "\n",
    "res.head()"
   ]
  },
  {
   "cell_type": "code",
   "execution_count": 37,
   "metadata": {},
   "outputs": [
    {
     "data": {
      "text/plain": [
       "<matplotlib.collections.PathCollection at 0x2161bd9e8e0>"
      ]
     },
     "execution_count": 37,
     "metadata": {},
     "output_type": "execute_result"
    },
    {
     "data": {
      "image/png": "[encoded data removed]",
      "text/plain": [
       "<Figure size 432x288 with 1 Axes>"
      ]
     },
     "metadata": {
      "needs_background": "light"
     },
     "output_type": "display_data"
    }
   ],
   "source": [
    "plt.scatter(res['language'],res['language_predicted'])"
   ]
  }
 ],
 "metadata": {
  "interpreter": {
   "hash": "057fd5ff141c71cf3cd473b23444558c36ccf589c0a561d6383bef9cc6bbac53"
  },
  "kernelspec": {
   "display_name": "Python 3.8.8 64-bit ('base': conda)",
   "name": "python3"
  },
  "language_info": {
   "codemirror_mode": {
    "name": "ipython",
    "version": 3
   },
   "file_extension": ".py",
   "mimetype": "text/x-python",
   "name": "python",
   "nbconvert_exporter": "python",
   "pygments_lexer": "ipython3",
   "version": "3.8.8"
  },
  "orig_nbformat": 4
 },
 "nbformat": 4,
 "nbformat_minor": 2
}
