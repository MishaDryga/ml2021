{
 "cells": [
  {
   "cell_type": "markdown",
   "metadata": {},
   "source": [
    "# Лабораторна робота 2\n",
    "### Студента групи МІТ-31 (підгрупа 1)\n",
    "### Дриги Михайла Сергійовича\n",
    "\n",
    "## Завдання\n",
    "1. Створити набір даних за допомогою DatasetGenerator\n",
    "2. Завантажити набір даних для регресії на сайті (у кожного студента має бути інший - прошу організуватись відповідним чином)\n",
    "3. (опціонально для отримання відмінної оцінки) Згенерувати набір даних для регресії на основі звичайних можливостей Python.\n",
    "4. Для отриманих наборів даних провести встановленні кроки моделювання.\n",
    "5. Отримані результати викласти на github у репозиторій ml2021 в основну (default) гілку в папці Lab2."
   ]
  },
  {
   "cell_type": "code",
   "execution_count": 37,
   "metadata": {},
   "outputs": [],
   "source": [
    "\n",
    "import pandas as pd\n",
    "import numpy as np\n",
    "import matplotlib.pyplot as plt\n",
    "import seaborn as sns\n",
    "from sklearn.datasets import make_regression"
   ]
  },
  {
   "cell_type": "markdown",
   "metadata": {},
   "source": [
    "## Завдання 1"
   ]
  },
  {
   "cell_type": "code",
   "execution_count": 38,
   "metadata": {},
   "outputs": [
    {
     "name": "stdout",
     "output_type": "stream",
     "text": [
      "[[ 0.19197282  0.57229263  1.37348066 ...  1.16993531 -1.29868866\n",
      "   0.49836218]\n",
      " [-0.03986338 -0.43402419  0.13223026 ...  1.19223902  0.34267487\n",
      "   1.13194464]\n",
      " [-0.5070109  -0.98681092  0.19291056 ...  0.51271376 -0.66007411\n",
      "  -1.59812173]\n",
      " ...\n",
      " [-0.9520671   0.64238834 -0.94163744 ... -0.06874781  1.43659595\n",
      "   0.84726146]\n",
      " [-0.06891029  0.22063907 -1.91413986 ...  0.11390414  0.36377393\n",
      "  -0.60438989]\n",
      " [ 0.36335208  0.18056874 -0.61241851 ...  1.22125305  0.97887174\n",
      "   0.93470885]] [-3.84760961e+00  1.57230574e+02 -4.55351559e+01 -2.86737057e+01\n",
      " -7.98872986e+01  4.08923378e+01  1.74332543e+02  1.04320214e+02\n",
      "  8.65547605e+01 -4.51806230e+02  4.40637160e+01 -1.39824334e+02\n",
      " -3.72455702e+02  1.98298917e+02  1.88636072e+02  2.55180285e+01\n",
      "  2.47203339e+02  6.86818111e+01 -2.73956870e+00  1.41627455e+02\n",
      "  1.05788428e+02  3.12706174e+01 -6.86763572e+01  8.88593812e+01\n",
      " -1.78182365e+02  1.22488333e+02  2.71856430e+02  2.82429415e+02\n",
      "  3.89275343e+01  2.68923244e+02  7.04097539e+01  8.39997459e+01\n",
      "  4.38753559e+02 -4.16246277e+01 -2.21343127e+02  2.66786374e+02\n",
      " -3.20305681e+02 -1.45004346e+01  2.28472855e+02 -1.65067837e+01\n",
      "  3.19504690e+01  2.65801549e+02 -1.03243698e+02 -2.29067509e+02\n",
      " -3.31881639e+02  3.24517804e+01 -9.62981230e+01  1.33763503e+02\n",
      "  3.44114856e+01  9.37467661e+01  2.60865644e+02 -9.25787482e+01\n",
      " -1.15520092e+02 -8.99070759e+01  5.13767533e+00 -1.77280449e+02\n",
      "  2.66323545e+02  3.40797908e+01  3.84351256e+01  6.26227646e+01\n",
      " -2.62148527e+01 -2.26046728e+02  6.88606344e+01 -8.60174303e+01\n",
      " -4.97562713e+01 -2.57715675e+00  2.67776105e+02 -2.11939269e+02\n",
      "  3.56585774e+01 -5.31082759e+01  8.72628230e+01 -1.25651315e+02\n",
      " -1.07969337e+02 -9.39398534e+01 -4.03267701e+01  1.10436001e+02\n",
      " -2.90439290e+02 -2.83234299e+02 -1.27003433e+02  2.14191888e+01\n",
      "  2.97162421e+02  9.23407237e+01  2.11870098e+01  1.12157669e+02\n",
      "  3.48250286e+02 -1.69145599e+02 -5.00560445e+01  3.54217841e+02\n",
      " -2.11421430e+02 -2.25278767e+02  1.53700902e+02  1.22012905e+02\n",
      " -1.41396040e+02 -1.87271761e+02 -1.31596426e+02 -8.74451600e+01\n",
      " -6.05465155e+01  1.43705050e+02 -4.30368442e+02  5.49781253e+01\n",
      "  2.25742879e+02  9.61545604e+01 -1.07452414e+02  1.53733507e+01\n",
      " -5.59725235e+01 -3.14670243e+02 -4.27616842e+02 -5.17477717e+00\n",
      " -4.80750754e+02  1.05741792e+02 -1.45463369e+02 -1.58402400e+01\n",
      "  3.83826717e+01 -1.26612007e+02 -1.46595318e+02  3.62727875e+02\n",
      "  1.94394402e+02 -2.37932950e+02 -1.09150539e+02 -1.45451361e+00\n",
      "  1.42977330e+02 -2.61170328e+02  5.74729994e+01  2.57051210e+02\n",
      " -2.59161273e+02 -7.19476719e+01  2.32061237e+02 -4.70632807e+01\n",
      " -1.98837601e+02  1.70936455e+02 -2.25006796e+02  6.52681213e+01\n",
      " -6.57759462e+01 -2.19136965e+02  3.15883163e+02  3.24913572e+02\n",
      "  7.74485766e+01  1.54862865e+02  4.46033248e+01 -7.85380870e+01\n",
      "  1.81276082e+02 -3.37973932e+01 -4.95019744e+01 -2.20901978e+02\n",
      " -3.84685226e+01 -8.19044769e+01  2.48038434e+02  1.72606375e+02\n",
      " -2.02187432e+02 -1.44178518e+01  5.84438206e+01 -5.04649374e+01\n",
      " -2.11737419e+01  6.76159879e+01  3.69340267e+01 -1.41835279e+02\n",
      "  2.10774969e+02 -6.13166257e+01  8.32324914e+01  1.45976255e+02\n",
      "  5.76856328e+01 -3.42149445e+02 -1.70888832e+02  2.00612348e+02\n",
      "  9.01874951e+01 -2.20996878e+02 -8.18529001e+01  9.97753664e+01\n",
      "  1.02278759e+02 -5.23689584e+01 -5.41007076e+01 -2.22716555e+02\n",
      " -1.02661127e+02  8.60508027e+01  2.77074312e+02  2.22696049e+02\n",
      "  3.10762899e+01 -8.91145570e+01 -5.78369265e+01 -5.98572447e+01\n",
      "  1.06031735e+02 -1.76028866e+02 -3.92876263e+01 -7.37144856e+01\n",
      "  8.90471042e+01  2.07690625e+01 -6.78740172e+01  2.93359362e+01\n",
      "  1.96021529e+02  2.14735307e+02 -3.56516818e+01 -2.99504912e+02\n",
      "  4.77827850e+01  4.43475239e+02 -2.98418877e+01 -1.77968307e+02\n",
      "  5.72681103e+00  6.27023525e+00 -2.99335706e+02 -3.62519594e+01\n",
      "  2.26692044e+02  1.64783841e+02  2.29629241e+01 -1.95504601e+02\n",
      " -2.23270588e+02  5.52601137e+01  6.34415117e+01  3.15137024e+02\n",
      "  1.02130896e+02 -1.72646428e+02 -4.64699714e+02  3.43390207e+02\n",
      " -1.59165374e+02  2.32074243e+02 -2.91287902e+01  1.33856285e+02\n",
      "  1.34201734e+02 -1.36112641e+02  3.23362223e+01  7.28268575e+01\n",
      "  1.96266603e+02 -2.43667522e+02 -1.44101731e+01  3.04161220e+02\n",
      "  2.06011270e+02  6.54348941e+01  7.86114229e+01  9.86871948e+01\n",
      " -2.18126053e+02  3.05901223e+02  5.19150719e+01  2.63696436e+01\n",
      "  5.45585349e+02 -5.61088986e+02 -6.63761854e+01  1.74893000e+02\n",
      "  8.98667530e+01  1.92842105e+02  1.60234507e+02  9.94398502e+00\n",
      " -1.48439694e+02 -2.67850807e+02  5.39241556e+01 -1.12592262e+02\n",
      " -3.83082549e+02  2.16729532e+02  4.81743427e+01 -4.13851336e+00\n",
      "  2.28038079e+02  1.33584171e+02 -1.18954114e+02 -1.55375602e+02\n",
      " -1.93642091e+02 -2.60587357e+02  2.35502525e+02 -3.23465012e+02\n",
      "  5.60285708e+01 -2.40613332e+01  3.53723284e+01  3.14653757e+01\n",
      " -1.85980693e+02 -5.57259818e+01 -1.37775577e+02  2.11559836e+02\n",
      "  1.64889939e+02  1.15832084e+01  1.25696545e+02  1.39315296e+01\n",
      " -2.07464662e+02 -7.02649524e+01 -2.35438616e+02 -1.99893838e+02\n",
      " -2.24114381e+01  1.57723359e+02 -4.65777076e+02 -1.61809913e+02\n",
      "  2.12870029e+02 -9.75896256e+00 -3.52163880e+02  2.72964474e+01\n",
      "  1.92385852e+02 -2.78205244e+02 -3.92406771e+01  1.08121434e+02\n",
      "  3.10445904e+02 -2.30391042e+01 -1.64147425e+02 -6.85948766e+00\n",
      "  6.35928371e+01 -1.03237796e+02 -1.53783160e+01 -1.23239113e+02\n",
      "  5.06541168e+01 -6.84732589e+01  2.01352045e+02 -1.14813337e+02\n",
      " -2.68449498e+02  1.41775091e+02  6.39198154e+01  3.47098123e+02\n",
      "  2.81334206e+02 -4.46343314e+01 -2.39874722e+02  5.88345375e+00\n",
      " -1.01618912e+02  2.27419902e+02  3.59208097e+02 -2.03736614e+01\n",
      "  3.85110221e+02  9.03876667e+01  1.51804573e+02 -1.90169354e+02\n",
      "  1.96178954e+02  1.81428020e+02 -2.22783990e+02  1.12573811e+02\n",
      "  1.16426964e+02  1.99251509e+00  5.80594384e+01  2.20830333e+02\n",
      "  1.99762008e+01  2.84011587e+02 -6.04166275e+02  2.49439206e+01\n",
      " -1.67039438e+02 -5.28882273e+01 -2.14430595e+02  4.92069068e+00\n",
      "  1.09300756e+02 -2.50559696e+02 -1.96496688e+02 -3.33929924e+01\n",
      "  1.25330041e+01 -1.57364613e+02  3.03346195e+02  6.17071388e+01\n",
      " -3.15288945e+02  2.42857534e+02  3.31774629e+02  7.68384020e+01\n",
      " -1.45269993e+02 -5.27694038e+01 -2.29885311e+02 -2.47142751e+01\n",
      " -1.15489612e+02  2.05679388e+02  1.91789470e+02 -1.56466171e+02\n",
      " -2.08021083e+02 -1.61991260e+02  1.90490456e+02 -2.34826291e+02\n",
      "  6.93006596e+01 -1.53714988e+02  2.35338791e+02  3.56846022e+01\n",
      "  1.05067892e+02  1.50674143e+02  9.20614807e+00 -1.08920894e+02\n",
      " -1.16030454e+02 -6.64374692e+01 -1.93045825e+02 -9.42958039e+01\n",
      "  2.61200799e+02 -2.33032462e+01  8.92638340e+01  3.87514601e+02\n",
      "  2.81370367e+02  9.70098250e+01 -1.71247215e+01  2.97024066e+01\n",
      " -5.99850734e+01 -2.58416721e+02  1.49854526e+02  1.41974576e+01\n",
      "  3.61362062e+01 -1.68872552e+02  2.99328474e+02 -4.09744916e+02\n",
      " -4.40542843e+02  1.86958947e+02 -1.11250183e+02  2.03640776e+02\n",
      "  1.51532966e+01  1.32313095e+01 -1.76016276e+02 -1.72737082e+01\n",
      " -1.84756841e+02  1.06912033e+02  6.10211510e+01 -2.89420795e+02\n",
      " -8.56499264e+01 -4.72245249e+01  3.64398349e+01  2.89893364e-01\n",
      "  1.40459121e+02  4.86397079e+01 -1.65088324e+02  1.82855537e+02\n",
      " -2.58154648e+02 -2.40852848e+02  1.08607343e+02 -2.11833754e+01\n",
      " -4.58318518e+02  2.64418880e+02  1.04268431e+02  1.28032571e+02\n",
      " -1.33673781e+01  2.83953907e+01 -2.36546853e+02 -1.50504650e+02\n",
      " -2.96883294e+02 -1.02886990e+02 -1.24467270e+02 -6.08089043e+00\n",
      "  8.18362829e+01  2.00022409e+02  1.68270786e+02  2.87060558e+02\n",
      " -1.61448393e+02 -1.18222094e+02  1.41217290e+02 -2.39505143e+02\n",
      "  1.00765899e+02 -5.42110870e+01 -1.42977930e+02 -7.53899303e+01\n",
      " -2.30579702e+02 -1.51380708e+02  1.48598146e+01  9.39197310e+01\n",
      " -1.75860336e+02 -1.66892570e+02  4.04749725e+02  2.83765487e+02\n",
      " -4.21231761e+01 -1.97473631e+02  1.13362880e+02  3.61177295e+01\n",
      " -1.11072369e+02  8.02651154e+00 -5.04538889e+02  2.41961307e+02\n",
      "  1.25991373e+02 -7.74480880e+01  3.22079072e+02 -2.46807259e+02\n",
      "  7.90306377e+00  1.01003600e+01  3.41103677e+02 -3.35199289e+02\n",
      "  1.82005479e+02  3.31162483e+01  2.82627412e+02 -3.09829218e+00\n",
      "  2.29375667e+02  1.59621979e+02  1.18538732e+02  4.08692164e+01\n",
      "  1.82971200e+02  2.09824690e+02 -2.64092828e+02 -4.80244996e+01\n",
      " -3.46839658e+02  2.93177043e+01  4.39353742e+01  3.94900371e+02\n",
      " -6.75083743e+01 -2.14595515e+02  5.34833023e+02  2.44103232e+02\n",
      "  9.57520551e+00 -5.38812649e+02 -2.13788122e+01 -2.40992515e+02\n",
      "  1.36201952e+02  2.54691975e+00 -3.86697319e+02 -1.92404400e+02\n",
      "  6.91531788e+01 -2.39098393e+02 -2.06412712e+02 -8.70978908e+00\n",
      " -1.33076787e+02 -9.72026541e+01  2.33254781e+01  1.85625123e+02\n",
      "  2.14018977e+02  1.35735536e+02  2.81725773e+02  1.44588535e+02\n",
      "  1.03933061e+02  1.16857130e+02  6.81493285e+01 -1.09108363e+02\n",
      " -1.34052150e+01  1.11586348e+01  1.56966965e+02 -7.33211009e+01\n",
      "  2.58973113e+02 -1.23686451e+01  2.78998304e+01 -1.09475995e+02\n",
      " -1.72641280e+01 -5.81590369e+01 -9.93209261e+01  2.76918400e+02\n",
      "  2.12120347e+02  2.23885647e+02 -3.84530524e+02  1.54179659e+02]\n"
     ]
    }
   ],
   "source": [
    "X, y = make_regression(n_samples=512, n_features=10, n_informative=512, n_targets=1,  noise=0.0, shuffle=True, coef=False, random_state=None)\n",
    "\n",
    "print(X,y)"
   ]
  },
  {
   "cell_type": "code",
   "execution_count": 39,
   "metadata": {},
   "outputs": [
    {
     "data": {
      "text/html": [
       "<div>\n",
       "<style scoped>\n",
       "    .dataframe tbody tr th:only-of-type {\n",
       "        vertical-align: middle;\n",
       "    }\n",
       "\n",
       "    .dataframe tbody tr th {\n",
       "        vertical-align: top;\n",
       "    }\n",
       "\n",
       "    .dataframe thead th {\n",
       "        text-align: right;\n",
       "    }\n",
       "</style>\n",
       "<table border=\"1\" class=\"dataframe\">\n",
       "  <thead>\n",
       "    <tr style=\"text-align: right;\">\n",
       "      <th></th>\n",
       "      <th>0</th>\n",
       "      <th>1</th>\n",
       "      <th>2</th>\n",
       "      <th>3</th>\n",
       "      <th>4</th>\n",
       "      <th>5</th>\n",
       "      <th>6</th>\n",
       "      <th>7</th>\n",
       "      <th>8</th>\n",
       "      <th>9</th>\n",
       "    </tr>\n",
       "  </thead>\n",
       "  <tbody>\n",
       "    <tr>\n",
       "      <th>-3.847610</th>\n",
       "      <td>0.191973</td>\n",
       "      <td>0.572293</td>\n",
       "      <td>1.373481</td>\n",
       "      <td>-0.955183</td>\n",
       "      <td>0.332298</td>\n",
       "      <td>-0.461409</td>\n",
       "      <td>-1.212150</td>\n",
       "      <td>1.169935</td>\n",
       "      <td>-1.298689</td>\n",
       "      <td>0.498362</td>\n",
       "    </tr>\n",
       "    <tr>\n",
       "      <th>157.230574</th>\n",
       "      <td>-0.039863</td>\n",
       "      <td>-0.434024</td>\n",
       "      <td>0.132230</td>\n",
       "      <td>-0.351609</td>\n",
       "      <td>-0.594330</td>\n",
       "      <td>1.835195</td>\n",
       "      <td>-0.012635</td>\n",
       "      <td>1.192239</td>\n",
       "      <td>0.342675</td>\n",
       "      <td>1.131945</td>\n",
       "    </tr>\n",
       "    <tr>\n",
       "      <th>-45.535156</th>\n",
       "      <td>-0.507011</td>\n",
       "      <td>-0.986811</td>\n",
       "      <td>0.192911</td>\n",
       "      <td>2.367786</td>\n",
       "      <td>0.718341</td>\n",
       "      <td>0.602565</td>\n",
       "      <td>-2.945646</td>\n",
       "      <td>0.512714</td>\n",
       "      <td>-0.660074</td>\n",
       "      <td>-1.598122</td>\n",
       "    </tr>\n",
       "    <tr>\n",
       "      <th>-28.673706</th>\n",
       "      <td>-0.277991</td>\n",
       "      <td>-0.915961</td>\n",
       "      <td>1.540533</td>\n",
       "      <td>-0.289090</td>\n",
       "      <td>-1.379630</td>\n",
       "      <td>2.889483</td>\n",
       "      <td>0.818209</td>\n",
       "      <td>-0.889858</td>\n",
       "      <td>-0.773792</td>\n",
       "      <td>-1.121548</td>\n",
       "    </tr>\n",
       "    <tr>\n",
       "      <th>-79.887299</th>\n",
       "      <td>-0.420693</td>\n",
       "      <td>1.130220</td>\n",
       "      <td>-0.012177</td>\n",
       "      <td>0.161042</td>\n",
       "      <td>-0.779407</td>\n",
       "      <td>2.163576</td>\n",
       "      <td>-0.374736</td>\n",
       "      <td>-1.651325</td>\n",
       "      <td>-0.321069</td>\n",
       "      <td>-1.826145</td>\n",
       "    </tr>\n",
       "  </tbody>\n",
       "</table>\n",
       "</div>"
      ],
      "text/plain": [
       "                    0         1         2         3         4         5  \\\n",
       "-3.847610    0.191973  0.572293  1.373481 -0.955183  0.332298 -0.461409   \n",
       " 157.230574 -0.039863 -0.434024  0.132230 -0.351609 -0.594330  1.835195   \n",
       "-45.535156  -0.507011 -0.986811  0.192911  2.367786  0.718341  0.602565   \n",
       "-28.673706  -0.277991 -0.915961  1.540533 -0.289090 -1.379630  2.889483   \n",
       "-79.887299  -0.420693  1.130220 -0.012177  0.161042 -0.779407  2.163576   \n",
       "\n",
       "                    6         7         8         9  \n",
       "-3.847610   -1.212150  1.169935 -1.298689  0.498362  \n",
       " 157.230574 -0.012635  1.192239  0.342675  1.131945  \n",
       "-45.535156  -2.945646  0.512714 -0.660074 -1.598122  \n",
       "-28.673706   0.818209 -0.889858 -0.773792 -1.121548  \n",
       "-79.887299  -0.374736 -1.651325 -0.321069 -1.826145  "
      ]
     },
     "execution_count": 39,
     "metadata": {},
     "output_type": "execute_result"
    }
   ],
   "source": [
    "df = pd.DataFrame(X, y)\n",
    "df.to_csv('sk_data.csv')\n",
    "df.head()"
   ]
  },
  {
   "cell_type": "code",
   "execution_count": 40,
   "metadata": {},
   "outputs": [
    {
     "name": "stdout",
     "output_type": "stream",
     "text": [
      "<class 'pandas.core.frame.DataFrame'>\n",
      "Float64Index: 512 entries, -3.8476096067261523 to 154.17965936952908\n",
      "Data columns (total 10 columns):\n",
      " #   Column  Non-Null Count  Dtype  \n",
      "---  ------  --------------  -----  \n",
      " 0   0       512 non-null    float64\n",
      " 1   1       512 non-null    float64\n",
      " 2   2       512 non-null    float64\n",
      " 3   3       512 non-null    float64\n",
      " 4   4       512 non-null    float64\n",
      " 5   5       512 non-null    float64\n",
      " 6   6       512 non-null    float64\n",
      " 7   7       512 non-null    float64\n",
      " 8   8       512 non-null    float64\n",
      " 9   9       512 non-null    float64\n",
      "dtypes: float64(10)\n",
      "memory usage: 44.0 KB\n"
     ]
    }
   ],
   "source": [
    "df.info()"
   ]
  },
  {
   "cell_type": "code",
   "execution_count": 41,
   "metadata": {},
   "outputs": [
    {
     "data": {
      "text/html": [
       "<div>\n",
       "<style scoped>\n",
       "    .dataframe tbody tr th:only-of-type {\n",
       "        vertical-align: middle;\n",
       "    }\n",
       "\n",
       "    .dataframe tbody tr th {\n",
       "        vertical-align: top;\n",
       "    }\n",
       "\n",
       "    .dataframe thead th {\n",
       "        text-align: right;\n",
       "    }\n",
       "</style>\n",
       "<table border=\"1\" class=\"dataframe\">\n",
       "  <thead>\n",
       "    <tr style=\"text-align: right;\">\n",
       "      <th></th>\n",
       "      <th>0</th>\n",
       "      <th>1</th>\n",
       "      <th>2</th>\n",
       "      <th>3</th>\n",
       "      <th>4</th>\n",
       "      <th>5</th>\n",
       "      <th>6</th>\n",
       "      <th>7</th>\n",
       "      <th>8</th>\n",
       "      <th>9</th>\n",
       "    </tr>\n",
       "  </thead>\n",
       "  <tbody>\n",
       "    <tr>\n",
       "      <th>count</th>\n",
       "      <td>512.000000</td>\n",
       "      <td>512.000000</td>\n",
       "      <td>512.000000</td>\n",
       "      <td>512.000000</td>\n",
       "      <td>512.000000</td>\n",
       "      <td>512.000000</td>\n",
       "      <td>512.000000</td>\n",
       "      <td>512.000000</td>\n",
       "      <td>512.000000</td>\n",
       "      <td>512.000000</td>\n",
       "    </tr>\n",
       "    <tr>\n",
       "      <th>mean</th>\n",
       "      <td>-0.046404</td>\n",
       "      <td>-0.032065</td>\n",
       "      <td>0.053594</td>\n",
       "      <td>-0.089683</td>\n",
       "      <td>-0.002685</td>\n",
       "      <td>0.028363</td>\n",
       "      <td>0.002193</td>\n",
       "      <td>0.026762</td>\n",
       "      <td>0.070885</td>\n",
       "      <td>0.093841</td>\n",
       "    </tr>\n",
       "    <tr>\n",
       "      <th>std</th>\n",
       "      <td>0.975125</td>\n",
       "      <td>1.051633</td>\n",
       "      <td>0.987814</td>\n",
       "      <td>1.001733</td>\n",
       "      <td>0.984911</td>\n",
       "      <td>1.018922</td>\n",
       "      <td>1.033642</td>\n",
       "      <td>1.012774</td>\n",
       "      <td>0.974832</td>\n",
       "      <td>0.962077</td>\n",
       "    </tr>\n",
       "    <tr>\n",
       "      <th>min</th>\n",
       "      <td>-3.123660</td>\n",
       "      <td>-3.014953</td>\n",
       "      <td>-3.615798</td>\n",
       "      <td>-3.000647</td>\n",
       "      <td>-2.849502</td>\n",
       "      <td>-3.082124</td>\n",
       "      <td>-2.945646</td>\n",
       "      <td>-3.878419</td>\n",
       "      <td>-2.423380</td>\n",
       "      <td>-2.874885</td>\n",
       "    </tr>\n",
       "    <tr>\n",
       "      <th>25%</th>\n",
       "      <td>-0.755572</td>\n",
       "      <td>-0.753912</td>\n",
       "      <td>-0.581144</td>\n",
       "      <td>-0.731983</td>\n",
       "      <td>-0.658175</td>\n",
       "      <td>-0.622680</td>\n",
       "      <td>-0.674448</td>\n",
       "      <td>-0.616774</td>\n",
       "      <td>-0.549287</td>\n",
       "      <td>-0.520111</td>\n",
       "    </tr>\n",
       "    <tr>\n",
       "      <th>50%</th>\n",
       "      <td>-0.072154</td>\n",
       "      <td>-0.042481</td>\n",
       "      <td>0.102966</td>\n",
       "      <td>-0.114074</td>\n",
       "      <td>-0.035422</td>\n",
       "      <td>-0.014400</td>\n",
       "      <td>-0.058571</td>\n",
       "      <td>0.012218</td>\n",
       "      <td>0.110640</td>\n",
       "      <td>0.114803</td>\n",
       "    </tr>\n",
       "    <tr>\n",
       "      <th>75%</th>\n",
       "      <td>0.595516</td>\n",
       "      <td>0.608818</td>\n",
       "      <td>0.772066</td>\n",
       "      <td>0.556721</td>\n",
       "      <td>0.683126</td>\n",
       "      <td>0.752374</td>\n",
       "      <td>0.604852</td>\n",
       "      <td>0.689895</td>\n",
       "      <td>0.739137</td>\n",
       "      <td>0.752492</td>\n",
       "    </tr>\n",
       "    <tr>\n",
       "      <th>max</th>\n",
       "      <td>2.781691</td>\n",
       "      <td>3.224144</td>\n",
       "      <td>2.704770</td>\n",
       "      <td>2.840846</td>\n",
       "      <td>2.715000</td>\n",
       "      <td>2.889483</td>\n",
       "      <td>4.117930</td>\n",
       "      <td>3.181721</td>\n",
       "      <td>2.563451</td>\n",
       "      <td>2.881082</td>\n",
       "    </tr>\n",
       "  </tbody>\n",
       "</table>\n",
       "</div>"
      ],
      "text/plain": [
       "                0           1           2           3           4           5  \\\n",
       "count  512.000000  512.000000  512.000000  512.000000  512.000000  512.000000   \n",
       "mean    -0.046404   -0.032065    0.053594   -0.089683   -0.002685    0.028363   \n",
       "std      0.975125    1.051633    0.987814    1.001733    0.984911    1.018922   \n",
       "min     -3.123660   -3.014953   -3.615798   -3.000647   -2.849502   -3.082124   \n",
       "25%     -0.755572   -0.753912   -0.581144   -0.731983   -0.658175   -0.622680   \n",
       "50%     -0.072154   -0.042481    0.102966   -0.114074   -0.035422   -0.014400   \n",
       "75%      0.595516    0.608818    0.772066    0.556721    0.683126    0.752374   \n",
       "max      2.781691    3.224144    2.704770    2.840846    2.715000    2.889483   \n",
       "\n",
       "                6           7           8           9  \n",
       "count  512.000000  512.000000  512.000000  512.000000  \n",
       "mean     0.002193    0.026762    0.070885    0.093841  \n",
       "std      1.033642    1.012774    0.974832    0.962077  \n",
       "min     -2.945646   -3.878419   -2.423380   -2.874885  \n",
       "25%     -0.674448   -0.616774   -0.549287   -0.520111  \n",
       "50%     -0.058571    0.012218    0.110640    0.114803  \n",
       "75%      0.604852    0.689895    0.739137    0.752492  \n",
       "max      4.117930    3.181721    2.563451    2.881082  "
      ]
     },
     "execution_count": 41,
     "metadata": {},
     "output_type": "execute_result"
    }
   ],
   "source": [
    "df.describe()"
   ]
  },
  {
   "cell_type": "code",
   "execution_count": 42,
   "metadata": {},
   "outputs": [
    {
     "data": {
      "text/plain": [
       "<AxesSubplot:>"
      ]
     },
     "execution_count": 42,
     "metadata": {},
     "output_type": "execute_result"
    },
    {
     "data": {
      "image/png": "[encoded data removed]",
      "text/plain": [
       "<Figure size 432x288 with 2 Axes>"
      ]
     },
     "metadata": {
      "needs_background": "light"
     },
     "output_type": "display_data"
    }
   ],
   "source": [
    "corr = df.corr()\n",
    "sns.heatmap(corr, cmap=\"rainbow\")"
   ]
  },
  {
   "cell_type": "markdown",
   "metadata": {},
   "source": [
    "## Завдання 2"
   ]
  },
  {
   "cell_type": "code",
   "execution_count": 43,
   "metadata": {},
   "outputs": [
    {
     "data": {
      "text/html": [
       "<div>\n",
       "<style scoped>\n",
       "    .dataframe tbody tr th:only-of-type {\n",
       "        vertical-align: middle;\n",
       "    }\n",
       "\n",
       "    .dataframe tbody tr th {\n",
       "        vertical-align: top;\n",
       "    }\n",
       "\n",
       "    .dataframe thead th {\n",
       "        text-align: right;\n",
       "    }\n",
       "</style>\n",
       "<table border=\"1\" class=\"dataframe\">\n",
       "  <thead>\n",
       "    <tr style=\"text-align: right;\">\n",
       "      <th></th>\n",
       "      <th>fixed acidity</th>\n",
       "      <th>volatile acidity</th>\n",
       "      <th>citric acid</th>\n",
       "      <th>residual sugar</th>\n",
       "      <th>chlorides</th>\n",
       "      <th>free sulfur dioxide</th>\n",
       "      <th>total sulfur dioxide</th>\n",
       "      <th>density</th>\n",
       "      <th>pH</th>\n",
       "      <th>sulphates</th>\n",
       "      <th>alcohol</th>\n",
       "      <th>quality</th>\n",
       "    </tr>\n",
       "  </thead>\n",
       "  <tbody>\n",
       "    <tr>\n",
       "      <th>0</th>\n",
       "      <td>7.4</td>\n",
       "      <td>0.70</td>\n",
       "      <td>0.00</td>\n",
       "      <td>1.9</td>\n",
       "      <td>0.076</td>\n",
       "      <td>11.0</td>\n",
       "      <td>34.0</td>\n",
       "      <td>0.9978</td>\n",
       "      <td>3.51</td>\n",
       "      <td>0.56</td>\n",
       "      <td>9.4</td>\n",
       "      <td>5</td>\n",
       "    </tr>\n",
       "    <tr>\n",
       "      <th>1</th>\n",
       "      <td>7.8</td>\n",
       "      <td>0.88</td>\n",
       "      <td>0.00</td>\n",
       "      <td>2.6</td>\n",
       "      <td>0.098</td>\n",
       "      <td>25.0</td>\n",
       "      <td>67.0</td>\n",
       "      <td>0.9968</td>\n",
       "      <td>3.20</td>\n",
       "      <td>0.68</td>\n",
       "      <td>9.8</td>\n",
       "      <td>5</td>\n",
       "    </tr>\n",
       "    <tr>\n",
       "      <th>2</th>\n",
       "      <td>7.8</td>\n",
       "      <td>0.76</td>\n",
       "      <td>0.04</td>\n",
       "      <td>2.3</td>\n",
       "      <td>0.092</td>\n",
       "      <td>15.0</td>\n",
       "      <td>54.0</td>\n",
       "      <td>0.9970</td>\n",
       "      <td>3.26</td>\n",
       "      <td>0.65</td>\n",
       "      <td>9.8</td>\n",
       "      <td>5</td>\n",
       "    </tr>\n",
       "    <tr>\n",
       "      <th>3</th>\n",
       "      <td>11.2</td>\n",
       "      <td>0.28</td>\n",
       "      <td>0.56</td>\n",
       "      <td>1.9</td>\n",
       "      <td>0.075</td>\n",
       "      <td>17.0</td>\n",
       "      <td>60.0</td>\n",
       "      <td>0.9980</td>\n",
       "      <td>3.16</td>\n",
       "      <td>0.58</td>\n",
       "      <td>9.8</td>\n",
       "      <td>6</td>\n",
       "    </tr>\n",
       "    <tr>\n",
       "      <th>4</th>\n",
       "      <td>7.4</td>\n",
       "      <td>0.70</td>\n",
       "      <td>0.00</td>\n",
       "      <td>1.9</td>\n",
       "      <td>0.076</td>\n",
       "      <td>11.0</td>\n",
       "      <td>34.0</td>\n",
       "      <td>0.9978</td>\n",
       "      <td>3.51</td>\n",
       "      <td>0.56</td>\n",
       "      <td>9.4</td>\n",
       "      <td>5</td>\n",
       "    </tr>\n",
       "  </tbody>\n",
       "</table>\n",
       "</div>"
      ],
      "text/plain": [
       "   fixed acidity  volatile acidity  citric acid  residual sugar  chlorides  \\\n",
       "0            7.4              0.70         0.00             1.9      0.076   \n",
       "1            7.8              0.88         0.00             2.6      0.098   \n",
       "2            7.8              0.76         0.04             2.3      0.092   \n",
       "3           11.2              0.28         0.56             1.9      0.075   \n",
       "4            7.4              0.70         0.00             1.9      0.076   \n",
       "\n",
       "   free sulfur dioxide  total sulfur dioxide  density    pH  sulphates  \\\n",
       "0                 11.0                  34.0   0.9978  3.51       0.56   \n",
       "1                 25.0                  67.0   0.9968  3.20       0.68   \n",
       "2                 15.0                  54.0   0.9970  3.26       0.65   \n",
       "3                 17.0                  60.0   0.9980  3.16       0.58   \n",
       "4                 11.0                  34.0   0.9978  3.51       0.56   \n",
       "\n",
       "   alcohol  quality  \n",
       "0      9.4        5  \n",
       "1      9.8        5  \n",
       "2      9.8        5  \n",
       "3      9.8        6  \n",
       "4      9.4        5  "
      ]
     },
     "execution_count": 43,
     "metadata": {},
     "output_type": "execute_result"
    }
   ],
   "source": [
    "df = pd.read_csv('winequality-red.csv')\n",
    "df.head()"
   ]
  },
  {
   "cell_type": "code",
   "execution_count": 44,
   "metadata": {},
   "outputs": [
    {
     "name": "stdout",
     "output_type": "stream",
     "text": [
      "<class 'pandas.core.frame.DataFrame'>\n",
      "RangeIndex: 1599 entries, 0 to 1598\n",
      "Data columns (total 12 columns):\n",
      " #   Column                Non-Null Count  Dtype  \n",
      "---  ------                --------------  -----  \n",
      " 0   fixed acidity         1599 non-null   float64\n",
      " 1   volatile acidity      1599 non-null   float64\n",
      " 2   citric acid           1599 non-null   float64\n",
      " 3   residual sugar        1599 non-null   float64\n",
      " 4   chlorides             1599 non-null   float64\n",
      " 5   free sulfur dioxide   1599 non-null   float64\n",
      " 6   total sulfur dioxide  1599 non-null   float64\n",
      " 7   density               1599 non-null   float64\n",
      " 8   pH                    1599 non-null   float64\n",
      " 9   sulphates             1599 non-null   float64\n",
      " 10  alcohol               1599 non-null   float64\n",
      " 11  quality               1599 non-null   int64  \n",
      "dtypes: float64(11), int64(1)\n",
      "memory usage: 150.0 KB\n"
     ]
    }
   ],
   "source": [
    "df.info()"
   ]
  },
  {
   "cell_type": "code",
   "execution_count": 45,
   "metadata": {},
   "outputs": [
    {
     "data": {
      "text/html": [
       "<div>\n",
       "<style scoped>\n",
       "    .dataframe tbody tr th:only-of-type {\n",
       "        vertical-align: middle;\n",
       "    }\n",
       "\n",
       "    .dataframe tbody tr th {\n",
       "        vertical-align: top;\n",
       "    }\n",
       "\n",
       "    .dataframe thead th {\n",
       "        text-align: right;\n",
       "    }\n",
       "</style>\n",
       "<table border=\"1\" class=\"dataframe\">\n",
       "  <thead>\n",
       "    <tr style=\"text-align: right;\">\n",
       "      <th></th>\n",
       "      <th>fixed acidity</th>\n",
       "      <th>volatile acidity</th>\n",
       "      <th>citric acid</th>\n",
       "      <th>residual sugar</th>\n",
       "      <th>chlorides</th>\n",
       "      <th>free sulfur dioxide</th>\n",
       "      <th>total sulfur dioxide</th>\n",
       "      <th>density</th>\n",
       "      <th>pH</th>\n",
       "      <th>sulphates</th>\n",
       "      <th>alcohol</th>\n",
       "      <th>quality</th>\n",
       "    </tr>\n",
       "  </thead>\n",
       "  <tbody>\n",
       "    <tr>\n",
       "      <th>count</th>\n",
       "      <td>1599.000000</td>\n",
       "      <td>1599.000000</td>\n",
       "      <td>1599.000000</td>\n",
       "      <td>1599.000000</td>\n",
       "      <td>1599.000000</td>\n",
       "      <td>1599.000000</td>\n",
       "      <td>1599.000000</td>\n",
       "      <td>1599.000000</td>\n",
       "      <td>1599.000000</td>\n",
       "      <td>1599.000000</td>\n",
       "      <td>1599.000000</td>\n",
       "      <td>1599.000000</td>\n",
       "    </tr>\n",
       "    <tr>\n",
       "      <th>mean</th>\n",
       "      <td>8.319637</td>\n",
       "      <td>0.527821</td>\n",
       "      <td>0.270976</td>\n",
       "      <td>2.538806</td>\n",
       "      <td>0.087467</td>\n",
       "      <td>15.874922</td>\n",
       "      <td>46.467792</td>\n",
       "      <td>0.996747</td>\n",
       "      <td>3.311113</td>\n",
       "      <td>0.658149</td>\n",
       "      <td>10.422983</td>\n",
       "      <td>5.636023</td>\n",
       "    </tr>\n",
       "    <tr>\n",
       "      <th>std</th>\n",
       "      <td>1.741096</td>\n",
       "      <td>0.179060</td>\n",
       "      <td>0.194801</td>\n",
       "      <td>1.409928</td>\n",
       "      <td>0.047065</td>\n",
       "      <td>10.460157</td>\n",
       "      <td>32.895324</td>\n",
       "      <td>0.001887</td>\n",
       "      <td>0.154386</td>\n",
       "      <td>0.169507</td>\n",
       "      <td>1.065668</td>\n",
       "      <td>0.807569</td>\n",
       "    </tr>\n",
       "    <tr>\n",
       "      <th>min</th>\n",
       "      <td>4.600000</td>\n",
       "      <td>0.120000</td>\n",
       "      <td>0.000000</td>\n",
       "      <td>0.900000</td>\n",
       "      <td>0.012000</td>\n",
       "      <td>1.000000</td>\n",
       "      <td>6.000000</td>\n",
       "      <td>0.990070</td>\n",
       "      <td>2.740000</td>\n",
       "      <td>0.330000</td>\n",
       "      <td>8.400000</td>\n",
       "      <td>3.000000</td>\n",
       "    </tr>\n",
       "    <tr>\n",
       "      <th>25%</th>\n",
       "      <td>7.100000</td>\n",
       "      <td>0.390000</td>\n",
       "      <td>0.090000</td>\n",
       "      <td>1.900000</td>\n",
       "      <td>0.070000</td>\n",
       "      <td>7.000000</td>\n",
       "      <td>22.000000</td>\n",
       "      <td>0.995600</td>\n",
       "      <td>3.210000</td>\n",
       "      <td>0.550000</td>\n",
       "      <td>9.500000</td>\n",
       "      <td>5.000000</td>\n",
       "    </tr>\n",
       "    <tr>\n",
       "      <th>50%</th>\n",
       "      <td>7.900000</td>\n",
       "      <td>0.520000</td>\n",
       "      <td>0.260000</td>\n",
       "      <td>2.200000</td>\n",
       "      <td>0.079000</td>\n",
       "      <td>14.000000</td>\n",
       "      <td>38.000000</td>\n",
       "      <td>0.996750</td>\n",
       "      <td>3.310000</td>\n",
       "      <td>0.620000</td>\n",
       "      <td>10.200000</td>\n",
       "      <td>6.000000</td>\n",
       "    </tr>\n",
       "    <tr>\n",
       "      <th>75%</th>\n",
       "      <td>9.200000</td>\n",
       "      <td>0.640000</td>\n",
       "      <td>0.420000</td>\n",
       "      <td>2.600000</td>\n",
       "      <td>0.090000</td>\n",
       "      <td>21.000000</td>\n",
       "      <td>62.000000</td>\n",
       "      <td>0.997835</td>\n",
       "      <td>3.400000</td>\n",
       "      <td>0.730000</td>\n",
       "      <td>11.100000</td>\n",
       "      <td>6.000000</td>\n",
       "    </tr>\n",
       "    <tr>\n",
       "      <th>max</th>\n",
       "      <td>15.900000</td>\n",
       "      <td>1.580000</td>\n",
       "      <td>1.000000</td>\n",
       "      <td>15.500000</td>\n",
       "      <td>0.611000</td>\n",
       "      <td>72.000000</td>\n",
       "      <td>289.000000</td>\n",
       "      <td>1.003690</td>\n",
       "      <td>4.010000</td>\n",
       "      <td>2.000000</td>\n",
       "      <td>14.900000</td>\n",
       "      <td>8.000000</td>\n",
       "    </tr>\n",
       "  </tbody>\n",
       "</table>\n",
       "</div>"
      ],
      "text/plain": [
       "       fixed acidity  volatile acidity  citric acid  residual sugar  \\\n",
       "count    1599.000000       1599.000000  1599.000000     1599.000000   \n",
       "mean        8.319637          0.527821     0.270976        2.538806   \n",
       "std         1.741096          0.179060     0.194801        1.409928   \n",
       "min         4.600000          0.120000     0.000000        0.900000   \n",
       "25%         7.100000          0.390000     0.090000        1.900000   \n",
       "50%         7.900000          0.520000     0.260000        2.200000   \n",
       "75%         9.200000          0.640000     0.420000        2.600000   \n",
       "max        15.900000          1.580000     1.000000       15.500000   \n",
       "\n",
       "         chlorides  free sulfur dioxide  total sulfur dioxide      density  \\\n",
       "count  1599.000000          1599.000000           1599.000000  1599.000000   \n",
       "mean      0.087467            15.874922             46.467792     0.996747   \n",
       "std       0.047065            10.460157             32.895324     0.001887   \n",
       "min       0.012000             1.000000              6.000000     0.990070   \n",
       "25%       0.070000             7.000000             22.000000     0.995600   \n",
       "50%       0.079000            14.000000             38.000000     0.996750   \n",
       "75%       0.090000            21.000000             62.000000     0.997835   \n",
       "max       0.611000            72.000000            289.000000     1.003690   \n",
       "\n",
       "                pH    sulphates      alcohol      quality  \n",
       "count  1599.000000  1599.000000  1599.000000  1599.000000  \n",
       "mean      3.311113     0.658149    10.422983     5.636023  \n",
       "std       0.154386     0.169507     1.065668     0.807569  \n",
       "min       2.740000     0.330000     8.400000     3.000000  \n",
       "25%       3.210000     0.550000     9.500000     5.000000  \n",
       "50%       3.310000     0.620000    10.200000     6.000000  \n",
       "75%       3.400000     0.730000    11.100000     6.000000  \n",
       "max       4.010000     2.000000    14.900000     8.000000  "
      ]
     },
     "execution_count": 45,
     "metadata": {},
     "output_type": "execute_result"
    }
   ],
   "source": [
    "df.describe()"
   ]
  },
  {
   "cell_type": "code",
   "execution_count": 46,
   "metadata": {},
   "outputs": [
    {
     "data": {
      "text/plain": [
       "<AxesSubplot:>"
      ]
     },
     "execution_count": 46,
     "metadata": {},
     "output_type": "execute_result"
    },
    {
     "data": {
      "image/png": "[encoded data removed]",
      "text/plain": [
       "<Figure size 432x288 with 2 Axes>"
      ]
     },
     "metadata": {
      "needs_background": "light"
     },
     "output_type": "display_data"
    }
   ],
   "source": [
    "corr = df.corr()\n",
    "sns.heatmap(corr, cmap=\"YlGnBu\")"
   ]
  },
  {
   "cell_type": "code",
   "execution_count": 47,
   "metadata": {},
   "outputs": [],
   "source": [
    "import sklearn\n",
    "from sklearn.model_selection import train_test_split"
   ]
  },
  {
   "cell_type": "code",
   "execution_count": 48,
   "metadata": {},
   "outputs": [],
   "source": [
    "columns=df.columns \n",
    "columns=columns[:11]\n",
    "X=df[['fixed acidity', 'volatile acidity', 'citric acid', 'residual sugar', 'chlorides', 'free sulfur dioxide', 'total sulfur dioxide', 'density', 'pH', 'sulphates', 'alcohol']]\n",
    "\n",
    "y=df[['quality']]"
   ]
  },
  {
   "cell_type": "code",
   "execution_count": 49,
   "metadata": {},
   "outputs": [],
   "source": [
    "X_train,X_test,y_train,y_test = train_test_split(X,y,test_size=0.3)"
   ]
  },
  {
   "cell_type": "code",
   "execution_count": 50,
   "metadata": {},
   "outputs": [],
   "source": [
    "from sklearn.linear_model import LinearRegression"
   ]
  },
  {
   "cell_type": "code",
   "execution_count": 51,
   "metadata": {},
   "outputs": [],
   "source": [
    "lr = LinearRegression()"
   ]
  },
  {
   "cell_type": "code",
   "execution_count": 52,
   "metadata": {},
   "outputs": [
    {
     "data": {
      "text/plain": [
       "LinearRegression()"
      ]
     },
     "execution_count": 52,
     "metadata": {},
     "output_type": "execute_result"
    }
   ],
   "source": [
    "lr.fit(X_train,y_train)"
   ]
  },
  {
   "cell_type": "code",
   "execution_count": 53,
   "metadata": {},
   "outputs": [],
   "source": [
    "y_Hat = lr.predict(X_test)"
   ]
  },
  {
   "cell_type": "code",
   "execution_count": 54,
   "metadata": {},
   "outputs": [
    {
     "data": {
      "text/plain": [
       "0.5207152934380722"
      ]
     },
     "execution_count": 54,
     "metadata": {},
     "output_type": "execute_result"
    }
   ],
   "source": [
    "from sklearn.metrics import mean_absolute_error\n",
    "\n",
    "mean_absolute_error(y_test, y_Hat)"
   ]
  },
  {
   "cell_type": "code",
   "execution_count": 55,
   "metadata": {},
   "outputs": [
    {
     "data": {
      "text/plain": [
       "0.44828861577463786"
      ]
     },
     "execution_count": 55,
     "metadata": {},
     "output_type": "execute_result"
    }
   ],
   "source": [
    "from sklearn.metrics import mean_squared_error \n",
    "mean_squared_error(y_test, y_Hat)"
   ]
  },
  {
   "cell_type": "code",
   "execution_count": 56,
   "metadata": {},
   "outputs": [
    {
     "data": {
      "text/html": [
       "<div>\n",
       "<style scoped>\n",
       "    .dataframe tbody tr th:only-of-type {\n",
       "        vertical-align: middle;\n",
       "    }\n",
       "\n",
       "    .dataframe tbody tr th {\n",
       "        vertical-align: top;\n",
       "    }\n",
       "\n",
       "    .dataframe thead th {\n",
       "        text-align: right;\n",
       "    }\n",
       "</style>\n",
       "<table border=\"1\" class=\"dataframe\">\n",
       "  <thead>\n",
       "    <tr style=\"text-align: right;\">\n",
       "      <th></th>\n",
       "      <th>quality</th>\n",
       "      <th>quality_predicted</th>\n",
       "    </tr>\n",
       "  </thead>\n",
       "  <tbody>\n",
       "    <tr>\n",
       "      <th>994</th>\n",
       "      <td>5</td>\n",
       "      <td>5.224686</td>\n",
       "    </tr>\n",
       "    <tr>\n",
       "      <th>935</th>\n",
       "      <td>6</td>\n",
       "      <td>6.262714</td>\n",
       "    </tr>\n",
       "    <tr>\n",
       "      <th>204</th>\n",
       "      <td>6</td>\n",
       "      <td>5.287165</td>\n",
       "    </tr>\n",
       "    <tr>\n",
       "      <th>638</th>\n",
       "      <td>7</td>\n",
       "      <td>5.042144</td>\n",
       "    </tr>\n",
       "    <tr>\n",
       "      <th>876</th>\n",
       "      <td>4</td>\n",
       "      <td>5.840477</td>\n",
       "    </tr>\n",
       "  </tbody>\n",
       "</table>\n",
       "</div>"
      ],
      "text/plain": [
       "     quality  quality_predicted\n",
       "994        5           5.224686\n",
       "935        6           6.262714\n",
       "204        6           5.287165\n",
       "638        7           5.042144\n",
       "876        4           5.840477"
      ]
     },
     "execution_count": 56,
     "metadata": {},
     "output_type": "execute_result"
    }
   ],
   "source": [
    "res = pd.DataFrame(y_test)\n",
    "res['quality_predicted'] = y_Hat\n",
    "\n",
    "res.head()"
   ]
  },
  {
   "cell_type": "code",
   "execution_count": 57,
   "metadata": {},
   "outputs": [
    {
     "data": {
      "text/plain": [
       "<matplotlib.collections.PathCollection at 0x2b9f55cb520>"
      ]
     },
     "execution_count": 57,
     "metadata": {},
     "output_type": "execute_result"
    },
    {
     "data": {
      "image/png": "[encoded data removed]",
      "text/plain": [
       "<Figure size 432x288 with 1 Axes>"
      ]
     },
     "metadata": {
      "needs_background": "light"
     },
     "output_type": "display_data"
    }
   ],
   "source": [
    "plt.scatter(res['quality'],res['quality_predicted'])"
   ]
  },
  {
   "cell_type": "markdown",
   "metadata": {},
   "source": [
    "## Завдання 3"
   ]
  },
  {
   "cell_type": "code",
   "execution_count": 60,
   "metadata": {},
   "outputs": [],
   "source": [
    "import random as rnd\n",
    "\n",
    "sex = {0:'Man', 1:'Woman'}\n",
    "age = {0:'<20', 1:'>20'}\n",
    "certificate = {0:'have', 1:'dont have'}\n",
    "student = {0:'YES', 1:'NO'}\n",
    "numb_of_certif = {0:'0', 1:'1', 2:'2', 3:'more than 3'}\n",
    "language = {0:'Ukrainian', 1:'Russian', 2:'English', 3:'Another'}\n",
    "data = []\n",
    "for i in range(0, 512):\n",
    "    row = []\n",
    "    row.append(round(rnd.uniform(1, 50), 2))\n",
    "    row.append(round(rnd.uniform(1, 10), 2))\n",
    "    row.append(sex[rnd.randint(0, 1)])\n",
    "    row.append(age[rnd.randint(0, 1)])\n",
    "    row.append(certificate[rnd.randint(0, 1)])\n",
    "    row.append(student[rnd.randint(0, 1)])\n",
    "    row.append(numb_of_certif[rnd.randint(0, 3)])\n",
    "    row.append(language[rnd.randint(0, 3)])\n",
    "    data.append(row)\n",
    "df = pd.DataFrame(data, columns=['main_points', 'extra_points', 'sex', 'age', 'certificate', 'student', 'numb_of_certif', 'language'])"
   ]
  },
  {
   "cell_type": "code",
   "execution_count": 61,
   "metadata": {},
   "outputs": [],
   "source": [
    "df.replace({'Man': 0, 'Woman':1, '<20': 0, '>20':1, 'have':0, 'dont have':1, 'YES':0, 'NO':1, '0':0, '1':1, '2':2, 'more than 3':3, 'Ukrainian': 0\n",
    ", 'Russian':1, 'English':2, 'Another':3}, None, True)\n",
    "\n",
    "df.to_csv('my_data.csv')"
   ]
  },
  {
   "cell_type": "code",
   "execution_count": 62,
   "metadata": {},
   "outputs": [
    {
     "data": {
      "text/html": [
       "<div>\n",
       "<style scoped>\n",
       "    .dataframe tbody tr th:only-of-type {\n",
       "        vertical-align: middle;\n",
       "    }\n",
       "\n",
       "    .dataframe tbody tr th {\n",
       "        vertical-align: top;\n",
       "    }\n",
       "\n",
       "    .dataframe thead th {\n",
       "        text-align: right;\n",
       "    }\n",
       "</style>\n",
       "<table border=\"1\" class=\"dataframe\">\n",
       "  <thead>\n",
       "    <tr style=\"text-align: right;\">\n",
       "      <th></th>\n",
       "      <th>main_points</th>\n",
       "      <th>extra_points</th>\n",
       "      <th>sex</th>\n",
       "      <th>age</th>\n",
       "      <th>certificate</th>\n",
       "      <th>student</th>\n",
       "      <th>numb_of_certif</th>\n",
       "      <th>language</th>\n",
       "    </tr>\n",
       "  </thead>\n",
       "  <tbody>\n",
       "    <tr>\n",
       "      <th>0</th>\n",
       "      <td>28.33</td>\n",
       "      <td>4.76</td>\n",
       "      <td>1</td>\n",
       "      <td>0</td>\n",
       "      <td>0</td>\n",
       "      <td>0</td>\n",
       "      <td>0</td>\n",
       "      <td>3</td>\n",
       "    </tr>\n",
       "    <tr>\n",
       "      <th>1</th>\n",
       "      <td>27.20</td>\n",
       "      <td>5.96</td>\n",
       "      <td>1</td>\n",
       "      <td>1</td>\n",
       "      <td>0</td>\n",
       "      <td>0</td>\n",
       "      <td>0</td>\n",
       "      <td>2</td>\n",
       "    </tr>\n",
       "    <tr>\n",
       "      <th>2</th>\n",
       "      <td>11.34</td>\n",
       "      <td>9.07</td>\n",
       "      <td>0</td>\n",
       "      <td>1</td>\n",
       "      <td>1</td>\n",
       "      <td>1</td>\n",
       "      <td>1</td>\n",
       "      <td>3</td>\n",
       "    </tr>\n",
       "    <tr>\n",
       "      <th>3</th>\n",
       "      <td>8.67</td>\n",
       "      <td>6.41</td>\n",
       "      <td>0</td>\n",
       "      <td>0</td>\n",
       "      <td>1</td>\n",
       "      <td>0</td>\n",
       "      <td>3</td>\n",
       "      <td>2</td>\n",
       "    </tr>\n",
       "    <tr>\n",
       "      <th>4</th>\n",
       "      <td>21.60</td>\n",
       "      <td>4.66</td>\n",
       "      <td>1</td>\n",
       "      <td>1</td>\n",
       "      <td>1</td>\n",
       "      <td>0</td>\n",
       "      <td>1</td>\n",
       "      <td>3</td>\n",
       "    </tr>\n",
       "  </tbody>\n",
       "</table>\n",
       "</div>"
      ],
      "text/plain": [
       "   main_points  extra_points  sex  age  certificate  student  numb_of_certif  \\\n",
       "0        28.33          4.76    1    0            0        0               0   \n",
       "1        27.20          5.96    1    1            0        0               0   \n",
       "2        11.34          9.07    0    1            1        1               1   \n",
       "3         8.67          6.41    0    0            1        0               3   \n",
       "4        21.60          4.66    1    1            1        0               1   \n",
       "\n",
       "   language  \n",
       "0         3  \n",
       "1         2  \n",
       "2         3  \n",
       "3         2  \n",
       "4         3  "
      ]
     },
     "execution_count": 62,
     "metadata": {},
     "output_type": "execute_result"
    }
   ],
   "source": [
    "df.head()"
   ]
  },
  {
   "cell_type": "code",
   "execution_count": 63,
   "metadata": {},
   "outputs": [
    {
     "name": "stdout",
     "output_type": "stream",
     "text": [
      "<class 'pandas.core.frame.DataFrame'>\n",
      "RangeIndex: 512 entries, 0 to 511\n",
      "Data columns (total 8 columns):\n",
      " #   Column          Non-Null Count  Dtype  \n",
      "---  ------          --------------  -----  \n",
      " 0   main_points     512 non-null    float64\n",
      " 1   extra_points    512 non-null    float64\n",
      " 2   sex             512 non-null    int64  \n",
      " 3   age             512 non-null    int64  \n",
      " 4   certificate     512 non-null    int64  \n",
      " 5   student         512 non-null    int64  \n",
      " 6   numb_of_certif  512 non-null    int64  \n",
      " 7   language        512 non-null    int64  \n",
      "dtypes: float64(2), int64(6)\n",
      "memory usage: 32.1 KB\n"
     ]
    }
   ],
   "source": [
    "df.info()"
   ]
  },
  {
   "cell_type": "code",
   "execution_count": 64,
   "metadata": {},
   "outputs": [
    {
     "data": {
      "text/html": [
       "<div>\n",
       "<style scoped>\n",
       "    .dataframe tbody tr th:only-of-type {\n",
       "        vertical-align: middle;\n",
       "    }\n",
       "\n",
       "    .dataframe tbody tr th {\n",
       "        vertical-align: top;\n",
       "    }\n",
       "\n",
       "    .dataframe thead th {\n",
       "        text-align: right;\n",
       "    }\n",
       "</style>\n",
       "<table border=\"1\" class=\"dataframe\">\n",
       "  <thead>\n",
       "    <tr style=\"text-align: right;\">\n",
       "      <th></th>\n",
       "      <th>main_points</th>\n",
       "      <th>extra_points</th>\n",
       "      <th>sex</th>\n",
       "      <th>age</th>\n",
       "      <th>certificate</th>\n",
       "      <th>student</th>\n",
       "      <th>numb_of_certif</th>\n",
       "      <th>language</th>\n",
       "    </tr>\n",
       "  </thead>\n",
       "  <tbody>\n",
       "    <tr>\n",
       "      <th>count</th>\n",
       "      <td>512.000000</td>\n",
       "      <td>512.000000</td>\n",
       "      <td>512.000000</td>\n",
       "      <td>512.000000</td>\n",
       "      <td>512.000000</td>\n",
       "      <td>512.000000</td>\n",
       "      <td>512.000000</td>\n",
       "      <td>512.000000</td>\n",
       "    </tr>\n",
       "    <tr>\n",
       "      <th>mean</th>\n",
       "      <td>25.601895</td>\n",
       "      <td>5.445156</td>\n",
       "      <td>0.525391</td>\n",
       "      <td>0.498047</td>\n",
       "      <td>0.476562</td>\n",
       "      <td>0.492188</td>\n",
       "      <td>1.441406</td>\n",
       "      <td>1.468750</td>\n",
       "    </tr>\n",
       "    <tr>\n",
       "      <th>std</th>\n",
       "      <td>13.313986</td>\n",
       "      <td>2.610260</td>\n",
       "      <td>0.499843</td>\n",
       "      <td>0.500485</td>\n",
       "      <td>0.499939</td>\n",
       "      <td>0.500428</td>\n",
       "      <td>1.141841</td>\n",
       "      <td>1.148044</td>\n",
       "    </tr>\n",
       "    <tr>\n",
       "      <th>min</th>\n",
       "      <td>1.010000</td>\n",
       "      <td>1.020000</td>\n",
       "      <td>0.000000</td>\n",
       "      <td>0.000000</td>\n",
       "      <td>0.000000</td>\n",
       "      <td>0.000000</td>\n",
       "      <td>0.000000</td>\n",
       "      <td>0.000000</td>\n",
       "    </tr>\n",
       "    <tr>\n",
       "      <th>25%</th>\n",
       "      <td>14.385000</td>\n",
       "      <td>3.205000</td>\n",
       "      <td>0.000000</td>\n",
       "      <td>0.000000</td>\n",
       "      <td>0.000000</td>\n",
       "      <td>0.000000</td>\n",
       "      <td>0.000000</td>\n",
       "      <td>0.000000</td>\n",
       "    </tr>\n",
       "    <tr>\n",
       "      <th>50%</th>\n",
       "      <td>27.195000</td>\n",
       "      <td>5.510000</td>\n",
       "      <td>1.000000</td>\n",
       "      <td>0.000000</td>\n",
       "      <td>0.000000</td>\n",
       "      <td>0.000000</td>\n",
       "      <td>1.000000</td>\n",
       "      <td>1.000000</td>\n",
       "    </tr>\n",
       "    <tr>\n",
       "      <th>75%</th>\n",
       "      <td>35.975000</td>\n",
       "      <td>7.727500</td>\n",
       "      <td>1.000000</td>\n",
       "      <td>1.000000</td>\n",
       "      <td>1.000000</td>\n",
       "      <td>1.000000</td>\n",
       "      <td>2.000000</td>\n",
       "      <td>3.000000</td>\n",
       "    </tr>\n",
       "    <tr>\n",
       "      <th>max</th>\n",
       "      <td>49.930000</td>\n",
       "      <td>9.970000</td>\n",
       "      <td>1.000000</td>\n",
       "      <td>1.000000</td>\n",
       "      <td>1.000000</td>\n",
       "      <td>1.000000</td>\n",
       "      <td>3.000000</td>\n",
       "      <td>3.000000</td>\n",
       "    </tr>\n",
       "  </tbody>\n",
       "</table>\n",
       "</div>"
      ],
      "text/plain": [
       "       main_points  extra_points         sex         age  certificate  \\\n",
       "count   512.000000    512.000000  512.000000  512.000000   512.000000   \n",
       "mean     25.601895      5.445156    0.525391    0.498047     0.476562   \n",
       "std      13.313986      2.610260    0.499843    0.500485     0.499939   \n",
       "min       1.010000      1.020000    0.000000    0.000000     0.000000   \n",
       "25%      14.385000      3.205000    0.000000    0.000000     0.000000   \n",
       "50%      27.195000      5.510000    1.000000    0.000000     0.000000   \n",
       "75%      35.975000      7.727500    1.000000    1.000000     1.000000   \n",
       "max      49.930000      9.970000    1.000000    1.000000     1.000000   \n",
       "\n",
       "          student  numb_of_certif    language  \n",
       "count  512.000000      512.000000  512.000000  \n",
       "mean     0.492188        1.441406    1.468750  \n",
       "std      0.500428        1.141841    1.148044  \n",
       "min      0.000000        0.000000    0.000000  \n",
       "25%      0.000000        0.000000    0.000000  \n",
       "50%      0.000000        1.000000    1.000000  \n",
       "75%      1.000000        2.000000    3.000000  \n",
       "max      1.000000        3.000000    3.000000  "
      ]
     },
     "execution_count": 64,
     "metadata": {},
     "output_type": "execute_result"
    }
   ],
   "source": [
    "df.describe()"
   ]
  },
  {
   "cell_type": "code",
   "execution_count": 65,
   "metadata": {},
   "outputs": [
    {
     "data": {
      "text/plain": [
       "<AxesSubplot:>"
      ]
     },
     "execution_count": 65,
     "metadata": {},
     "output_type": "execute_result"
    },
    {
     "data": {
      "image/png": "[encoded data removed]",
      "text/plain": [
       "<Figure size 432x288 with 2 Axes>"
      ]
     },
     "metadata": {
      "needs_background": "light"
     },
     "output_type": "display_data"
    }
   ],
   "source": [
    "\n",
    "corr = df.corr()\n",
    "sns.heatmap(corr, cmap=\"YlGnBu\")"
   ]
  },
  {
   "cell_type": "code",
   "execution_count": 66,
   "metadata": {},
   "outputs": [],
   "source": [
    "columns=df.columns\n",
    "columns=columns[:7]\n",
    "X=df[['main_points', 'extra_points', 'sex', 'age', 'certificate', 'student', 'numb_of_certif']]\n",
    "\n",
    "y=df[['language']]"
   ]
  },
  {
   "cell_type": "code",
   "execution_count": 67,
   "metadata": {},
   "outputs": [],
   "source": [
    "X_train,X_test,y_train,y_test = train_test_split(X,y,test_size=0.3)"
   ]
  },
  {
   "cell_type": "code",
   "execution_count": 68,
   "metadata": {},
   "outputs": [],
   "source": [
    "lr = LinearRegression()"
   ]
  },
  {
   "cell_type": "code",
   "execution_count": 69,
   "metadata": {},
   "outputs": [
    {
     "data": {
      "text/plain": [
       "LinearRegression()"
      ]
     },
     "execution_count": 69,
     "metadata": {},
     "output_type": "execute_result"
    }
   ],
   "source": [
    "\n",
    "lr.fit(X_train,y_train)"
   ]
  },
  {
   "cell_type": "code",
   "execution_count": 70,
   "metadata": {},
   "outputs": [],
   "source": [
    "y_Hat = lr.predict(X_test)"
   ]
  },
  {
   "cell_type": "code",
   "execution_count": 71,
   "metadata": {},
   "outputs": [
    {
     "data": {
      "text/plain": [
       "1.0083348903206946"
      ]
     },
     "execution_count": 71,
     "metadata": {},
     "output_type": "execute_result"
    }
   ],
   "source": [
    "mean_absolute_error(y_test, y_Hat)"
   ]
  },
  {
   "cell_type": "code",
   "execution_count": 72,
   "metadata": {},
   "outputs": [
    {
     "data": {
      "text/plain": [
       "1.2989589104478305"
      ]
     },
     "execution_count": 72,
     "metadata": {},
     "output_type": "execute_result"
    }
   ],
   "source": [
    "mean_squared_error(y_test, y_Hat)"
   ]
  },
  {
   "cell_type": "code",
   "execution_count": 73,
   "metadata": {},
   "outputs": [
    {
     "data": {
      "text/html": [
       "<div>\n",
       "<style scoped>\n",
       "    .dataframe tbody tr th:only-of-type {\n",
       "        vertical-align: middle;\n",
       "    }\n",
       "\n",
       "    .dataframe tbody tr th {\n",
       "        vertical-align: top;\n",
       "    }\n",
       "\n",
       "    .dataframe thead th {\n",
       "        text-align: right;\n",
       "    }\n",
       "</style>\n",
       "<table border=\"1\" class=\"dataframe\">\n",
       "  <thead>\n",
       "    <tr style=\"text-align: right;\">\n",
       "      <th></th>\n",
       "      <th>language</th>\n",
       "      <th>language_predicted</th>\n",
       "    </tr>\n",
       "  </thead>\n",
       "  <tbody>\n",
       "    <tr>\n",
       "      <th>444</th>\n",
       "      <td>3</td>\n",
       "      <td>1.236087</td>\n",
       "    </tr>\n",
       "    <tr>\n",
       "      <th>184</th>\n",
       "      <td>0</td>\n",
       "      <td>1.491097</td>\n",
       "    </tr>\n",
       "    <tr>\n",
       "      <th>401</th>\n",
       "      <td>0</td>\n",
       "      <td>1.581490</td>\n",
       "    </tr>\n",
       "    <tr>\n",
       "      <th>499</th>\n",
       "      <td>1</td>\n",
       "      <td>1.445658</td>\n",
       "    </tr>\n",
       "    <tr>\n",
       "      <th>329</th>\n",
       "      <td>2</td>\n",
       "      <td>1.302959</td>\n",
       "    </tr>\n",
       "  </tbody>\n",
       "</table>\n",
       "</div>"
      ],
      "text/plain": [
       "     language  language_predicted\n",
       "444         3            1.236087\n",
       "184         0            1.491097\n",
       "401         0            1.581490\n",
       "499         1            1.445658\n",
       "329         2            1.302959"
      ]
     },
     "execution_count": 73,
     "metadata": {},
     "output_type": "execute_result"
    }
   ],
   "source": [
    "res = pd.DataFrame(y_test)\n",
    "res['language_predicted'] = y_Hat\n",
    "\n",
    "res.head()"
   ]
  },
  {
   "cell_type": "code",
   "execution_count": 74,
   "metadata": {},
   "outputs": [
    {
     "data": {
      "text/plain": [
       "<matplotlib.collections.PathCollection at 0x2b9f56c87c0>"
      ]
     },
     "execution_count": 74,
     "metadata": {},
     "output_type": "execute_result"
    },
    {
     "data": {
      "image/png": "[encoded data removed]",
      "text/plain": [
       "<Figure size 432x288 with 1 Axes>"
      ]
     },
     "metadata": {
      "needs_background": "light"
     },
     "output_type": "display_data"
    }
   ],
   "source": [
    "plt.scatter(res['language'],res['language_predicted'])"
   ]
  }
 ],
 "metadata": {
  "interpreter": {
   "hash": "057fd5ff141c71cf3cd473b23444558c36ccf589c0a561d6383bef9cc6bbac53"
  },
  "kernelspec": {
   "display_name": "Python 3.8.8 64-bit ('base': conda)",
   "name": "python3"
  },
  "language_info": {
   "codemirror_mode": {
    "name": "ipython",
    "version": 3
   },
   "file_extension": ".py",
   "mimetype": "text/x-python",
   "name": "python",
   "nbconvert_exporter": "python",
   "pygments_lexer": "ipython3",
   "version": "3.8.8"
  },
  "orig_nbformat": 4
 },
 "nbformat": 4,
 "nbformat_minor": 2
}
