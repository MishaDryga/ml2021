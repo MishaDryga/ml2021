{
 "cells": [
  {
   "cell_type": "markdown",
   "metadata": {},
   "source": [
    "# Лабораторна робота 3\n",
    "### Студента групи МІТ-31 (підгрупа 1)\n",
    "### Дриги Михайла Сергійовича\n",
    "\n",
    "## Завдання\n",
    "1. Створити набір даних за допомогою DatasetGenerator\n",
    "2. Завантажити набір даних для класифікації на сайті (у кожного студента має бути інший - прошу організуватись відповідним чином)\n",
    "3. (опціонально для отримання відмінної оцінки) Згенерувати набір даних для клаcифікації на основі звичайних можливостей Python.\n",
    "4. Для отриманих наборів даних провести встановленні кроки моделювання.\n",
    "5. Отримані результати викласти на github у репозиторій ml2021 в основну (default) гілку в папці Lab3.\n"
   ]
  },
  {
   "cell_type": "code",
   "execution_count": 28,
   "metadata": {},
   "outputs": [],
   "source": [
    "import pandas as pd\n",
    "import numpy as np\n",
    "import matplotlib.pyplot as plt\n",
    "import seaborn as sns\n",
    "from sklearn.datasets import make_regression"
   ]
  },
  {
   "cell_type": "markdown",
   "metadata": {},
   "source": [
    "## Завдання 1"
   ]
  },
  {
   "cell_type": "code",
   "execution_count": 29,
   "metadata": {},
   "outputs": [
    {
     "name": "stdout",
     "output_type": "stream",
     "text": [
      "[[ 0.87453855  1.60697526 -0.06224225 ...  1.00109155 -0.73981705\n",
      "   2.81200035]\n",
      " [-1.24768284 -0.6998412   0.78386677 ... -0.82808266 -0.28820743\n",
      "   0.72868609]\n",
      " [ 0.98706309  2.42401702 -0.29089587 ... -1.05239522 -3.17701498\n",
      "  -0.839968  ]\n",
      " ...\n",
      " [ 0.48648102  2.53689529 -1.55792314 ...  1.03672257 -1.83633013\n",
      "   1.33876513]\n",
      " [ 0.02815324  1.99327438  1.59844397 ... -1.23493567  1.26917436\n",
      "  -0.17365715]\n",
      " [-1.76400325  1.24166095  0.78978495 ... -0.76355873 -0.17423189\n",
      "  -0.27479063]] [ 114.36015613   38.4181672   -23.73999947  -41.99303918 -106.58951247\n",
      "  203.18579431  240.60769703  316.41698968  -35.1799752   -76.66347493\n",
      " -129.20642187  -85.06462333 -121.0093161    15.27760287   28.78631488\n",
      "   88.04104618 -107.79416912 -128.27541429   33.50624448 -376.97034372\n",
      "  -52.15536076   -0.53086625  104.75214022  132.37676753   30.23507575\n",
      "  262.73411116  -82.26433808   61.44111765  -57.57988104 -221.91490684\n",
      "  -36.00617087   48.28605     201.02508348  -53.120492    201.58339426\n",
      "   47.41095805  212.09106379  -10.78479896 -126.82756496   59.62602763\n",
      "  434.55655324  168.43619388 -136.19336645  275.54239941  477.82260328\n",
      "  -47.07720854  197.08563953   46.99385025   52.59027419 -166.28327326\n",
      "   -1.67619023  171.28696641  498.58854338  110.85481089 -129.78243793\n",
      "   74.33586386 -139.72467581  145.63829897  -76.45605641  215.70363224\n",
      "   76.14712185 -122.97325385  350.11739295   91.84881464  -56.85419639\n",
      "  -48.09898011  129.1112455   -91.81089204 -336.32426298 -115.21998061\n",
      "  -13.15076047  -82.80224288 -170.73054654  -80.76174454  -95.98078689\n",
      "  -68.59128577 -174.61105902  227.72960557  113.64003634 -341.35891849\n",
      "   19.48300698 -146.49222092  108.97130464 -260.27969763  102.38474688\n",
      "  -80.26892413   37.16610512 -176.37835399  124.13137436 -386.21177213\n",
      "  -82.01484469   91.90911789   -8.30136677 -193.42044293  -63.80257484\n",
      " -204.03593775  -65.23015632 -154.44707621 -116.74529454  112.49764139\n",
      " -174.02428249   28.1237947   182.91042632 -274.09220441   43.82082965\n",
      "  -76.67545275  205.17910747   58.58719322 -155.12871835 -104.72973781\n",
      "  116.66640636  -15.03125788  162.37830347 -333.64761791 -174.69962675\n",
      "  157.65370435   64.56903819  238.68342872  -33.07711596  387.1265278\n",
      "  130.39804584   56.47770243  149.21278671  167.38527014   74.58568388\n",
      "  -29.59769896 -123.47425611  192.11178314   55.34941437   44.14751316\n",
      "  121.58826292  116.61168826  -36.21173131   45.2423087  -121.29315501\n",
      "  104.45867523  249.87983658   -6.22060762  149.88921632   55.71408166\n",
      " -165.82196363  140.19885543  -78.45735001  364.48603159 -243.58154936\n",
      "  -81.52961752   37.94033736   86.41573742 -173.86806501   80.9666885\n",
      "  -13.95458991    5.47056211   86.36273818 -354.88819546  -60.32054879\n",
      " -280.23191931  246.50176374   11.45544125 -234.12808411  155.0924068\n",
      "   47.45151822  131.0565217    72.85307994  -86.58824641  -58.59263288\n",
      "  -63.55160294 -179.99858385   34.96316698   21.45300228   84.80683616\n",
      "  -23.67942473  -52.21019926  -92.80797143   94.62806482  -11.97853603\n",
      "   68.25713905    5.52305399 -261.54825016 -122.74637839   49.5076951\n",
      "   84.13391613 -131.20652912   51.99915778  147.53447348   41.05581749\n",
      " -294.72131183  245.22699782 -328.3258693   -42.12427584 -297.89024021\n",
      " -103.729643    -38.49460841  236.71313995 -153.08673587  150.61912328\n",
      "   -1.84000003 -456.01372175   95.17173066   85.68480209 -102.32761108\n",
      "   88.71683519  179.53566112   19.20350486  -62.63906239   22.02353411\n",
      "  -57.2692754     3.05605854  -96.00819094 -234.97733185  276.71851528\n",
      "   81.82632167    3.49573107 -267.31326956   36.15100448 -173.25887966\n",
      "   74.19153894 -112.38372723   18.66611202   28.34303017  139.59834176\n",
      " -201.31131587  -79.49862674  -81.31509753   55.58173445   80.70330112\n",
      "  106.76297297 -236.30656155 -180.40317634  216.70164383 -362.63215273\n",
      "  -75.40969985  305.77594837   -0.86864519   77.28107908  171.564018\n",
      " -118.88577494  322.24265643  196.63060696 -132.76419384 -235.78088676\n",
      "   72.34816293  236.18670607   41.42186883 -261.25707552  361.59265996\n",
      " -109.50607019  214.39574631   17.84439924   67.89109326  -10.82986715\n",
      " -198.34100616  178.27824037   43.60783615  255.80736312 -324.37440815\n",
      " -188.67903914  187.79916577  -62.59897164  -29.17324214  -73.56282741\n",
      "  186.69598058  -49.2861235    -1.49721443   56.42246304 -340.74564184\n",
      " -201.43495544   -1.08288834 -100.81286576   63.81135381  108.31545687\n",
      "   16.90876603  135.27350709 -107.09026284 -144.10960094 -130.26990991\n",
      "  -56.33810195   61.9539015   -40.40760399 -101.92424031  309.26716336\n",
      " -138.95560446   74.27362649   12.93188335  121.52239511  -88.41935895\n",
      " -106.18266847   59.74986236  -43.22849247  -60.9015407    50.41475143\n",
      "  -31.30686446  -81.98794308   43.38420422  -67.98035648  238.47792864\n",
      " -106.68587089  -49.29987767  -34.58544757 -141.19588044 -486.2848504\n",
      "   38.6099402   347.91034045   66.81841411  210.13134278  -62.34787188\n",
      "  153.93426589   37.05552563 -113.96653838 -218.68894437  176.27732219\n",
      "   25.16889312  162.96217742 -167.44224584 -217.94377265  -44.05989294\n",
      "  222.58024013   56.64402379   -8.03205481  361.93495356  -59.41900486\n",
      "  -74.99248908  127.93476173  -52.2583205   221.17869553   94.15385483\n",
      "  225.90767754  137.56781249  -53.64386503 -133.53788328 -135.88318257\n",
      " -152.26510045   50.52808863   89.40062607 -277.38261033    7.21517405\n",
      "  221.01201043 -143.17590087  -35.85395686 -369.53142828  -17.45439292\n",
      "  -13.02759066  118.17897146 -334.41967474  -44.40739419  177.13863082\n",
      "  108.85439534 -154.03167524 -136.93593943 -109.04543812   36.65209158\n",
      "   12.22648339   17.7425249   191.73519963  292.74734057  308.57528961\n",
      "   71.43700313  -20.17869688 -146.02300545 -122.77119476 -378.07021754\n",
      "  108.63860475 -104.35095571 -257.95269993   36.41612664    0.71915286\n",
      "  162.98268233  244.16733438 -239.71368037 -201.72865132 -204.00886462\n",
      "   38.66656496   98.88040628   -6.80626433  268.29683428  -30.68817621\n",
      "  -86.01918438  -27.69935465  297.71514203  -68.94926517   16.43925174\n",
      " -236.70425923  -70.11417673  -42.38870317 -138.0652189  -133.25617497\n",
      "  -54.57063082 -222.45183296 -192.57823193  154.12497717  -45.88316101\n",
      "   73.66877886  238.27740786   62.31552453 -290.69858117   29.64534589\n",
      "   50.76638105  410.52945913    4.28703528 -150.05849721 -231.45030612\n",
      "  233.21512306 -274.24433073   28.99240126  273.94422214 -127.31236102\n",
      "  -64.98576266 -106.36590654 -151.52247831   25.27931718   41.32633895\n",
      " -110.98751228   13.56471138  -65.05352777   46.35460196  136.11079833\n",
      "  182.76097975   30.8590363  -125.99629289  -25.22831336   87.07944652\n",
      "    8.36093351  -32.18649816  -38.32589916 -298.80564397 -119.06529488\n",
      "  119.87192563  132.73196359  107.38006928  142.28384029   27.01877689\n",
      "   40.70195802  167.92505788  -28.38000833  -54.36795848 -139.94232851\n",
      " -181.54887042  -69.33314242  110.19577423 -234.51106008   43.66361646\n",
      "    3.38642706  216.51940326 -140.91409832 -164.45089372  238.19656624\n",
      "  -51.26938057 -181.22126257  -63.71749977 -203.7957673   -27.23461121\n",
      "  -90.78283378 -104.87483846   37.56340101  201.66851576  172.36560126\n",
      " -217.22246638   37.12562675  -94.64733792 -247.23012129   19.65063998\n",
      "  -66.03723611   13.16557547   48.07995435  486.87389092    6.17745388\n",
      "   79.41118859  -79.88231229  129.03702538 -198.48239053  -68.46923626\n",
      " -273.38134905  222.21696458   20.72461142  -12.3622018  -103.96479297\n",
      "  -52.48824446    1.483126    -43.08483343  -74.64601332 -336.2394764\n",
      "  134.58946054  -70.15972263 -249.08169745  -28.16135617  -31.61494178\n",
      "   37.69908479 -235.1053421   187.21948011  114.21651683   -1.14032634\n",
      "   82.03829214   11.76601458   90.24270248  130.01144998 -186.16694337\n",
      "    2.07719362 -221.78748781 -139.89962726   -8.44687777 -220.92316988\n",
      "  -57.45998248  105.60768758 -140.76104445  163.21123326   61.79586448\n",
      " -189.93117767  -13.31192842  175.20776909 -149.3107961   -87.94748817\n",
      "  273.13826024  225.60453673]\n"
     ]
    }
   ],
   "source": [
    "X, y = make_regression(n_samples=512, n_features=10, n_informative=512, n_targets=1,  noise=0.0, shuffle=True, coef=False, random_state=None)\n",
    "\n",
    "print(X,y)"
   ]
  },
  {
   "cell_type": "code",
   "execution_count": 30,
   "metadata": {},
   "outputs": [
    {
     "data": {
      "text/html": [
       "<div>\n",
       "<style scoped>\n",
       "    .dataframe tbody tr th:only-of-type {\n",
       "        vertical-align: middle;\n",
       "    }\n",
       "\n",
       "    .dataframe tbody tr th {\n",
       "        vertical-align: top;\n",
       "    }\n",
       "\n",
       "    .dataframe thead th {\n",
       "        text-align: right;\n",
       "    }\n",
       "</style>\n",
       "<table border=\"1\" class=\"dataframe\">\n",
       "  <thead>\n",
       "    <tr style=\"text-align: right;\">\n",
       "      <th></th>\n",
       "      <th>0</th>\n",
       "      <th>1</th>\n",
       "      <th>2</th>\n",
       "      <th>3</th>\n",
       "      <th>4</th>\n",
       "      <th>5</th>\n",
       "      <th>6</th>\n",
       "      <th>7</th>\n",
       "      <th>8</th>\n",
       "      <th>9</th>\n",
       "    </tr>\n",
       "  </thead>\n",
       "  <tbody>\n",
       "    <tr>\n",
       "      <th>114.360156</th>\n",
       "      <td>0.874539</td>\n",
       "      <td>1.606975</td>\n",
       "      <td>-0.062242</td>\n",
       "      <td>-0.198279</td>\n",
       "      <td>1.205939</td>\n",
       "      <td>-1.929776</td>\n",
       "      <td>0.929104</td>\n",
       "      <td>1.001092</td>\n",
       "      <td>-0.739817</td>\n",
       "      <td>2.812000</td>\n",
       "    </tr>\n",
       "    <tr>\n",
       "      <th>38.418167</th>\n",
       "      <td>-1.247683</td>\n",
       "      <td>-0.699841</td>\n",
       "      <td>0.783867</td>\n",
       "      <td>-1.349188</td>\n",
       "      <td>-0.208431</td>\n",
       "      <td>1.021989</td>\n",
       "      <td>1.016905</td>\n",
       "      <td>-0.828083</td>\n",
       "      <td>-0.288207</td>\n",
       "      <td>0.728686</td>\n",
       "    </tr>\n",
       "    <tr>\n",
       "      <th>-23.739999</th>\n",
       "      <td>0.987063</td>\n",
       "      <td>2.424017</td>\n",
       "      <td>-0.290896</td>\n",
       "      <td>-1.693526</td>\n",
       "      <td>-0.201513</td>\n",
       "      <td>2.112351</td>\n",
       "      <td>0.973363</td>\n",
       "      <td>-1.052395</td>\n",
       "      <td>-3.177015</td>\n",
       "      <td>-0.839968</td>\n",
       "    </tr>\n",
       "    <tr>\n",
       "      <th>-41.993039</th>\n",
       "      <td>0.340824</td>\n",
       "      <td>0.019927</td>\n",
       "      <td>0.145136</td>\n",
       "      <td>0.081198</td>\n",
       "      <td>-0.104949</td>\n",
       "      <td>-1.201512</td>\n",
       "      <td>0.405038</td>\n",
       "      <td>1.556333</td>\n",
       "      <td>0.512790</td>\n",
       "      <td>-0.498131</td>\n",
       "    </tr>\n",
       "    <tr>\n",
       "      <th>-106.589512</th>\n",
       "      <td>-0.502500</td>\n",
       "      <td>-0.574906</td>\n",
       "      <td>-0.851030</td>\n",
       "      <td>0.723666</td>\n",
       "      <td>-1.349958</td>\n",
       "      <td>-0.772647</td>\n",
       "      <td>0.584926</td>\n",
       "      <td>2.354195</td>\n",
       "      <td>1.481124</td>\n",
       "      <td>0.676591</td>\n",
       "    </tr>\n",
       "  </tbody>\n",
       "</table>\n",
       "</div>"
      ],
      "text/plain": [
       "                    0         1         2         3         4         5  \\\n",
       " 114.360156  0.874539  1.606975 -0.062242 -0.198279  1.205939 -1.929776   \n",
       " 38.418167  -1.247683 -0.699841  0.783867 -1.349188 -0.208431  1.021989   \n",
       "-23.739999   0.987063  2.424017 -0.290896 -1.693526 -0.201513  2.112351   \n",
       "-41.993039   0.340824  0.019927  0.145136  0.081198 -0.104949 -1.201512   \n",
       "-106.589512 -0.502500 -0.574906 -0.851030  0.723666 -1.349958 -0.772647   \n",
       "\n",
       "                    6         7         8         9  \n",
       " 114.360156  0.929104  1.001092 -0.739817  2.812000  \n",
       " 38.418167   1.016905 -0.828083 -0.288207  0.728686  \n",
       "-23.739999   0.973363 -1.052395 -3.177015 -0.839968  \n",
       "-41.993039   0.405038  1.556333  0.512790 -0.498131  \n",
       "-106.589512  0.584926  2.354195  1.481124  0.676591  "
      ]
     },
     "execution_count": 30,
     "metadata": {},
     "output_type": "execute_result"
    }
   ],
   "source": [
    "df = pd.DataFrame(X, y)\n",
    "df.to_csv('sk_data_set.csv')\n",
    "df.head()"
   ]
  },
  {
   "cell_type": "markdown",
   "metadata": {},
   "source": [
    "## Завдання 2"
   ]
  },
  {
   "cell_type": "code",
   "execution_count": 47,
   "metadata": {},
   "outputs": [
    {
     "data": {
      "text/html": [
       "<div>\n",
       "<style scoped>\n",
       "    .dataframe tbody tr th:only-of-type {\n",
       "        vertical-align: middle;\n",
       "    }\n",
       "\n",
       "    .dataframe tbody tr th {\n",
       "        vertical-align: top;\n",
       "    }\n",
       "\n",
       "    .dataframe thead th {\n",
       "        text-align: right;\n",
       "    }\n",
       "</style>\n",
       "<table border=\"1\" class=\"dataframe\">\n",
       "  <thead>\n",
       "    <tr style=\"text-align: right;\">\n",
       "      <th></th>\n",
       "      <th>age</th>\n",
       "      <th>sex</th>\n",
       "      <th>bmi</th>\n",
       "      <th>children</th>\n",
       "      <th>smoker</th>\n",
       "      <th>region</th>\n",
       "      <th>charges</th>\n",
       "    </tr>\n",
       "  </thead>\n",
       "  <tbody>\n",
       "    <tr>\n",
       "      <th>0</th>\n",
       "      <td>19</td>\n",
       "      <td>female</td>\n",
       "      <td>27.900</td>\n",
       "      <td>0</td>\n",
       "      <td>yes</td>\n",
       "      <td>southwest</td>\n",
       "      <td>16884.92400</td>\n",
       "    </tr>\n",
       "    <tr>\n",
       "      <th>1</th>\n",
       "      <td>18</td>\n",
       "      <td>male</td>\n",
       "      <td>33.770</td>\n",
       "      <td>1</td>\n",
       "      <td>no</td>\n",
       "      <td>southeast</td>\n",
       "      <td>1725.55230</td>\n",
       "    </tr>\n",
       "    <tr>\n",
       "      <th>2</th>\n",
       "      <td>28</td>\n",
       "      <td>male</td>\n",
       "      <td>33.000</td>\n",
       "      <td>3</td>\n",
       "      <td>no</td>\n",
       "      <td>southeast</td>\n",
       "      <td>4449.46200</td>\n",
       "    </tr>\n",
       "    <tr>\n",
       "      <th>3</th>\n",
       "      <td>33</td>\n",
       "      <td>male</td>\n",
       "      <td>22.705</td>\n",
       "      <td>0</td>\n",
       "      <td>no</td>\n",
       "      <td>northwest</td>\n",
       "      <td>21984.47061</td>\n",
       "    </tr>\n",
       "    <tr>\n",
       "      <th>4</th>\n",
       "      <td>32</td>\n",
       "      <td>male</td>\n",
       "      <td>28.880</td>\n",
       "      <td>0</td>\n",
       "      <td>no</td>\n",
       "      <td>northwest</td>\n",
       "      <td>3866.85520</td>\n",
       "    </tr>\n",
       "  </tbody>\n",
       "</table>\n",
       "</div>"
      ],
      "text/plain": [
       "   age     sex     bmi  children smoker     region      charges\n",
       "0   19  female  27.900         0    yes  southwest  16884.92400\n",
       "1   18    male  33.770         1     no  southeast   1725.55230\n",
       "2   28    male  33.000         3     no  southeast   4449.46200\n",
       "3   33    male  22.705         0     no  northwest  21984.47061\n",
       "4   32    male  28.880         0     no  northwest   3866.85520"
      ]
     },
     "execution_count": 47,
     "metadata": {},
     "output_type": "execute_result"
    }
   ],
   "source": [
    "df = pd.read_csv('insurance.csv')\n",
    "df.head()"
   ]
  },
  {
   "cell_type": "code",
   "execution_count": 48,
   "metadata": {},
   "outputs": [],
   "source": [
    "df.replace({\"female\":0, \"male\":1, \"no\":0, \"yes\":1}, None, True)"
   ]
  },
  {
   "cell_type": "code",
   "execution_count": 49,
   "metadata": {},
   "outputs": [
    {
     "data": {
      "text/html": [
       "<div>\n",
       "<style scoped>\n",
       "    .dataframe tbody tr th:only-of-type {\n",
       "        vertical-align: middle;\n",
       "    }\n",
       "\n",
       "    .dataframe tbody tr th {\n",
       "        vertical-align: top;\n",
       "    }\n",
       "\n",
       "    .dataframe thead th {\n",
       "        text-align: right;\n",
       "    }\n",
       "</style>\n",
       "<table border=\"1\" class=\"dataframe\">\n",
       "  <thead>\n",
       "    <tr style=\"text-align: right;\">\n",
       "      <th></th>\n",
       "      <th>age</th>\n",
       "      <th>sex</th>\n",
       "      <th>bmi</th>\n",
       "      <th>children</th>\n",
       "      <th>smoker</th>\n",
       "      <th>region</th>\n",
       "      <th>charges</th>\n",
       "    </tr>\n",
       "  </thead>\n",
       "  <tbody>\n",
       "    <tr>\n",
       "      <th>1333</th>\n",
       "      <td>50</td>\n",
       "      <td>1</td>\n",
       "      <td>30.97</td>\n",
       "      <td>3</td>\n",
       "      <td>0</td>\n",
       "      <td>northwest</td>\n",
       "      <td>10600.5483</td>\n",
       "    </tr>\n",
       "    <tr>\n",
       "      <th>1334</th>\n",
       "      <td>18</td>\n",
       "      <td>0</td>\n",
       "      <td>31.92</td>\n",
       "      <td>0</td>\n",
       "      <td>0</td>\n",
       "      <td>northeast</td>\n",
       "      <td>2205.9808</td>\n",
       "    </tr>\n",
       "    <tr>\n",
       "      <th>1335</th>\n",
       "      <td>18</td>\n",
       "      <td>0</td>\n",
       "      <td>36.85</td>\n",
       "      <td>0</td>\n",
       "      <td>0</td>\n",
       "      <td>southeast</td>\n",
       "      <td>1629.8335</td>\n",
       "    </tr>\n",
       "    <tr>\n",
       "      <th>1336</th>\n",
       "      <td>21</td>\n",
       "      <td>0</td>\n",
       "      <td>25.80</td>\n",
       "      <td>0</td>\n",
       "      <td>0</td>\n",
       "      <td>southwest</td>\n",
       "      <td>2007.9450</td>\n",
       "    </tr>\n",
       "    <tr>\n",
       "      <th>1337</th>\n",
       "      <td>61</td>\n",
       "      <td>0</td>\n",
       "      <td>29.07</td>\n",
       "      <td>0</td>\n",
       "      <td>1</td>\n",
       "      <td>northwest</td>\n",
       "      <td>29141.3603</td>\n",
       "    </tr>\n",
       "  </tbody>\n",
       "</table>\n",
       "</div>"
      ],
      "text/plain": [
       "      age  sex    bmi  children  smoker     region     charges\n",
       "1333   50    1  30.97         3       0  northwest  10600.5483\n",
       "1334   18    0  31.92         0       0  northeast   2205.9808\n",
       "1335   18    0  36.85         0       0  southeast   1629.8335\n",
       "1336   21    0  25.80         0       0  southwest   2007.9450\n",
       "1337   61    0  29.07         0       1  northwest  29141.3603"
      ]
     },
     "execution_count": 49,
     "metadata": {},
     "output_type": "execute_result"
    }
   ],
   "source": [
    "df.tail(5)"
   ]
  },
  {
   "cell_type": "code",
   "execution_count": 50,
   "metadata": {},
   "outputs": [
    {
     "name": "stdout",
     "output_type": "stream",
     "text": [
      "(1338, 7)\n"
     ]
    }
   ],
   "source": [
    "print(df.shape)"
   ]
  },
  {
   "cell_type": "code",
   "execution_count": 51,
   "metadata": {},
   "outputs": [
    {
     "name": "stdout",
     "output_type": "stream",
     "text": [
      "['southwest' 'southeast' 'northwest' 'northeast']\n"
     ]
    }
   ],
   "source": [
    "print(df['region'].unique())"
   ]
  },
  {
   "cell_type": "code",
   "execution_count": 52,
   "metadata": {},
   "outputs": [
    {
     "name": "stdout",
     "output_type": "stream",
     "text": [
      "region\n",
      "northeast    324\n",
      "northwest    325\n",
      "southeast    364\n",
      "southwest    325\n",
      "dtype: int64\n"
     ]
    }
   ],
   "source": [
    "print(df.groupby('region').size())"
   ]
  },
  {
   "cell_type": "code",
   "execution_count": 53,
   "metadata": {},
   "outputs": [
    {
     "name": "stderr",
     "output_type": "stream",
     "text": [
      "C:\\Users\\Mkarlos\\anaconda3\\lib\\site-packages\\seaborn\\_decorators.py:36: FutureWarning: Pass the following variable as a keyword arg: x. From version 0.12, the only valid positional argument will be `data`, and passing other arguments without an explicit keyword will result in an error or misinterpretation.\n",
      "  warnings.warn(\n"
     ]
    },
    {
     "data": {
      "image/png": "[encoded data removed]",
      "text/plain": [
       "<Figure size 432x288 with 1 Axes>"
      ]
     },
     "metadata": {
      "needs_background": "light"
     },
     "output_type": "display_data"
    }
   ],
   "source": [
    "sns.countplot(df['region'],label=\"Count\")\n",
    "plt.show()"
   ]
  },
  {
   "cell_type": "code",
   "execution_count": 54,
   "metadata": {},
   "outputs": [
    {
     "data": {
      "image/png": "[encoded data removed]",
      "text/plain": [
       "<Figure size 2160x1080 with 12 Axes>"
      ]
     },
     "metadata": {
      "needs_background": "light"
     },
     "output_type": "display_data"
    }
   ],
   "source": [
    "df.drop('region', axis=1).plot(kind='box', subplots=True, layout=(2,6), sharex=False, sharey=False, figsize=(30,15), \n",
    "                                        title='Box Plot for each input variable')\n",
    "plt.savefig('data_box_plot')\n",
    "plt.show()"
   ]
  },
  {
   "cell_type": "code",
   "execution_count": 55,
   "metadata": {},
   "outputs": [
    {
     "data": {
      "image/png": "[encoded data removed]",
      "text/plain": [
       "<Figure size 864x864 with 6 Axes>"
      ]
     },
     "metadata": {
      "needs_background": "light"
     },
     "output_type": "display_data"
    }
   ],
   "source": [
    "import pylab as pl\n",
    "df.drop('region' ,axis=1).hist(bins=60, figsize=(12,12))\n",
    "pl.suptitle(\"Histogram for each numeric input variable\")\n",
    "plt.savefig('data_hist')\n",
    "plt.show()"
   ]
  },
  {
   "cell_type": "code",
   "execution_count": 56,
   "metadata": {},
   "outputs": [],
   "source": [
    "import sklearn.model_selection\n",
    "import sklearn.datasets\n",
    "from sklearn.datasets import make_classification\n",
    "\n",
    "X, y = sklearn.datasets.make_classification(n_samples=1024, n_features=20, class_sep=0.98, random_state=0)\n",
    "model1 = (sklearn.model_selection.train_test_split(X, y, test_size=0.5, random_state=0),) \n",
    "\n",
    "model2 = pd.DataFrame(data={'X':[np.random.uniform(-4.0, 4.0) for i in range(1000)],'Y':[np.random.uniform(-300.0, 300.0) for i in range(1000)],'Z':['90.0' for i in range(1000)]})"
   ]
  },
  {
   "cell_type": "code",
   "execution_count": 57,
   "metadata": {},
   "outputs": [],
   "source": [
    "from sklearn.model_selection import train_test_split\n",
    "X_train, X_test, y_train, y_test = train_test_split(X, y, random_state=0)\n",
    "from sklearn.preprocessing import MinMaxScaler\n",
    "scaler = MinMaxScaler()\n",
    "X_train = scaler.fit_transform(X_train)\n",
    "X_test = scaler.transform(X_test)"
   ]
  },
  {
   "cell_type": "code",
   "execution_count": 58,
   "metadata": {},
   "outputs": [
    {
     "name": "stdout",
     "output_type": "stream",
     "text": [
      "Accuracy of Logistic regression classifier on training set: 0.92\n",
      "Accuracy of Logistic regression classifier on test set: 0.91\n"
     ]
    }
   ],
   "source": [
    "from sklearn.linear_model import LogisticRegression\n",
    "logreg = LogisticRegression()\n",
    "logreg.fit(X_train, y_train)\n",
    "print('Accuracy of Logistic regression classifier on training set: {:.2f}'\n",
    "     .format(logreg.score(X_train, y_train)))\n",
    "print('Accuracy of Logistic regression classifier on test set: {:.2f}'\n",
    "     .format(logreg.score(X_test, y_test)))"
   ]
  },
  {
   "cell_type": "code",
   "execution_count": 59,
   "metadata": {},
   "outputs": [
    {
     "name": "stdout",
     "output_type": "stream",
     "text": [
      "Accuracy of Decision Tree classifier on training set: 1.00\n",
      "Accuracy of Decision Tree classifier on test set: 0.86\n"
     ]
    }
   ],
   "source": [
    "from sklearn.tree import DecisionTreeClassifier\n",
    "clf = DecisionTreeClassifier().fit(X_train, y_train)\n",
    "print('Accuracy of Decision Tree classifier on training set: {:.2f}'\n",
    "     .format(clf.score(X_train, y_train)))\n",
    "print('Accuracy of Decision Tree classifier on test set: {:.2f}'\n",
    "     .format(clf.score(X_test, y_test)))"
   ]
  },
  {
   "cell_type": "code",
   "execution_count": 60,
   "metadata": {},
   "outputs": [
    {
     "name": "stdout",
     "output_type": "stream",
     "text": [
      "Accuracy of K-NN classifier on training set: 0.93\n",
      "Accuracy of K-NN classifier on test set: 0.87\n"
     ]
    }
   ],
   "source": [
    "from sklearn.neighbors import KNeighborsClassifier\n",
    "knn = KNeighborsClassifier()\n",
    "knn.fit(X_train, y_train)\n",
    "print('Accuracy of K-NN classifier on training set: {:.2f}'\n",
    "     .format(knn.score(X_train, y_train)))\n",
    "print('Accuracy of K-NN classifier on test set: {:.2f}'\n",
    "     .format(knn.score(X_test, y_test)))"
   ]
  },
  {
   "cell_type": "code",
   "execution_count": 61,
   "metadata": {},
   "outputs": [
    {
     "data": {
      "image/png": "[encoded data removed]",
      "text/plain": [
       "<Figure size 432x288 with 1 Axes>"
      ]
     },
     "metadata": {
      "needs_background": "light"
     },
     "output_type": "display_data"
    }
   ],
   "source": [
    "from sklearn import metrics\n",
    "from sklearn.neighbors import KNeighborsClassifier\n",
    "v=[]\n",
    "\n",
    "k_range = list(range(1, 50))\n",
    "for i in k_range:\n",
    "    knn = KNeighborsClassifier(n_neighbors=i)\n",
    "    knn.fit(X, y)\n",
    "    k_pred = knn.predict(X)\n",
    "    v.append( metrics.accuracy_score(y, k_pred))\n",
    "\n",
    "\n",
    "import matplotlib.pyplot as plt\n",
    "plt.plot(k_range,v,c='Blue',)\n",
    "plt.show()"
   ]
  },
  {
   "cell_type": "code",
   "execution_count": 62,
   "metadata": {},
   "outputs": [
    {
     "data": {
      "image/png": "[encoded data removed]",
      "text/plain": [
       "<Figure size 432x288 with 1 Axes>"
      ]
     },
     "metadata": {
      "needs_background": "light"
     },
     "output_type": "display_data"
    }
   ],
   "source": [
    "from sklearn import metrics\n",
    "v=[]\n",
    "\n",
    "\n",
    "k_range = list(range(1, 50))\n",
    "for i in k_range:\n",
    "    knn = KNeighborsClassifier(n_neighbors=i)\n",
    "    knn.fit(X_train, y_train)\n",
    "    k_pred = knn.predict(X_test)\n",
    "    v.append( metrics.accuracy_score(y_test, k_pred))\n",
    "\n",
    "\n",
    "\n",
    "import matplotlib.pyplot as plt\n",
    "plt.plot(k_range,v)\n",
    "\n",
    "plt.show()"
   ]
  },
  {
   "cell_type": "code",
   "execution_count": 63,
   "metadata": {},
   "outputs": [
    {
     "data": {
      "text/plain": [
       "0.875"
      ]
     },
     "execution_count": 63,
     "metadata": {},
     "output_type": "execute_result"
    }
   ],
   "source": [
    "knn = KNeighborsClassifier(n_neighbors=12)\n",
    "knn.fit(X_train, y_train)\n",
    "k_pred = knn.predict(X_test)\n",
    "\n",
    "metrics.accuracy_score(y_test, k_pred)"
   ]
  },
  {
   "cell_type": "code",
   "execution_count": 64,
   "metadata": {},
   "outputs": [
    {
     "name": "stdout",
     "output_type": "stream",
     "text": [
      "Accuracy of LDA classifier on training set: 0.93\n",
      "Accuracy of LDA classifier on test set: 0.91\n"
     ]
    }
   ],
   "source": [
    "from sklearn.discriminant_analysis import LinearDiscriminantAnalysis\n",
    "lda = LinearDiscriminantAnalysis()\n",
    "lda.fit(X_train, y_train)\n",
    "print('Accuracy of LDA classifier on training set: {:.2f}'\n",
    "     .format(lda.score(X_train, y_train)))\n",
    "print('Accuracy of LDA classifier on test set: {:.2f}'\n",
    "     .format(lda.score(X_test, y_test)))"
   ]
  },
  {
   "cell_type": "code",
   "execution_count": 65,
   "metadata": {},
   "outputs": [
    {
     "name": "stdout",
     "output_type": "stream",
     "text": [
      "Accuracy of GNB classifier on training set: 0.92\n",
      "Accuracy of GNB classifier on test set: 0.88\n"
     ]
    }
   ],
   "source": [
    "from sklearn.naive_bayes import GaussianNB\n",
    "gnb = GaussianNB()\n",
    "gnb.fit(X_train, y_train)\n",
    "print('Accuracy of GNB classifier on training set: {:.2f}'\n",
    "     .format(gnb.score(X_train, y_train)))\n",
    "print('Accuracy of GNB classifier on test set: {:.2f}'\n",
    "     .format(gnb.score(X_test, y_test)))"
   ]
  },
  {
   "cell_type": "code",
   "execution_count": 66,
   "metadata": {},
   "outputs": [
    {
     "name": "stdout",
     "output_type": "stream",
     "text": [
      "Accuracy of SVM classifier on training set: 0.96\n",
      "Accuracy of SVM classifier on test set: 0.91\n"
     ]
    }
   ],
   "source": [
    "from sklearn.svm import SVC\n",
    "svm = SVC()\n",
    "svm.fit(X_train, y_train)\n",
    "print('Accuracy of SVM classifier on training set: {:.2f}'\n",
    "     .format(svm.score(X_train, y_train)))\n",
    "print('Accuracy of SVM classifier on test set: {:.2f}'\n",
    "     .format(svm.score(X_test, y_test)))"
   ]
  },
  {
   "cell_type": "code",
   "execution_count": 67,
   "metadata": {},
   "outputs": [
    {
     "name": "stdout",
     "output_type": "stream",
     "text": [
      "[[106  20]\n",
      " [ 12 118]]\n",
      "              precision    recall  f1-score   support\n",
      "\n",
      "           0       0.90      0.84      0.87       126\n",
      "           1       0.86      0.91      0.88       130\n",
      "\n",
      "    accuracy                           0.88       256\n",
      "   macro avg       0.88      0.87      0.87       256\n",
      "weighted avg       0.88      0.88      0.87       256\n",
      "\n"
     ]
    }
   ],
   "source": [
    "from sklearn.metrics import classification_report\n",
    "from sklearn.metrics import confusion_matrix\n",
    "pred = knn.predict(X_test)\n",
    "print(confusion_matrix(y_test, pred))\n",
    "print(classification_report(y_test, pred))"
   ]
  },
  {
   "cell_type": "code",
   "execution_count": 68,
   "metadata": {},
   "outputs": [
    {
     "name": "stderr",
     "output_type": "stream",
     "text": [
      "C:\\Users\\Mkarlos\\anaconda3\\lib\\site-packages\\seaborn\\axisgrid.py:316: UserWarning: The `size` parameter has been renamed to `height`; please update your code.\n",
      "  warnings.warn(msg, UserWarning)\n"
     ]
    },
    {
     "data": {
      "image/png": "[encoded data removed]",
      "text/plain": [
       "<Figure size 519.25x432 with 1 Axes>"
      ]
     },
     "metadata": {
      "needs_background": "light"
     },
     "output_type": "display_data"
    }
   ],
   "source": [
    "sns.FacetGrid(df, hue=\"region\", size=6) \\\n",
    "   .map(plt.scatter, \"age\", \"children\") \\\n",
    "   .add_legend()\n",
    "\n",
    "plt.show()"
   ]
  },
  {
   "cell_type": "code",
   "execution_count": 69,
   "metadata": {},
   "outputs": [
    {
     "data": {
      "text/plain": [
       "<seaborn.axisgrid.FacetGrid at 0x2c021db5580>"
      ]
     },
     "execution_count": 69,
     "metadata": {},
     "output_type": "execute_result"
    },
    {
     "data": {
      "image/png": "[encoded data removed]",
      "text/plain": [
       "<Figure size 327.6x252 with 2 Axes>"
      ]
     },
     "metadata": {
      "needs_background": "light"
     },
     "output_type": "display_data"
    }
   ],
   "source": [
    "g = sns.FacetGrid(df, col=\"sex\", height=3.5, aspect=.65)\n",
    "g.map(sns.histplot, \"region\")"
   ]
  },
  {
   "cell_type": "markdown",
   "metadata": {},
   "source": [
    "## Завдання 3"
   ]
  },
  {
   "cell_type": "code",
   "execution_count": 70,
   "metadata": {},
   "outputs": [],
   "source": [
    "import random as rnd\n",
    "\n",
    "sex = {0:'Man', 1:'Woman'}\n",
    "age = {0:'<20', 1:'>20'}\n",
    "certificate = {0:'have', 1:'dont have'}\n",
    "student = {0:'YES', 1:'NO'}\n",
    "numb_of_certif = {0:'0', 1:'1', 2:'2', 3:'More than 3'}\n",
    "language = {0:'Ukraine', 1:'Russia', 2:'English', 3:'Italia', 4:'France', 5:'Germany', 6:'Romania'}\n",
    "data = []\n",
    "for i in range(0, 512):\n",
    "    row = []\n",
    "    row.append(round(rnd.uniform(1, 50), 2))\n",
    "    row.append(round(rnd.uniform(1, 10), 2))\n",
    "    row.append(sex[rnd.randint(0, 1)])\n",
    "    row.append(age[rnd.randint(0, 1)])\n",
    "    row.append(certificate[rnd.randint(0, 1)])\n",
    "    row.append(student[rnd.randint(0, 1)])\n",
    "    row.append(numb_of_certif[rnd.randint(0, 3)])\n",
    "    row.append(language[rnd.randint(0, 6)])\n",
    "    data.append(row)\n",
    "df = pd.DataFrame(data, columns=['main_points', 'extra_points', 'sex', 'age', 'certificate', 'student', 'numb_of_certif', 'language'])"
   ]
  },
  {
   "cell_type": "code",
   "execution_count": 71,
   "metadata": {},
   "outputs": [],
   "source": [
    "df.replace({'Man': 0, 'Woman':1, '<20': 0, '>20':1, 'have':0, 'dont have':1, 'YES':0, 'NO':1, '0':0, '1':1, '2':2, 'More than 3':3, 'Ukraine': 0\n",
    ", 'Russia':1, 'English':2, 'Italia':3, 'France':4, 'Germany':5, 'Romania':6}, None, True)\n",
    "\n",
    "df.to_csv('my_data_set.csv')"
   ]
  },
  {
   "cell_type": "code",
   "execution_count": 72,
   "metadata": {},
   "outputs": [
    {
     "data": {
      "text/html": [
       "<div>\n",
       "<style scoped>\n",
       "    .dataframe tbody tr th:only-of-type {\n",
       "        vertical-align: middle;\n",
       "    }\n",
       "\n",
       "    .dataframe tbody tr th {\n",
       "        vertical-align: top;\n",
       "    }\n",
       "\n",
       "    .dataframe thead th {\n",
       "        text-align: right;\n",
       "    }\n",
       "</style>\n",
       "<table border=\"1\" class=\"dataframe\">\n",
       "  <thead>\n",
       "    <tr style=\"text-align: right;\">\n",
       "      <th></th>\n",
       "      <th>main_points</th>\n",
       "      <th>extra_points</th>\n",
       "      <th>sex</th>\n",
       "      <th>age</th>\n",
       "      <th>certificate</th>\n",
       "      <th>student</th>\n",
       "      <th>numb_of_certif</th>\n",
       "      <th>language</th>\n",
       "    </tr>\n",
       "  </thead>\n",
       "  <tbody>\n",
       "    <tr>\n",
       "      <th>0</th>\n",
       "      <td>49.93</td>\n",
       "      <td>3.64</td>\n",
       "      <td>0</td>\n",
       "      <td>1</td>\n",
       "      <td>1</td>\n",
       "      <td>1</td>\n",
       "      <td>1</td>\n",
       "      <td>4</td>\n",
       "    </tr>\n",
       "    <tr>\n",
       "      <th>1</th>\n",
       "      <td>13.04</td>\n",
       "      <td>6.88</td>\n",
       "      <td>0</td>\n",
       "      <td>0</td>\n",
       "      <td>0</td>\n",
       "      <td>1</td>\n",
       "      <td>3</td>\n",
       "      <td>3</td>\n",
       "    </tr>\n",
       "    <tr>\n",
       "      <th>2</th>\n",
       "      <td>34.76</td>\n",
       "      <td>8.41</td>\n",
       "      <td>0</td>\n",
       "      <td>0</td>\n",
       "      <td>1</td>\n",
       "      <td>1</td>\n",
       "      <td>1</td>\n",
       "      <td>5</td>\n",
       "    </tr>\n",
       "    <tr>\n",
       "      <th>3</th>\n",
       "      <td>25.04</td>\n",
       "      <td>6.30</td>\n",
       "      <td>1</td>\n",
       "      <td>1</td>\n",
       "      <td>0</td>\n",
       "      <td>1</td>\n",
       "      <td>0</td>\n",
       "      <td>4</td>\n",
       "    </tr>\n",
       "    <tr>\n",
       "      <th>4</th>\n",
       "      <td>18.19</td>\n",
       "      <td>7.12</td>\n",
       "      <td>1</td>\n",
       "      <td>0</td>\n",
       "      <td>0</td>\n",
       "      <td>1</td>\n",
       "      <td>3</td>\n",
       "      <td>1</td>\n",
       "    </tr>\n",
       "  </tbody>\n",
       "</table>\n",
       "</div>"
      ],
      "text/plain": [
       "   main_points  extra_points  sex  age  certificate  student  numb_of_certif  \\\n",
       "0        49.93          3.64    0    1            1        1               1   \n",
       "1        13.04          6.88    0    0            0        1               3   \n",
       "2        34.76          8.41    0    0            1        1               1   \n",
       "3        25.04          6.30    1    1            0        1               0   \n",
       "4        18.19          7.12    1    0            0        1               3   \n",
       "\n",
       "   language  \n",
       "0         4  \n",
       "1         3  \n",
       "2         5  \n",
       "3         4  \n",
       "4         1  "
      ]
     },
     "execution_count": 72,
     "metadata": {},
     "output_type": "execute_result"
    }
   ],
   "source": [
    "df.head()"
   ]
  },
  {
   "cell_type": "code",
   "execution_count": 73,
   "metadata": {},
   "outputs": [
    {
     "data": {
      "text/html": [
       "<div>\n",
       "<style scoped>\n",
       "    .dataframe tbody tr th:only-of-type {\n",
       "        vertical-align: middle;\n",
       "    }\n",
       "\n",
       "    .dataframe tbody tr th {\n",
       "        vertical-align: top;\n",
       "    }\n",
       "\n",
       "    .dataframe thead th {\n",
       "        text-align: right;\n",
       "    }\n",
       "</style>\n",
       "<table border=\"1\" class=\"dataframe\">\n",
       "  <thead>\n",
       "    <tr style=\"text-align: right;\">\n",
       "      <th></th>\n",
       "      <th>main_points</th>\n",
       "      <th>extra_points</th>\n",
       "      <th>sex</th>\n",
       "      <th>age</th>\n",
       "      <th>certificate</th>\n",
       "      <th>student</th>\n",
       "      <th>numb_of_certif</th>\n",
       "      <th>language</th>\n",
       "    </tr>\n",
       "  </thead>\n",
       "  <tbody>\n",
       "    <tr>\n",
       "      <th>507</th>\n",
       "      <td>7.51</td>\n",
       "      <td>5.51</td>\n",
       "      <td>1</td>\n",
       "      <td>1</td>\n",
       "      <td>1</td>\n",
       "      <td>1</td>\n",
       "      <td>0</td>\n",
       "      <td>4</td>\n",
       "    </tr>\n",
       "    <tr>\n",
       "      <th>508</th>\n",
       "      <td>45.02</td>\n",
       "      <td>9.45</td>\n",
       "      <td>1</td>\n",
       "      <td>1</td>\n",
       "      <td>0</td>\n",
       "      <td>1</td>\n",
       "      <td>0</td>\n",
       "      <td>1</td>\n",
       "    </tr>\n",
       "    <tr>\n",
       "      <th>509</th>\n",
       "      <td>1.74</td>\n",
       "      <td>7.76</td>\n",
       "      <td>1</td>\n",
       "      <td>0</td>\n",
       "      <td>0</td>\n",
       "      <td>1</td>\n",
       "      <td>1</td>\n",
       "      <td>0</td>\n",
       "    </tr>\n",
       "    <tr>\n",
       "      <th>510</th>\n",
       "      <td>5.31</td>\n",
       "      <td>7.75</td>\n",
       "      <td>1</td>\n",
       "      <td>1</td>\n",
       "      <td>0</td>\n",
       "      <td>0</td>\n",
       "      <td>0</td>\n",
       "      <td>4</td>\n",
       "    </tr>\n",
       "    <tr>\n",
       "      <th>511</th>\n",
       "      <td>22.30</td>\n",
       "      <td>9.11</td>\n",
       "      <td>1</td>\n",
       "      <td>1</td>\n",
       "      <td>0</td>\n",
       "      <td>0</td>\n",
       "      <td>3</td>\n",
       "      <td>2</td>\n",
       "    </tr>\n",
       "  </tbody>\n",
       "</table>\n",
       "</div>"
      ],
      "text/plain": [
       "     main_points  extra_points  sex  age  certificate  student  \\\n",
       "507         7.51          5.51    1    1            1        1   \n",
       "508        45.02          9.45    1    1            0        1   \n",
       "509         1.74          7.76    1    0            0        1   \n",
       "510         5.31          7.75    1    1            0        0   \n",
       "511        22.30          9.11    1    1            0        0   \n",
       "\n",
       "     numb_of_certif  language  \n",
       "507               0         4  \n",
       "508               0         1  \n",
       "509               1         0  \n",
       "510               0         4  \n",
       "511               3         2  "
      ]
     },
     "execution_count": 73,
     "metadata": {},
     "output_type": "execute_result"
    }
   ],
   "source": [
    "df.tail()"
   ]
  },
  {
   "cell_type": "code",
   "execution_count": 74,
   "metadata": {},
   "outputs": [
    {
     "name": "stdout",
     "output_type": "stream",
     "text": [
      "language\n",
      "[4 3 5 1 2 6 0]\n"
     ]
    }
   ],
   "source": [
    "print(\"language\")\n",
    "print(df['language'].unique())"
   ]
  },
  {
   "cell_type": "code",
   "execution_count": 75,
   "metadata": {},
   "outputs": [
    {
     "name": "stdout",
     "output_type": "stream",
     "text": [
      "<class 'pandas.core.frame.DataFrame'>\n",
      "RangeIndex: 512 entries, 0 to 511\n",
      "Data columns (total 8 columns):\n",
      " #   Column          Non-Null Count  Dtype  \n",
      "---  ------          --------------  -----  \n",
      " 0   main_points     512 non-null    float64\n",
      " 1   extra_points    512 non-null    float64\n",
      " 2   sex             512 non-null    int64  \n",
      " 3   age             512 non-null    int64  \n",
      " 4   certificate     512 non-null    int64  \n",
      " 5   student         512 non-null    int64  \n",
      " 6   numb_of_certif  512 non-null    int64  \n",
      " 7   language        512 non-null    int64  \n",
      "dtypes: float64(2), int64(6)\n",
      "memory usage: 32.1 KB\n"
     ]
    }
   ],
   "source": [
    "df.info()"
   ]
  },
  {
   "cell_type": "code",
   "execution_count": 76,
   "metadata": {},
   "outputs": [
    {
     "data": {
      "text/html": [
       "<div>\n",
       "<style scoped>\n",
       "    .dataframe tbody tr th:only-of-type {\n",
       "        vertical-align: middle;\n",
       "    }\n",
       "\n",
       "    .dataframe tbody tr th {\n",
       "        vertical-align: top;\n",
       "    }\n",
       "\n",
       "    .dataframe thead th {\n",
       "        text-align: right;\n",
       "    }\n",
       "</style>\n",
       "<table border=\"1\" class=\"dataframe\">\n",
       "  <thead>\n",
       "    <tr style=\"text-align: right;\">\n",
       "      <th></th>\n",
       "      <th>main_points</th>\n",
       "      <th>extra_points</th>\n",
       "      <th>sex</th>\n",
       "      <th>age</th>\n",
       "      <th>certificate</th>\n",
       "      <th>student</th>\n",
       "      <th>numb_of_certif</th>\n",
       "      <th>language</th>\n",
       "    </tr>\n",
       "  </thead>\n",
       "  <tbody>\n",
       "    <tr>\n",
       "      <th>count</th>\n",
       "      <td>512.000000</td>\n",
       "      <td>512.000000</td>\n",
       "      <td>512.000000</td>\n",
       "      <td>512.000000</td>\n",
       "      <td>512.000000</td>\n",
       "      <td>512.000000</td>\n",
       "      <td>512.000000</td>\n",
       "      <td>512.000000</td>\n",
       "    </tr>\n",
       "    <tr>\n",
       "      <th>mean</th>\n",
       "      <td>25.541387</td>\n",
       "      <td>5.673965</td>\n",
       "      <td>0.515625</td>\n",
       "      <td>0.490234</td>\n",
       "      <td>0.492188</td>\n",
       "      <td>0.511719</td>\n",
       "      <td>1.478516</td>\n",
       "      <td>2.937500</td>\n",
       "    </tr>\n",
       "    <tr>\n",
       "      <th>std</th>\n",
       "      <td>14.378250</td>\n",
       "      <td>2.634556</td>\n",
       "      <td>0.500245</td>\n",
       "      <td>0.500394</td>\n",
       "      <td>0.500428</td>\n",
       "      <td>0.500352</td>\n",
       "      <td>1.122413</td>\n",
       "      <td>2.002933</td>\n",
       "    </tr>\n",
       "    <tr>\n",
       "      <th>min</th>\n",
       "      <td>1.310000</td>\n",
       "      <td>1.010000</td>\n",
       "      <td>0.000000</td>\n",
       "      <td>0.000000</td>\n",
       "      <td>0.000000</td>\n",
       "      <td>0.000000</td>\n",
       "      <td>0.000000</td>\n",
       "      <td>0.000000</td>\n",
       "    </tr>\n",
       "    <tr>\n",
       "      <th>25%</th>\n",
       "      <td>13.190000</td>\n",
       "      <td>3.560000</td>\n",
       "      <td>0.000000</td>\n",
       "      <td>0.000000</td>\n",
       "      <td>0.000000</td>\n",
       "      <td>0.000000</td>\n",
       "      <td>1.000000</td>\n",
       "      <td>1.000000</td>\n",
       "    </tr>\n",
       "    <tr>\n",
       "      <th>50%</th>\n",
       "      <td>25.075000</td>\n",
       "      <td>5.835000</td>\n",
       "      <td>1.000000</td>\n",
       "      <td>0.000000</td>\n",
       "      <td>0.000000</td>\n",
       "      <td>1.000000</td>\n",
       "      <td>1.000000</td>\n",
       "      <td>3.000000</td>\n",
       "    </tr>\n",
       "    <tr>\n",
       "      <th>75%</th>\n",
       "      <td>38.015000</td>\n",
       "      <td>8.022500</td>\n",
       "      <td>1.000000</td>\n",
       "      <td>1.000000</td>\n",
       "      <td>1.000000</td>\n",
       "      <td>1.000000</td>\n",
       "      <td>3.000000</td>\n",
       "      <td>5.000000</td>\n",
       "    </tr>\n",
       "    <tr>\n",
       "      <th>max</th>\n",
       "      <td>49.990000</td>\n",
       "      <td>9.920000</td>\n",
       "      <td>1.000000</td>\n",
       "      <td>1.000000</td>\n",
       "      <td>1.000000</td>\n",
       "      <td>1.000000</td>\n",
       "      <td>3.000000</td>\n",
       "      <td>6.000000</td>\n",
       "    </tr>\n",
       "  </tbody>\n",
       "</table>\n",
       "</div>"
      ],
      "text/plain": [
       "       main_points  extra_points         sex         age  certificate  \\\n",
       "count   512.000000    512.000000  512.000000  512.000000   512.000000   \n",
       "mean     25.541387      5.673965    0.515625    0.490234     0.492188   \n",
       "std      14.378250      2.634556    0.500245    0.500394     0.500428   \n",
       "min       1.310000      1.010000    0.000000    0.000000     0.000000   \n",
       "25%      13.190000      3.560000    0.000000    0.000000     0.000000   \n",
       "50%      25.075000      5.835000    1.000000    0.000000     0.000000   \n",
       "75%      38.015000      8.022500    1.000000    1.000000     1.000000   \n",
       "max      49.990000      9.920000    1.000000    1.000000     1.000000   \n",
       "\n",
       "          student  numb_of_certif    language  \n",
       "count  512.000000      512.000000  512.000000  \n",
       "mean     0.511719        1.478516    2.937500  \n",
       "std      0.500352        1.122413    2.002933  \n",
       "min      0.000000        0.000000    0.000000  \n",
       "25%      0.000000        1.000000    1.000000  \n",
       "50%      1.000000        1.000000    3.000000  \n",
       "75%      1.000000        3.000000    5.000000  \n",
       "max      1.000000        3.000000    6.000000  "
      ]
     },
     "execution_count": 76,
     "metadata": {},
     "output_type": "execute_result"
    }
   ],
   "source": [
    "df.describe()"
   ]
  },
  {
   "cell_type": "code",
   "execution_count": 77,
   "metadata": {},
   "outputs": [
    {
     "name": "stderr",
     "output_type": "stream",
     "text": [
      "C:\\Users\\Mkarlos\\anaconda3\\lib\\site-packages\\seaborn\\axisgrid.py:316: UserWarning: The `size` parameter has been renamed to `height`; please update your code.\n",
      "  warnings.warn(msg, UserWarning)\n"
     ]
    },
    {
     "data": {
      "image/png": "[encoded data removed]",
      "text/plain": [
       "<Figure size 486.75x432 with 1 Axes>"
      ]
     },
     "metadata": {
      "needs_background": "light"
     },
     "output_type": "display_data"
    }
   ],
   "source": [
    "sns.FacetGrid(df, hue=\"language\", size=6) \\\n",
    "   .map(plt.scatter, \"main_points\", \"extra_points\") \\\n",
    "   .add_legend()\n",
    "\n",
    "plt.show()"
   ]
  },
  {
   "cell_type": "code",
   "execution_count": 78,
   "metadata": {},
   "outputs": [
    {
     "name": "stdout",
     "output_type": "stream",
     "text": [
      "Features: ['extra_points', 'sex', 'age', 'certificate', 'student', 'numb_of_certif']\n",
      "Target: language\n",
      "(512,)\n",
      "(512, 6)\n"
     ]
    }
   ],
   "source": [
    "features = list(df.columns[1:7])            \t\n",
    "target = df.columns[7]                     \n",
    "\n",
    "print('Features:',features)\n",
    "print('Target:',target)\n",
    "\n",
    "X = df.iloc[:,1:7]                         \n",
    "\n",
    "y = df.iloc[:,7]                           \n",
    "\n",
    "\n",
    "print(y.shape)\n",
    "print(X.shape)"
   ]
  },
  {
   "cell_type": "code",
   "execution_count": 79,
   "metadata": {},
   "outputs": [
    {
     "name": "stdout",
     "output_type": "stream",
     "text": [
      "Classes: [0 1 2 3 4 5 6]\n",
      "Response variable after encoding: [4 3 5 4 1 2 6 3 5 5 0 3 6 4 4 6 0 3 0 4 0 3 0 0 4 6 6 3 6 3 3 1 2 0 0 0 1\n",
      " 1 5 5 2 2 2 0 6 6 0 1 3 1 3 1 4 5 5 1 5 0 6 0 4 6 0 4 5 2 3 5 4 3 0 5 5 6\n",
      " 3 1 1 3 0 2 0 1 4 3 2 4 2 2 6 1 0 4 5 2 4 4 0 6 2 4 3 3 0 3 2 4 1 0 4 4 6\n",
      " 1 6 2 2 0 6 4 5 0 2 1 5 1 6 6 3 1 4 3 5 0 4 5 3 0 4 4 1 6 1 5 0 5 0 0 0 6\n",
      " 1 1 2 6 3 5 0 0 0 2 2 6 4 2 3 4 3 5 1 4 3 6 0 6 4 1 4 1 0 5 6 2 2 0 4 4 0\n",
      " 3 2 2 4 2 5 1 6 1 3 0 2 5 5 2 2 1 4 1 5 6 0 4 1 2 1 1 2 2 1 1 1 3 2 1 0 1\n",
      " 2 2 1 2 1 0 6 5 0 0 6 5 5 1 6 6 2 5 0 6 1 6 6 5 4 2 3 6 4 0 4 2 6 6 3 0 4\n",
      " 1 3 1 5 2 3 0 2 4 6 6 0 6 0 6 4 3 0 6 2 3 6 6 1 5 1 0 6 0 3 1 2 4 1 0 4 3\n",
      " 4 1 1 2 5 3 0 1 4 0 5 2 6 5 1 4 3 3 5 1 3 6 2 4 5 5 6 3 6 6 3 5 0 6 3 1 2\n",
      " 4 5 6 6 1 1 3 0 6 2 5 0 5 6 2 4 4 4 2 5 3 5 1 1 4 3 6 6 5 1 6 5 6 4 4 1 2\n",
      " 4 4 5 1 0 5 2 2 1 3 2 0 3 2 4 3 4 0 4 4 4 4 0 3 3 2 1 0 4 1 1 1 6 1 6 5 5\n",
      " 5 4 3 0 6 0 3 2 2 1 2 3 4 1 4 2 1 0 4 6 3 0 5 3 3 1 4 1 4 1 2 6 5 6 1 5 1\n",
      " 3 5 1 6 1 1 6 6 3 0 0 3 2 3 4 2 2 0 4 4 3 5 1 2 5 4 2 5 2 6 2 2 1 4 4 5 5\n",
      " 6 1 3 1 1 4 6 2 5 1 5 1 6 4 1 2 3 3 5 5 1 4 0 0 4 4 4 1 0 4 2]\n"
     ]
    },
    {
     "data": {
      "text/html": [
       "<div>\n",
       "<style scoped>\n",
       "    .dataframe tbody tr th:only-of-type {\n",
       "        vertical-align: middle;\n",
       "    }\n",
       "\n",
       "    .dataframe tbody tr th {\n",
       "        vertical-align: top;\n",
       "    }\n",
       "\n",
       "    .dataframe thead th {\n",
       "        text-align: right;\n",
       "    }\n",
       "</style>\n",
       "<table border=\"1\" class=\"dataframe\">\n",
       "  <thead>\n",
       "    <tr style=\"text-align: right;\">\n",
       "      <th></th>\n",
       "      <th>main_points</th>\n",
       "      <th>extra_points</th>\n",
       "      <th>sex</th>\n",
       "      <th>age</th>\n",
       "      <th>certificate</th>\n",
       "      <th>student</th>\n",
       "      <th>numb_of_certif</th>\n",
       "      <th>language</th>\n",
       "      <th>Encodedlanguage</th>\n",
       "    </tr>\n",
       "  </thead>\n",
       "  <tbody>\n",
       "    <tr>\n",
       "      <th>502</th>\n",
       "      <td>47.73</td>\n",
       "      <td>3.30</td>\n",
       "      <td>0</td>\n",
       "      <td>0</td>\n",
       "      <td>0</td>\n",
       "      <td>1</td>\n",
       "      <td>0</td>\n",
       "      <td>4</td>\n",
       "      <td>4</td>\n",
       "    </tr>\n",
       "    <tr>\n",
       "      <th>503</th>\n",
       "      <td>10.42</td>\n",
       "      <td>5.06</td>\n",
       "      <td>1</td>\n",
       "      <td>1</td>\n",
       "      <td>0</td>\n",
       "      <td>0</td>\n",
       "      <td>1</td>\n",
       "      <td>0</td>\n",
       "      <td>0</td>\n",
       "    </tr>\n",
       "    <tr>\n",
       "      <th>504</th>\n",
       "      <td>27.97</td>\n",
       "      <td>3.65</td>\n",
       "      <td>1</td>\n",
       "      <td>1</td>\n",
       "      <td>1</td>\n",
       "      <td>1</td>\n",
       "      <td>1</td>\n",
       "      <td>0</td>\n",
       "      <td>0</td>\n",
       "    </tr>\n",
       "    <tr>\n",
       "      <th>505</th>\n",
       "      <td>19.66</td>\n",
       "      <td>7.24</td>\n",
       "      <td>1</td>\n",
       "      <td>0</td>\n",
       "      <td>1</td>\n",
       "      <td>1</td>\n",
       "      <td>0</td>\n",
       "      <td>4</td>\n",
       "      <td>4</td>\n",
       "    </tr>\n",
       "    <tr>\n",
       "      <th>506</th>\n",
       "      <td>19.65</td>\n",
       "      <td>2.77</td>\n",
       "      <td>0</td>\n",
       "      <td>0</td>\n",
       "      <td>0</td>\n",
       "      <td>1</td>\n",
       "      <td>1</td>\n",
       "      <td>4</td>\n",
       "      <td>4</td>\n",
       "    </tr>\n",
       "    <tr>\n",
       "      <th>507</th>\n",
       "      <td>7.51</td>\n",
       "      <td>5.51</td>\n",
       "      <td>1</td>\n",
       "      <td>1</td>\n",
       "      <td>1</td>\n",
       "      <td>1</td>\n",
       "      <td>0</td>\n",
       "      <td>4</td>\n",
       "      <td>4</td>\n",
       "    </tr>\n",
       "    <tr>\n",
       "      <th>508</th>\n",
       "      <td>45.02</td>\n",
       "      <td>9.45</td>\n",
       "      <td>1</td>\n",
       "      <td>1</td>\n",
       "      <td>0</td>\n",
       "      <td>1</td>\n",
       "      <td>0</td>\n",
       "      <td>1</td>\n",
       "      <td>1</td>\n",
       "    </tr>\n",
       "    <tr>\n",
       "      <th>509</th>\n",
       "      <td>1.74</td>\n",
       "      <td>7.76</td>\n",
       "      <td>1</td>\n",
       "      <td>0</td>\n",
       "      <td>0</td>\n",
       "      <td>1</td>\n",
       "      <td>1</td>\n",
       "      <td>0</td>\n",
       "      <td>0</td>\n",
       "    </tr>\n",
       "    <tr>\n",
       "      <th>510</th>\n",
       "      <td>5.31</td>\n",
       "      <td>7.75</td>\n",
       "      <td>1</td>\n",
       "      <td>1</td>\n",
       "      <td>0</td>\n",
       "      <td>0</td>\n",
       "      <td>0</td>\n",
       "      <td>4</td>\n",
       "      <td>4</td>\n",
       "    </tr>\n",
       "    <tr>\n",
       "      <th>511</th>\n",
       "      <td>22.30</td>\n",
       "      <td>9.11</td>\n",
       "      <td>1</td>\n",
       "      <td>1</td>\n",
       "      <td>0</td>\n",
       "      <td>0</td>\n",
       "      <td>3</td>\n",
       "      <td>2</td>\n",
       "      <td>2</td>\n",
       "    </tr>\n",
       "  </tbody>\n",
       "</table>\n",
       "</div>"
      ],
      "text/plain": [
       "     main_points  extra_points  sex  age  certificate  student  \\\n",
       "502        47.73          3.30    0    0            0        1   \n",
       "503        10.42          5.06    1    1            0        0   \n",
       "504        27.97          3.65    1    1            1        1   \n",
       "505        19.66          7.24    1    0            1        1   \n",
       "506        19.65          2.77    0    0            0        1   \n",
       "507         7.51          5.51    1    1            1        1   \n",
       "508        45.02          9.45    1    1            0        1   \n",
       "509         1.74          7.76    1    0            0        1   \n",
       "510         5.31          7.75    1    1            0        0   \n",
       "511        22.30          9.11    1    1            0        0   \n",
       "\n",
       "     numb_of_certif  language  Encodedlanguage  \n",
       "502               0         4                4  \n",
       "503               1         0                0  \n",
       "504               1         0                0  \n",
       "505               0         4                4  \n",
       "506               1         4                4  \n",
       "507               0         4                4  \n",
       "508               0         1                1  \n",
       "509               1         0                0  \n",
       "510               0         4                4  \n",
       "511               3         2                2  "
      ]
     },
     "execution_count": 79,
     "metadata": {},
     "output_type": "execute_result"
    }
   ],
   "source": [
    "from sklearn import preprocessing\n",
    "le = preprocessing.LabelEncoder()\n",
    "le.fit(y)\n",
    "y=le.transform(y)\n",
    "\n",
    "\n",
    "df['Encodedlanguage'] = y\n",
    "\n",
    "print('Classes:',le.classes_)\n",
    "print('Response variable after encoding:',y)\n",
    "df.tail(10)"
   ]
  },
  {
   "cell_type": "code",
   "execution_count": 82,
   "metadata": {},
   "outputs": [
    {
     "data": {
      "text/plain": [
       "KNeighborsClassifier(n_neighbors=1)"
      ]
     },
     "execution_count": 82,
     "metadata": {},
     "output_type": "execute_result"
    }
   ],
   "source": [
    "from sklearn.neighbors import KNeighborsClassifier\n",
    "knn = KNeighborsClassifier(n_neighbors=1)\n",
    "knn.fit(X, y)"
   ]
  },
  {
   "cell_type": "code",
   "execution_count": 83,
   "metadata": {},
   "outputs": [
    {
     "name": "stdout",
     "output_type": "stream",
     "text": [
      "prediction value: [0]\n",
      "Predicted Class 2\n"
     ]
    }
   ],
   "source": [
    "value = knn.predict([[3, 5, 6, 4, 2, 1]])\n",
    "print('prediction value:',value)\n",
    "\n",
    "print('Predicted Class', df.loc[df['Encodedlanguage'] == 2, 'language'].values[0])"
   ]
  },
  {
   "cell_type": "code",
   "execution_count": 84,
   "metadata": {},
   "outputs": [
    {
     "data": {
      "text/plain": [
       "array([0, 4], dtype=int64)"
      ]
     },
     "execution_count": 84,
     "metadata": {},
     "output_type": "execute_result"
    }
   ],
   "source": [
    "X_new = [[3, 5, 6, 4, 2, 1], [6, 5, 4, 3, 2, 1]]                       \n",
    "knn.predict(X_new)"
   ]
  },
  {
   "cell_type": "code",
   "execution_count": 85,
   "metadata": {},
   "outputs": [
    {
     "name": "stdout",
     "output_type": "stream",
     "text": [
      "[0 4]\n"
     ]
    }
   ],
   "source": [
    "knn = KNeighborsClassifier(n_neighbors=5)\n",
    "knn.fit(X, y)\n",
    "\n",
    "print(knn.predict(X_new))\n",
    "\n",
    "kypred = knn.predict(X)"
   ]
  },
  {
   "cell_type": "code",
   "execution_count": 87,
   "metadata": {},
   "outputs": [
    {
     "data": {
      "image/png": "[encoded data removed]",
      "text/plain": [
       "<Figure size 432x288 with 1 Axes>"
      ]
     },
     "metadata": {
      "needs_background": "light"
     },
     "output_type": "display_data"
    }
   ],
   "source": [
    "from sklearn import metrics\n",
    "v=[]\n",
    "\n",
    "k_range = list(range(1, 50))\n",
    "for i in k_range:\n",
    "    knn = KNeighborsClassifier(n_neighbors=i)\n",
    "    \n",
    "    knn.fit(X, y)\n",
    "    k_pred = knn.predict(X)\n",
    "    v.append( metrics.accuracy_score(y, k_pred))\n",
    "\n",
    "\n",
    "import matplotlib.pyplot as plt\n",
    "plt.plot(k_range,v,c='Green',)\n",
    "plt.show()"
   ]
  },
  {
   "cell_type": "code",
   "execution_count": 88,
   "metadata": {},
   "outputs": [
    {
     "name": "stdout",
     "output_type": "stream",
     "text": [
      "0.388671875\n"
     ]
    }
   ],
   "source": [
    "\n",
    "from sklearn import metrics\n",
    "print(metrics.accuracy_score(y, kypred))"
   ]
  },
  {
   "cell_type": "code",
   "execution_count": 89,
   "metadata": {},
   "outputs": [],
   "source": [
    "from sklearn.model_selection import train_test_split\n",
    "X_train, X_test, y_train, y_test = train_test_split(X, y, test_size=0.4, random_state=4)"
   ]
  },
  {
   "cell_type": "code",
   "execution_count": 90,
   "metadata": {},
   "outputs": [
    {
     "name": "stdout",
     "output_type": "stream",
     "text": [
      "(307, 6)\n",
      "(307,)\n"
     ]
    }
   ],
   "source": [
    "print(X_train.shape)\n",
    "print(y_train.shape)"
   ]
  },
  {
   "cell_type": "code",
   "execution_count": 91,
   "metadata": {},
   "outputs": [
    {
     "data": {
      "text/plain": [
       "0.16585365853658537"
      ]
     },
     "execution_count": 91,
     "metadata": {},
     "output_type": "execute_result"
    }
   ],
   "source": [
    "knn = KNeighborsClassifier(n_neighbors=12)\n",
    "\n",
    "knn.fit(X_train, y_train)\n",
    "k_pred = knn.predict(X_test)\n",
    "\n",
    "metrics.accuracy_score(y_test, k_pred)"
   ]
  },
  {
   "cell_type": "code",
   "execution_count": 93,
   "metadata": {},
   "outputs": [
    {
     "data": {
      "image/png": "[encoded data removed]",
      "text/plain": [
       "<Figure size 432x288 with 1 Axes>"
      ]
     },
     "metadata": {
      "needs_background": "light"
     },
     "output_type": "display_data"
    }
   ],
   "source": [
    "from sklearn import metrics\n",
    "v=[]\n",
    "\n",
    "\n",
    "k_range = list(range(1, 50))\n",
    "for i in k_range:\n",
    "    knn = KNeighborsClassifier(n_neighbors=i)\n",
    "    \n",
    "    knn.fit(X_train, y_train)\n",
    "    k_pred = knn.predict(X_test)\n",
    "    v.append( metrics.accuracy_score(y_test, k_pred))\n",
    "\n",
    "\n",
    "\n",
    "import matplotlib.pyplot as plt\n",
    "plt.plot(k_range,v)\n",
    "\n",
    "plt.show()"
   ]
  }
 ],
 "metadata": {
  "interpreter": {
   "hash": "057fd5ff141c71cf3cd473b23444558c36ccf589c0a561d6383bef9cc6bbac53"
  },
  "kernelspec": {
   "display_name": "Python 3.8.8 64-bit ('base': conda)",
   "name": "python3"
  },
  "language_info": {
   "codemirror_mode": {
    "name": "ipython",
    "version": 3
   },
   "file_extension": ".py",
   "mimetype": "text/x-python",
   "name": "python",
   "nbconvert_exporter": "python",
   "pygments_lexer": "ipython3",
   "version": "3.8.8"
  },
  "orig_nbformat": 4
 },
 "nbformat": 4,
 "nbformat_minor": 2
}
